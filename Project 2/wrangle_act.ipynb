{
  "cells": [
    {
      "cell_type": "markdown",
      "metadata": {
        "extensions": {
          "jupyter_dashboards": {
            "version": 1,
            "views": {
              "grid_default": {
                "col": 0,
                "height": 4,
                "hidden": false,
                "row": 0,
                "width": 4
              },
              "report_default": {
                "hidden": false
              }
            }
          }
        },
        "id": "Ug_AYVWYPbH7"
      },
      "source": [
        "# Project: Wrangling and Analyze Data\n",
        "\n",
        "Author: MAAROUFI Sirine"
      ]
    },
    {
      "cell_type": "markdown",
      "metadata": {
        "id": "YYSW2J6SPbIE"
      },
      "source": [
        "#### Table of Contents\n",
        "\n",
        "* Introduction\n",
        "* Gathering data\n",
        "* Assessing data\n",
        "* Cleaning data\n",
        "* Storing, Analyzing, and Visualizing"
      ]
    },
    {
      "cell_type": "markdown",
      "metadata": {
        "id": "nGcTGcpSPbIG"
      },
      "source": [
        "## Introduction\n",
        "In this project, the goal is to wrangle WeRateDogs Twitter Data. The data will be gathered from different sources, assessed and then cleaned so it will be ready to perform analysis and visualisations on it."
      ]
    },
    {
      "cell_type": "markdown",
      "metadata": {
        "id": "d4fkpD80PbII"
      },
      "source": [
        "## Data Gathering"
      ]
    },
    {
      "cell_type": "markdown",
      "metadata": {
        "id": "TyJUHNB7PbIJ"
      },
      "source": [
        "#### 1. Enhanced Twitter Archive"
      ]
    },
    {
      "cell_type": "code",
      "execution_count": null,
      "metadata": {
        "id": "wp1irYxXPbIK"
      },
      "outputs": [],
      "source": [
        "# Import necessary Libraries\n",
        "import pandas as pd\n",
        "import numpy as np\n",
        "import requests\n",
        "import tweepy\n",
        "import matplotlib.pyplot as plt\n",
        "%matplotlib inline"
      ]
    },
    {
      "cell_type": "code",
      "execution_count": null,
      "metadata": {
        "extensions": {
          "jupyter_dashboards": {
            "version": 1,
            "views": {
              "grid_default": {
                "hidden": true
              },
              "report_default": {
                "hidden": true
              }
            }
          }
        },
        "id": "b4ehTL8nPbIN"
      },
      "outputs": [],
      "source": [
        "# load twitter archive\n",
        "twitter_archive = pd.read_csv(\"twitter-archive-enhanced.csv\")"
      ]
    },
    {
      "cell_type": "code",
      "execution_count": null,
      "metadata": {
        "scrolled": true,
        "id": "Pi11P6pfPbIO",
        "outputId": "b81571ba-369f-44fa-ff71-75bb9c7d47c3"
      },
      "outputs": [
        {
          "data": {
            "text/html": [
              "<div>\n",
              "<style scoped>\n",
              "    .dataframe tbody tr th:only-of-type {\n",
              "        vertical-align: middle;\n",
              "    }\n",
              "\n",
              "    .dataframe tbody tr th {\n",
              "        vertical-align: top;\n",
              "    }\n",
              "\n",
              "    .dataframe thead th {\n",
              "        text-align: right;\n",
              "    }\n",
              "</style>\n",
              "<table border=\"1\" class=\"dataframe\">\n",
              "  <thead>\n",
              "    <tr style=\"text-align: right;\">\n",
              "      <th></th>\n",
              "      <th>tweet_id</th>\n",
              "      <th>in_reply_to_status_id</th>\n",
              "      <th>in_reply_to_user_id</th>\n",
              "      <th>timestamp</th>\n",
              "      <th>source</th>\n",
              "      <th>text</th>\n",
              "      <th>retweeted_status_id</th>\n",
              "      <th>retweeted_status_user_id</th>\n",
              "      <th>retweeted_status_timestamp</th>\n",
              "      <th>expanded_urls</th>\n",
              "      <th>rating_numerator</th>\n",
              "      <th>rating_denominator</th>\n",
              "      <th>name</th>\n",
              "      <th>doggo</th>\n",
              "      <th>floofer</th>\n",
              "      <th>pupper</th>\n",
              "      <th>puppo</th>\n",
              "    </tr>\n",
              "  </thead>\n",
              "  <tbody>\n",
              "    <tr>\n",
              "      <th>0</th>\n",
              "      <td>892420643555336193</td>\n",
              "      <td>NaN</td>\n",
              "      <td>NaN</td>\n",
              "      <td>2017-08-01 16:23:56 +0000</td>\n",
              "      <td>&lt;a href=\"http://twitter.com/download/iphone\" r...</td>\n",
              "      <td>This is Phineas. He's a mystical boy. Only eve...</td>\n",
              "      <td>NaN</td>\n",
              "      <td>NaN</td>\n",
              "      <td>NaN</td>\n",
              "      <td>https://twitter.com/dog_rates/status/892420643...</td>\n",
              "      <td>13</td>\n",
              "      <td>10</td>\n",
              "      <td>Phineas</td>\n",
              "      <td>None</td>\n",
              "      <td>None</td>\n",
              "      <td>None</td>\n",
              "      <td>None</td>\n",
              "    </tr>\n",
              "    <tr>\n",
              "      <th>1</th>\n",
              "      <td>892177421306343426</td>\n",
              "      <td>NaN</td>\n",
              "      <td>NaN</td>\n",
              "      <td>2017-08-01 00:17:27 +0000</td>\n",
              "      <td>&lt;a href=\"http://twitter.com/download/iphone\" r...</td>\n",
              "      <td>This is Tilly. She's just checking pup on you....</td>\n",
              "      <td>NaN</td>\n",
              "      <td>NaN</td>\n",
              "      <td>NaN</td>\n",
              "      <td>https://twitter.com/dog_rates/status/892177421...</td>\n",
              "      <td>13</td>\n",
              "      <td>10</td>\n",
              "      <td>Tilly</td>\n",
              "      <td>None</td>\n",
              "      <td>None</td>\n",
              "      <td>None</td>\n",
              "      <td>None</td>\n",
              "    </tr>\n",
              "    <tr>\n",
              "      <th>2</th>\n",
              "      <td>891815181378084864</td>\n",
              "      <td>NaN</td>\n",
              "      <td>NaN</td>\n",
              "      <td>2017-07-31 00:18:03 +0000</td>\n",
              "      <td>&lt;a href=\"http://twitter.com/download/iphone\" r...</td>\n",
              "      <td>This is Archie. He is a rare Norwegian Pouncin...</td>\n",
              "      <td>NaN</td>\n",
              "      <td>NaN</td>\n",
              "      <td>NaN</td>\n",
              "      <td>https://twitter.com/dog_rates/status/891815181...</td>\n",
              "      <td>12</td>\n",
              "      <td>10</td>\n",
              "      <td>Archie</td>\n",
              "      <td>None</td>\n",
              "      <td>None</td>\n",
              "      <td>None</td>\n",
              "      <td>None</td>\n",
              "    </tr>\n",
              "    <tr>\n",
              "      <th>3</th>\n",
              "      <td>891689557279858688</td>\n",
              "      <td>NaN</td>\n",
              "      <td>NaN</td>\n",
              "      <td>2017-07-30 15:58:51 +0000</td>\n",
              "      <td>&lt;a href=\"http://twitter.com/download/iphone\" r...</td>\n",
              "      <td>This is Darla. She commenced a snooze mid meal...</td>\n",
              "      <td>NaN</td>\n",
              "      <td>NaN</td>\n",
              "      <td>NaN</td>\n",
              "      <td>https://twitter.com/dog_rates/status/891689557...</td>\n",
              "      <td>13</td>\n",
              "      <td>10</td>\n",
              "      <td>Darla</td>\n",
              "      <td>None</td>\n",
              "      <td>None</td>\n",
              "      <td>None</td>\n",
              "      <td>None</td>\n",
              "    </tr>\n",
              "    <tr>\n",
              "      <th>4</th>\n",
              "      <td>891327558926688256</td>\n",
              "      <td>NaN</td>\n",
              "      <td>NaN</td>\n",
              "      <td>2017-07-29 16:00:24 +0000</td>\n",
              "      <td>&lt;a href=\"http://twitter.com/download/iphone\" r...</td>\n",
              "      <td>This is Franklin. He would like you to stop ca...</td>\n",
              "      <td>NaN</td>\n",
              "      <td>NaN</td>\n",
              "      <td>NaN</td>\n",
              "      <td>https://twitter.com/dog_rates/status/891327558...</td>\n",
              "      <td>12</td>\n",
              "      <td>10</td>\n",
              "      <td>Franklin</td>\n",
              "      <td>None</td>\n",
              "      <td>None</td>\n",
              "      <td>None</td>\n",
              "      <td>None</td>\n",
              "    </tr>\n",
              "  </tbody>\n",
              "</table>\n",
              "</div>"
            ],
            "text/plain": [
              "             tweet_id  in_reply_to_status_id  in_reply_to_user_id  \\\n",
              "0  892420643555336193                    NaN                  NaN   \n",
              "1  892177421306343426                    NaN                  NaN   \n",
              "2  891815181378084864                    NaN                  NaN   \n",
              "3  891689557279858688                    NaN                  NaN   \n",
              "4  891327558926688256                    NaN                  NaN   \n",
              "\n",
              "                   timestamp  \\\n",
              "0  2017-08-01 16:23:56 +0000   \n",
              "1  2017-08-01 00:17:27 +0000   \n",
              "2  2017-07-31 00:18:03 +0000   \n",
              "3  2017-07-30 15:58:51 +0000   \n",
              "4  2017-07-29 16:00:24 +0000   \n",
              "\n",
              "                                              source  \\\n",
              "0  <a href=\"http://twitter.com/download/iphone\" r...   \n",
              "1  <a href=\"http://twitter.com/download/iphone\" r...   \n",
              "2  <a href=\"http://twitter.com/download/iphone\" r...   \n",
              "3  <a href=\"http://twitter.com/download/iphone\" r...   \n",
              "4  <a href=\"http://twitter.com/download/iphone\" r...   \n",
              "\n",
              "                                                text  retweeted_status_id  \\\n",
              "0  This is Phineas. He's a mystical boy. Only eve...                  NaN   \n",
              "1  This is Tilly. She's just checking pup on you....                  NaN   \n",
              "2  This is Archie. He is a rare Norwegian Pouncin...                  NaN   \n",
              "3  This is Darla. She commenced a snooze mid meal...                  NaN   \n",
              "4  This is Franklin. He would like you to stop ca...                  NaN   \n",
              "\n",
              "   retweeted_status_user_id retweeted_status_timestamp  \\\n",
              "0                       NaN                        NaN   \n",
              "1                       NaN                        NaN   \n",
              "2                       NaN                        NaN   \n",
              "3                       NaN                        NaN   \n",
              "4                       NaN                        NaN   \n",
              "\n",
              "                                       expanded_urls  rating_numerator  \\\n",
              "0  https://twitter.com/dog_rates/status/892420643...                13   \n",
              "1  https://twitter.com/dog_rates/status/892177421...                13   \n",
              "2  https://twitter.com/dog_rates/status/891815181...                12   \n",
              "3  https://twitter.com/dog_rates/status/891689557...                13   \n",
              "4  https://twitter.com/dog_rates/status/891327558...                12   \n",
              "\n",
              "   rating_denominator      name doggo floofer pupper puppo  \n",
              "0                  10   Phineas  None    None   None  None  \n",
              "1                  10     Tilly  None    None   None  None  \n",
              "2                  10    Archie  None    None   None  None  \n",
              "3                  10     Darla  None    None   None  None  \n",
              "4                  10  Franklin  None    None   None  None  "
            ]
          },
          "execution_count": 3,
          "metadata": {},
          "output_type": "execute_result"
        }
      ],
      "source": [
        "# Display few lines of the data\n",
        "twitter_archive.head()"
      ]
    },
    {
      "cell_type": "code",
      "execution_count": null,
      "metadata": {
        "id": "X4PlxcMMPbIR",
        "outputId": "698c1279-73de-4903-c2d5-231138ca63a7"
      },
      "outputs": [
        {
          "name": "stdout",
          "output_type": "stream",
          "text": [
            "<class 'pandas.core.frame.DataFrame'>\n",
            "RangeIndex: 2356 entries, 0 to 2355\n",
            "Data columns (total 17 columns):\n",
            "tweet_id                      2356 non-null int64\n",
            "in_reply_to_status_id         78 non-null float64\n",
            "in_reply_to_user_id           78 non-null float64\n",
            "timestamp                     2356 non-null object\n",
            "source                        2356 non-null object\n",
            "text                          2356 non-null object\n",
            "retweeted_status_id           181 non-null float64\n",
            "retweeted_status_user_id      181 non-null float64\n",
            "retweeted_status_timestamp    181 non-null object\n",
            "expanded_urls                 2297 non-null object\n",
            "rating_numerator              2356 non-null int64\n",
            "rating_denominator            2356 non-null int64\n",
            "name                          2356 non-null object\n",
            "doggo                         2356 non-null object\n",
            "floofer                       2356 non-null object\n",
            "pupper                        2356 non-null object\n",
            "puppo                         2356 non-null object\n",
            "dtypes: float64(4), int64(3), object(10)\n",
            "memory usage: 313.0+ KB\n"
          ]
        }
      ],
      "source": [
        "# Display Data's infos\n",
        "twitter_archive.info()"
      ]
    },
    {
      "cell_type": "markdown",
      "metadata": {
        "id": "aP2o4N9SPbIS"
      },
      "source": [
        "#### 2. Tweet Image Prediction"
      ]
    },
    {
      "cell_type": "markdown",
      "metadata": {
        "id": "WyBDw5mgPbIT"
      },
      "source": [
        "The file (image_predictions.tsv) is present in each tweet according to a neural network. It is hosted on Udacity's servers and should be downloaded programmatically using the Requests library and the following URL: https://d17h27t6h515a5.cloudfront.net/topher/2017/August/599fd2ad_image-predictions/image-predictions.tsv"
      ]
    },
    {
      "cell_type": "code",
      "execution_count": null,
      "metadata": {
        "scrolled": true,
        "id": "MDeWqPGjPbIT"
      },
      "outputs": [],
      "source": [
        "# Download the file programmatically\n",
        "url = 'https://d17h27t6h515a5.cloudfront.net/topher/2017/August/599fd2ad_image-predictions/image-predictions.tsv'\n",
        "with open('image-predictions.tsv' , 'wb') as file:\n",
        "    im_predictions = requests.get(url)\n",
        "    file.write(im_predictions.content)"
      ]
    },
    {
      "cell_type": "code",
      "execution_count": null,
      "metadata": {
        "id": "Sryog9IrPbIU",
        "outputId": "e1972103-400c-4a85-e72e-deb8938e076d"
      },
      "outputs": [
        {
          "data": {
            "text/html": [
              "<div>\n",
              "<style scoped>\n",
              "    .dataframe tbody tr th:only-of-type {\n",
              "        vertical-align: middle;\n",
              "    }\n",
              "\n",
              "    .dataframe tbody tr th {\n",
              "        vertical-align: top;\n",
              "    }\n",
              "\n",
              "    .dataframe thead th {\n",
              "        text-align: right;\n",
              "    }\n",
              "</style>\n",
              "<table border=\"1\" class=\"dataframe\">\n",
              "  <thead>\n",
              "    <tr style=\"text-align: right;\">\n",
              "      <th></th>\n",
              "      <th>tweet_id</th>\n",
              "      <th>jpg_url</th>\n",
              "      <th>img_num</th>\n",
              "      <th>p1</th>\n",
              "      <th>p1_conf</th>\n",
              "      <th>p1_dog</th>\n",
              "      <th>p2</th>\n",
              "      <th>p2_conf</th>\n",
              "      <th>p2_dog</th>\n",
              "      <th>p3</th>\n",
              "      <th>p3_conf</th>\n",
              "      <th>p3_dog</th>\n",
              "    </tr>\n",
              "  </thead>\n",
              "  <tbody>\n",
              "    <tr>\n",
              "      <th>0</th>\n",
              "      <td>666020888022790149</td>\n",
              "      <td>https://pbs.twimg.com/media/CT4udn0WwAA0aMy.jpg</td>\n",
              "      <td>1</td>\n",
              "      <td>Welsh_springer_spaniel</td>\n",
              "      <td>0.465074</td>\n",
              "      <td>True</td>\n",
              "      <td>collie</td>\n",
              "      <td>0.156665</td>\n",
              "      <td>True</td>\n",
              "      <td>Shetland_sheepdog</td>\n",
              "      <td>0.061428</td>\n",
              "      <td>True</td>\n",
              "    </tr>\n",
              "    <tr>\n",
              "      <th>1</th>\n",
              "      <td>666029285002620928</td>\n",
              "      <td>https://pbs.twimg.com/media/CT42GRgUYAA5iDo.jpg</td>\n",
              "      <td>1</td>\n",
              "      <td>redbone</td>\n",
              "      <td>0.506826</td>\n",
              "      <td>True</td>\n",
              "      <td>miniature_pinscher</td>\n",
              "      <td>0.074192</td>\n",
              "      <td>True</td>\n",
              "      <td>Rhodesian_ridgeback</td>\n",
              "      <td>0.072010</td>\n",
              "      <td>True</td>\n",
              "    </tr>\n",
              "    <tr>\n",
              "      <th>2</th>\n",
              "      <td>666033412701032449</td>\n",
              "      <td>https://pbs.twimg.com/media/CT4521TWwAEvMyu.jpg</td>\n",
              "      <td>1</td>\n",
              "      <td>German_shepherd</td>\n",
              "      <td>0.596461</td>\n",
              "      <td>True</td>\n",
              "      <td>malinois</td>\n",
              "      <td>0.138584</td>\n",
              "      <td>True</td>\n",
              "      <td>bloodhound</td>\n",
              "      <td>0.116197</td>\n",
              "      <td>True</td>\n",
              "    </tr>\n",
              "    <tr>\n",
              "      <th>3</th>\n",
              "      <td>666044226329800704</td>\n",
              "      <td>https://pbs.twimg.com/media/CT5Dr8HUEAA-lEu.jpg</td>\n",
              "      <td>1</td>\n",
              "      <td>Rhodesian_ridgeback</td>\n",
              "      <td>0.408143</td>\n",
              "      <td>True</td>\n",
              "      <td>redbone</td>\n",
              "      <td>0.360687</td>\n",
              "      <td>True</td>\n",
              "      <td>miniature_pinscher</td>\n",
              "      <td>0.222752</td>\n",
              "      <td>True</td>\n",
              "    </tr>\n",
              "    <tr>\n",
              "      <th>4</th>\n",
              "      <td>666049248165822465</td>\n",
              "      <td>https://pbs.twimg.com/media/CT5IQmsXIAAKY4A.jpg</td>\n",
              "      <td>1</td>\n",
              "      <td>miniature_pinscher</td>\n",
              "      <td>0.560311</td>\n",
              "      <td>True</td>\n",
              "      <td>Rottweiler</td>\n",
              "      <td>0.243682</td>\n",
              "      <td>True</td>\n",
              "      <td>Doberman</td>\n",
              "      <td>0.154629</td>\n",
              "      <td>True</td>\n",
              "    </tr>\n",
              "  </tbody>\n",
              "</table>\n",
              "</div>"
            ],
            "text/plain": [
              "             tweet_id                                          jpg_url  \\\n",
              "0  666020888022790149  https://pbs.twimg.com/media/CT4udn0WwAA0aMy.jpg   \n",
              "1  666029285002620928  https://pbs.twimg.com/media/CT42GRgUYAA5iDo.jpg   \n",
              "2  666033412701032449  https://pbs.twimg.com/media/CT4521TWwAEvMyu.jpg   \n",
              "3  666044226329800704  https://pbs.twimg.com/media/CT5Dr8HUEAA-lEu.jpg   \n",
              "4  666049248165822465  https://pbs.twimg.com/media/CT5IQmsXIAAKY4A.jpg   \n",
              "\n",
              "   img_num                      p1   p1_conf  p1_dog                  p2  \\\n",
              "0        1  Welsh_springer_spaniel  0.465074    True              collie   \n",
              "1        1                 redbone  0.506826    True  miniature_pinscher   \n",
              "2        1         German_shepherd  0.596461    True            malinois   \n",
              "3        1     Rhodesian_ridgeback  0.408143    True             redbone   \n",
              "4        1      miniature_pinscher  0.560311    True          Rottweiler   \n",
              "\n",
              "    p2_conf  p2_dog                   p3   p3_conf  p3_dog  \n",
              "0  0.156665    True    Shetland_sheepdog  0.061428    True  \n",
              "1  0.074192    True  Rhodesian_ridgeback  0.072010    True  \n",
              "2  0.138584    True           bloodhound  0.116197    True  \n",
              "3  0.360687    True   miniature_pinscher  0.222752    True  \n",
              "4  0.243682    True             Doberman  0.154629    True  "
            ]
          },
          "execution_count": 47,
          "metadata": {},
          "output_type": "execute_result"
        }
      ],
      "source": [
        "# load image predictions\n",
        "image_predictions = pd.read_csv('image-predictions.tsv', sep = '\\t')\n",
        "# display Data\n",
        "image_predictions.head()"
      ]
    },
    {
      "cell_type": "markdown",
      "metadata": {
        "id": "aP3XyJHsPbIV"
      },
      "source": [
        "#### 3. Additional data via the Twitter API"
      ]
    },
    {
      "cell_type": "markdown",
      "metadata": {
        "id": "WjRxdLoXPbIV"
      },
      "source": [
        "Twitter API file contains tweet id, favorite count and retweet count."
      ]
    },
    {
      "cell_type": "code",
      "execution_count": null,
      "metadata": {
        "scrolled": true,
        "id": "cO_8c3LFPbIV"
      },
      "outputs": [],
      "source": [
        "import tweepy\n",
        "from tweepy import OAuthHandler\n",
        "import json\n",
        "from timeit import default_timer as timer\n",
        "\n",
        "# Query Twitter API for each tweet in the Twitter archive and save JSON in a text file\n",
        "# These are hidden to comply with Twitter's API terms and conditions\n",
        "consumer_key = 'HIDDEN'\n",
        "consumer_secret = 'HIDDEN'\n",
        "access_token = 'HIDDEN'\n",
        "access_secret = 'HIDDEN'\n",
        "\n",
        "auth = OAuthHandler(consumer_key, consumer_secret)\n",
        "auth.set_access_token(access_token, access_secret)\n",
        "\n",
        "api = tweepy.API(auth, wait_on_rate_limit=True)\n",
        "\n",
        "# NOTE TO STUDENT WITH MOBILE VERIFICATION ISSUES:\n",
        "# df_1 is a DataFrame with the twitter_archive_enhanced.csv file. You may have to\n",
        "# change line 17 to match the name of your DataFrame with twitter_archive_enhanced.csv\n",
        "# NOTE TO REVIEWER: this student had mobile verification issues so the following\n",
        "# Twitter API code was sent to this student from a Udacity instructor\n",
        "# Tweet IDs for which to gather additional data via Twitter's API\n",
        "tweet_ids = twitter_archive.tweet_id.values\n",
        "len(tweet_ids)\n",
        "\n",
        "# Query Twitter's API for JSON data for each tweet ID in the Twitter archive\n",
        "count = 0\n",
        "fails_dict = {}\n",
        "start = timer()\n",
        "# Save each tweet's returned JSON as a new line in a .txt file\n",
        "with open('tweet_json.txt', 'w') as outfile:\n",
        "    # This loop will likely take 20-30 minutes to run because of Twitter's rate limit\n",
        "    for tweet_id in tweet_ids:\n",
        "        count += 1\n",
        "        print(str(count) + \": \" + str(tweet_id))\n",
        "        try:\n",
        "            tweet = api.get_status(tweet_id, tweet_mode='extended')\n",
        "            print(\"Success\")\n",
        "            json.dump(tweet._json, outfile)\n",
        "            outfile.write('\\n')\n",
        "        except tweepy.TweepError as e:\n",
        "            print(\"Fail\")\n",
        "            fails_dict[tweet_id] = e\n",
        "            pass\n",
        "end = timer()\n",
        "print(end - start)\n",
        "print(fails_dict)\n"
      ]
    },
    {
      "cell_type": "code",
      "execution_count": null,
      "metadata": {
        "id": "OMk0Ft2kPbIX"
      },
      "outputs": [],
      "source": [
        "# load twitter API data\n",
        "import json\n",
        "with open('tweet-json.txt') as f:\n",
        "    twitter_api = pd.DataFrame((json.loads(line) for line in f), columns = ['id', 'favorite_count', 'retweet_count'])"
      ]
    },
    {
      "cell_type": "code",
      "execution_count": null,
      "metadata": {
        "id": "2MMC3y2DPbIX",
        "outputId": "7a505afd-449c-42fa-f031-993511f3b1bf"
      },
      "outputs": [
        {
          "data": {
            "text/html": [
              "<div>\n",
              "<style scoped>\n",
              "    .dataframe tbody tr th:only-of-type {\n",
              "        vertical-align: middle;\n",
              "    }\n",
              "\n",
              "    .dataframe tbody tr th {\n",
              "        vertical-align: top;\n",
              "    }\n",
              "\n",
              "    .dataframe thead th {\n",
              "        text-align: right;\n",
              "    }\n",
              "</style>\n",
              "<table border=\"1\" class=\"dataframe\">\n",
              "  <thead>\n",
              "    <tr style=\"text-align: right;\">\n",
              "      <th></th>\n",
              "      <th>id</th>\n",
              "      <th>favorite_count</th>\n",
              "      <th>retweet_count</th>\n",
              "    </tr>\n",
              "  </thead>\n",
              "  <tbody>\n",
              "    <tr>\n",
              "      <th>0</th>\n",
              "      <td>892420643555336193</td>\n",
              "      <td>39467</td>\n",
              "      <td>8853</td>\n",
              "    </tr>\n",
              "    <tr>\n",
              "      <th>1</th>\n",
              "      <td>892177421306343426</td>\n",
              "      <td>33819</td>\n",
              "      <td>6514</td>\n",
              "    </tr>\n",
              "    <tr>\n",
              "      <th>2</th>\n",
              "      <td>891815181378084864</td>\n",
              "      <td>25461</td>\n",
              "      <td>4328</td>\n",
              "    </tr>\n",
              "    <tr>\n",
              "      <th>3</th>\n",
              "      <td>891689557279858688</td>\n",
              "      <td>42908</td>\n",
              "      <td>8964</td>\n",
              "    </tr>\n",
              "    <tr>\n",
              "      <th>4</th>\n",
              "      <td>891327558926688256</td>\n",
              "      <td>41048</td>\n",
              "      <td>9774</td>\n",
              "    </tr>\n",
              "  </tbody>\n",
              "</table>\n",
              "</div>"
            ],
            "text/plain": [
              "                   id  favorite_count  retweet_count\n",
              "0  892420643555336193           39467           8853\n",
              "1  892177421306343426           33819           6514\n",
              "2  891815181378084864           25461           4328\n",
              "3  891689557279858688           42908           8964\n",
              "4  891327558926688256           41048           9774"
            ]
          },
          "execution_count": 9,
          "metadata": {},
          "output_type": "execute_result"
        }
      ],
      "source": [
        "# Display Data\n",
        "twitter_api.head()"
      ]
    },
    {
      "cell_type": "code",
      "execution_count": null,
      "metadata": {
        "id": "CdtSGodZPbIY"
      },
      "outputs": [],
      "source": [
        "# Change column names\n",
        "twitter_api.columns = ['tweet_id', 'favorites', 'retweets']"
      ]
    },
    {
      "cell_type": "code",
      "execution_count": null,
      "metadata": {
        "id": "Iyl1KUCsPbIZ",
        "outputId": "b1939b1e-051d-4f45-e1ba-c17a69dc66cb"
      },
      "outputs": [
        {
          "data": {
            "text/html": [
              "<div>\n",
              "<style scoped>\n",
              "    .dataframe tbody tr th:only-of-type {\n",
              "        vertical-align: middle;\n",
              "    }\n",
              "\n",
              "    .dataframe tbody tr th {\n",
              "        vertical-align: top;\n",
              "    }\n",
              "\n",
              "    .dataframe thead th {\n",
              "        text-align: right;\n",
              "    }\n",
              "</style>\n",
              "<table border=\"1\" class=\"dataframe\">\n",
              "  <thead>\n",
              "    <tr style=\"text-align: right;\">\n",
              "      <th></th>\n",
              "      <th>tweet_id</th>\n",
              "      <th>favorites</th>\n",
              "      <th>retweets</th>\n",
              "    </tr>\n",
              "  </thead>\n",
              "  <tbody>\n",
              "    <tr>\n",
              "      <th>0</th>\n",
              "      <td>892420643555336193</td>\n",
              "      <td>39467</td>\n",
              "      <td>8853</td>\n",
              "    </tr>\n",
              "    <tr>\n",
              "      <th>1</th>\n",
              "      <td>892177421306343426</td>\n",
              "      <td>33819</td>\n",
              "      <td>6514</td>\n",
              "    </tr>\n",
              "    <tr>\n",
              "      <th>2</th>\n",
              "      <td>891815181378084864</td>\n",
              "      <td>25461</td>\n",
              "      <td>4328</td>\n",
              "    </tr>\n",
              "    <tr>\n",
              "      <th>3</th>\n",
              "      <td>891689557279858688</td>\n",
              "      <td>42908</td>\n",
              "      <td>8964</td>\n",
              "    </tr>\n",
              "    <tr>\n",
              "      <th>4</th>\n",
              "      <td>891327558926688256</td>\n",
              "      <td>41048</td>\n",
              "      <td>9774</td>\n",
              "    </tr>\n",
              "  </tbody>\n",
              "</table>\n",
              "</div>"
            ],
            "text/plain": [
              "             tweet_id  favorites  retweets\n",
              "0  892420643555336193      39467      8853\n",
              "1  892177421306343426      33819      6514\n",
              "2  891815181378084864      25461      4328\n",
              "3  891689557279858688      42908      8964\n",
              "4  891327558926688256      41048      9774"
            ]
          },
          "execution_count": 11,
          "metadata": {},
          "output_type": "execute_result"
        }
      ],
      "source": [
        "# Display Data\n",
        "twitter_api.head()"
      ]
    },
    {
      "cell_type": "markdown",
      "metadata": {
        "extensions": {
          "jupyter_dashboards": {
            "version": 1,
            "views": {
              "grid_default": {
                "col": 4,
                "height": 4,
                "hidden": false,
                "row": 28,
                "width": 4
              },
              "report_default": {
                "hidden": false
              }
            }
          }
        },
        "id": "fWpNAXUhPbIZ"
      },
      "source": [
        "## Assessing Data"
      ]
    },
    {
      "cell_type": "markdown",
      "metadata": {
        "id": "HJ2Dm-mtPbIa"
      },
      "source": [
        "##### 1. Enhanced Twitter Archive Data"
      ]
    },
    {
      "cell_type": "code",
      "execution_count": null,
      "metadata": {
        "scrolled": true,
        "id": "PxDtljnOPbIa",
        "outputId": "c34a4f4c-bed4-4cd3-dc44-c8af5a557eab"
      },
      "outputs": [
        {
          "data": {
            "text/html": [
              "<div>\n",
              "<style scoped>\n",
              "    .dataframe tbody tr th:only-of-type {\n",
              "        vertical-align: middle;\n",
              "    }\n",
              "\n",
              "    .dataframe tbody tr th {\n",
              "        vertical-align: top;\n",
              "    }\n",
              "\n",
              "    .dataframe thead th {\n",
              "        text-align: right;\n",
              "    }\n",
              "</style>\n",
              "<table border=\"1\" class=\"dataframe\">\n",
              "  <thead>\n",
              "    <tr style=\"text-align: right;\">\n",
              "      <th></th>\n",
              "      <th>tweet_id</th>\n",
              "      <th>in_reply_to_status_id</th>\n",
              "      <th>in_reply_to_user_id</th>\n",
              "      <th>timestamp</th>\n",
              "      <th>source</th>\n",
              "      <th>text</th>\n",
              "      <th>retweeted_status_id</th>\n",
              "      <th>retweeted_status_user_id</th>\n",
              "      <th>retweeted_status_timestamp</th>\n",
              "      <th>expanded_urls</th>\n",
              "      <th>rating_numerator</th>\n",
              "      <th>rating_denominator</th>\n",
              "      <th>name</th>\n",
              "      <th>doggo</th>\n",
              "      <th>floofer</th>\n",
              "      <th>pupper</th>\n",
              "      <th>puppo</th>\n",
              "    </tr>\n",
              "  </thead>\n",
              "  <tbody>\n",
              "    <tr>\n",
              "      <th>0</th>\n",
              "      <td>892420643555336193</td>\n",
              "      <td>NaN</td>\n",
              "      <td>NaN</td>\n",
              "      <td>2017-08-01 16:23:56 +0000</td>\n",
              "      <td>&lt;a href=\"http://twitter.com/download/iphone\" r...</td>\n",
              "      <td>This is Phineas. He's a mystical boy. Only eve...</td>\n",
              "      <td>NaN</td>\n",
              "      <td>NaN</td>\n",
              "      <td>NaN</td>\n",
              "      <td>https://twitter.com/dog_rates/status/892420643...</td>\n",
              "      <td>13</td>\n",
              "      <td>10</td>\n",
              "      <td>Phineas</td>\n",
              "      <td>None</td>\n",
              "      <td>None</td>\n",
              "      <td>None</td>\n",
              "      <td>None</td>\n",
              "    </tr>\n",
              "    <tr>\n",
              "      <th>1</th>\n",
              "      <td>892177421306343426</td>\n",
              "      <td>NaN</td>\n",
              "      <td>NaN</td>\n",
              "      <td>2017-08-01 00:17:27 +0000</td>\n",
              "      <td>&lt;a href=\"http://twitter.com/download/iphone\" r...</td>\n",
              "      <td>This is Tilly. She's just checking pup on you....</td>\n",
              "      <td>NaN</td>\n",
              "      <td>NaN</td>\n",
              "      <td>NaN</td>\n",
              "      <td>https://twitter.com/dog_rates/status/892177421...</td>\n",
              "      <td>13</td>\n",
              "      <td>10</td>\n",
              "      <td>Tilly</td>\n",
              "      <td>None</td>\n",
              "      <td>None</td>\n",
              "      <td>None</td>\n",
              "      <td>None</td>\n",
              "    </tr>\n",
              "    <tr>\n",
              "      <th>2</th>\n",
              "      <td>891815181378084864</td>\n",
              "      <td>NaN</td>\n",
              "      <td>NaN</td>\n",
              "      <td>2017-07-31 00:18:03 +0000</td>\n",
              "      <td>&lt;a href=\"http://twitter.com/download/iphone\" r...</td>\n",
              "      <td>This is Archie. He is a rare Norwegian Pouncin...</td>\n",
              "      <td>NaN</td>\n",
              "      <td>NaN</td>\n",
              "      <td>NaN</td>\n",
              "      <td>https://twitter.com/dog_rates/status/891815181...</td>\n",
              "      <td>12</td>\n",
              "      <td>10</td>\n",
              "      <td>Archie</td>\n",
              "      <td>None</td>\n",
              "      <td>None</td>\n",
              "      <td>None</td>\n",
              "      <td>None</td>\n",
              "    </tr>\n",
              "    <tr>\n",
              "      <th>3</th>\n",
              "      <td>891689557279858688</td>\n",
              "      <td>NaN</td>\n",
              "      <td>NaN</td>\n",
              "      <td>2017-07-30 15:58:51 +0000</td>\n",
              "      <td>&lt;a href=\"http://twitter.com/download/iphone\" r...</td>\n",
              "      <td>This is Darla. She commenced a snooze mid meal...</td>\n",
              "      <td>NaN</td>\n",
              "      <td>NaN</td>\n",
              "      <td>NaN</td>\n",
              "      <td>https://twitter.com/dog_rates/status/891689557...</td>\n",
              "      <td>13</td>\n",
              "      <td>10</td>\n",
              "      <td>Darla</td>\n",
              "      <td>None</td>\n",
              "      <td>None</td>\n",
              "      <td>None</td>\n",
              "      <td>None</td>\n",
              "    </tr>\n",
              "    <tr>\n",
              "      <th>4</th>\n",
              "      <td>891327558926688256</td>\n",
              "      <td>NaN</td>\n",
              "      <td>NaN</td>\n",
              "      <td>2017-07-29 16:00:24 +0000</td>\n",
              "      <td>&lt;a href=\"http://twitter.com/download/iphone\" r...</td>\n",
              "      <td>This is Franklin. He would like you to stop ca...</td>\n",
              "      <td>NaN</td>\n",
              "      <td>NaN</td>\n",
              "      <td>NaN</td>\n",
              "      <td>https://twitter.com/dog_rates/status/891327558...</td>\n",
              "      <td>12</td>\n",
              "      <td>10</td>\n",
              "      <td>Franklin</td>\n",
              "      <td>None</td>\n",
              "      <td>None</td>\n",
              "      <td>None</td>\n",
              "      <td>None</td>\n",
              "    </tr>\n",
              "  </tbody>\n",
              "</table>\n",
              "</div>"
            ],
            "text/plain": [
              "             tweet_id  in_reply_to_status_id  in_reply_to_user_id  \\\n",
              "0  892420643555336193                    NaN                  NaN   \n",
              "1  892177421306343426                    NaN                  NaN   \n",
              "2  891815181378084864                    NaN                  NaN   \n",
              "3  891689557279858688                    NaN                  NaN   \n",
              "4  891327558926688256                    NaN                  NaN   \n",
              "\n",
              "                   timestamp  \\\n",
              "0  2017-08-01 16:23:56 +0000   \n",
              "1  2017-08-01 00:17:27 +0000   \n",
              "2  2017-07-31 00:18:03 +0000   \n",
              "3  2017-07-30 15:58:51 +0000   \n",
              "4  2017-07-29 16:00:24 +0000   \n",
              "\n",
              "                                              source  \\\n",
              "0  <a href=\"http://twitter.com/download/iphone\" r...   \n",
              "1  <a href=\"http://twitter.com/download/iphone\" r...   \n",
              "2  <a href=\"http://twitter.com/download/iphone\" r...   \n",
              "3  <a href=\"http://twitter.com/download/iphone\" r...   \n",
              "4  <a href=\"http://twitter.com/download/iphone\" r...   \n",
              "\n",
              "                                                text  retweeted_status_id  \\\n",
              "0  This is Phineas. He's a mystical boy. Only eve...                  NaN   \n",
              "1  This is Tilly. She's just checking pup on you....                  NaN   \n",
              "2  This is Archie. He is a rare Norwegian Pouncin...                  NaN   \n",
              "3  This is Darla. She commenced a snooze mid meal...                  NaN   \n",
              "4  This is Franklin. He would like you to stop ca...                  NaN   \n",
              "\n",
              "   retweeted_status_user_id retweeted_status_timestamp  \\\n",
              "0                       NaN                        NaN   \n",
              "1                       NaN                        NaN   \n",
              "2                       NaN                        NaN   \n",
              "3                       NaN                        NaN   \n",
              "4                       NaN                        NaN   \n",
              "\n",
              "                                       expanded_urls  rating_numerator  \\\n",
              "0  https://twitter.com/dog_rates/status/892420643...                13   \n",
              "1  https://twitter.com/dog_rates/status/892177421...                13   \n",
              "2  https://twitter.com/dog_rates/status/891815181...                12   \n",
              "3  https://twitter.com/dog_rates/status/891689557...                13   \n",
              "4  https://twitter.com/dog_rates/status/891327558...                12   \n",
              "\n",
              "   rating_denominator      name doggo floofer pupper puppo  \n",
              "0                  10   Phineas  None    None   None  None  \n",
              "1                  10     Tilly  None    None   None  None  \n",
              "2                  10    Archie  None    None   None  None  \n",
              "3                  10     Darla  None    None   None  None  \n",
              "4                  10  Franklin  None    None   None  None  "
            ]
          },
          "execution_count": 50,
          "metadata": {},
          "output_type": "execute_result"
        }
      ],
      "source": [
        "# Display Data\n",
        "twitter_archive.head()"
      ]
    },
    {
      "cell_type": "code",
      "execution_count": null,
      "metadata": {
        "scrolled": true,
        "id": "nVEaCYF6PbIa",
        "outputId": "68c0ef17-d357-4eaa-abb3-5478e7d600dc"
      },
      "outputs": [
        {
          "data": {
            "text/html": [
              "<div>\n",
              "<style scoped>\n",
              "    .dataframe tbody tr th:only-of-type {\n",
              "        vertical-align: middle;\n",
              "    }\n",
              "\n",
              "    .dataframe tbody tr th {\n",
              "        vertical-align: top;\n",
              "    }\n",
              "\n",
              "    .dataframe thead th {\n",
              "        text-align: right;\n",
              "    }\n",
              "</style>\n",
              "<table border=\"1\" class=\"dataframe\">\n",
              "  <thead>\n",
              "    <tr style=\"text-align: right;\">\n",
              "      <th></th>\n",
              "      <th>tweet_id</th>\n",
              "      <th>in_reply_to_status_id</th>\n",
              "      <th>in_reply_to_user_id</th>\n",
              "      <th>timestamp</th>\n",
              "      <th>source</th>\n",
              "      <th>text</th>\n",
              "      <th>retweeted_status_id</th>\n",
              "      <th>retweeted_status_user_id</th>\n",
              "      <th>retweeted_status_timestamp</th>\n",
              "      <th>expanded_urls</th>\n",
              "      <th>rating_numerator</th>\n",
              "      <th>rating_denominator</th>\n",
              "      <th>name</th>\n",
              "      <th>doggo</th>\n",
              "      <th>floofer</th>\n",
              "      <th>pupper</th>\n",
              "      <th>puppo</th>\n",
              "    </tr>\n",
              "  </thead>\n",
              "  <tbody>\n",
              "    <tr>\n",
              "      <th>671</th>\n",
              "      <td>789960241177853952</td>\n",
              "      <td>NaN</td>\n",
              "      <td>NaN</td>\n",
              "      <td>2016-10-22 22:42:52 +0000</td>\n",
              "      <td>&lt;a href=\"http://twitter.com/download/iphone\" r...</td>\n",
              "      <td>RT @dog_rates: This is Buddy. His father was a...</td>\n",
              "      <td>7.624645e+17</td>\n",
              "      <td>4.196984e+09</td>\n",
              "      <td>2016-08-08 01:44:46 +0000</td>\n",
              "      <td>https://twitter.com/dog_rates/status/762464539...</td>\n",
              "      <td>12</td>\n",
              "      <td>10</td>\n",
              "      <td>Buddy</td>\n",
              "      <td>None</td>\n",
              "      <td>None</td>\n",
              "      <td>None</td>\n",
              "      <td>None</td>\n",
              "    </tr>\n",
              "    <tr>\n",
              "      <th>2011</th>\n",
              "      <td>672245253877968896</td>\n",
              "      <td>NaN</td>\n",
              "      <td>NaN</td>\n",
              "      <td>2015-12-03 02:45:32 +0000</td>\n",
              "      <td>&lt;a href=\"http://twitter.com/download/iphone\" r...</td>\n",
              "      <td>Meet Snickers. He's adorable. Also comes in t-...</td>\n",
              "      <td>NaN</td>\n",
              "      <td>NaN</td>\n",
              "      <td>NaN</td>\n",
              "      <td>https://twitter.com/dog_rates/status/672245253...</td>\n",
              "      <td>12</td>\n",
              "      <td>10</td>\n",
              "      <td>Snickers</td>\n",
              "      <td>None</td>\n",
              "      <td>None</td>\n",
              "      <td>None</td>\n",
              "      <td>None</td>\n",
              "    </tr>\n",
              "    <tr>\n",
              "      <th>61</th>\n",
              "      <td>880221127280381952</td>\n",
              "      <td>NaN</td>\n",
              "      <td>NaN</td>\n",
              "      <td>2017-06-29 00:27:25 +0000</td>\n",
              "      <td>&lt;a href=\"http://twitter.com/download/iphone\" r...</td>\n",
              "      <td>Meet Jesse. He's a Fetty Woof. His tongue ejec...</td>\n",
              "      <td>NaN</td>\n",
              "      <td>NaN</td>\n",
              "      <td>NaN</td>\n",
              "      <td>https://twitter.com/dog_rates/status/880221127...</td>\n",
              "      <td>12</td>\n",
              "      <td>10</td>\n",
              "      <td>Jesse</td>\n",
              "      <td>None</td>\n",
              "      <td>None</td>\n",
              "      <td>None</td>\n",
              "      <td>None</td>\n",
              "    </tr>\n",
              "    <tr>\n",
              "      <th>536</th>\n",
              "      <td>807010152071229440</td>\n",
              "      <td>NaN</td>\n",
              "      <td>NaN</td>\n",
              "      <td>2016-12-08 23:53:08 +0000</td>\n",
              "      <td>&lt;a href=\"http://twitter.com/download/iphone\" r...</td>\n",
              "      <td>This is Lennon. He's a Boopershnoop Pupperdoop...</td>\n",
              "      <td>NaN</td>\n",
              "      <td>NaN</td>\n",
              "      <td>NaN</td>\n",
              "      <td>https://twitter.com/dog_rates/status/807010152...</td>\n",
              "      <td>12</td>\n",
              "      <td>10</td>\n",
              "      <td>Lennon</td>\n",
              "      <td>None</td>\n",
              "      <td>None</td>\n",
              "      <td>None</td>\n",
              "      <td>None</td>\n",
              "    </tr>\n",
              "    <tr>\n",
              "      <th>664</th>\n",
              "      <td>790723298204217344</td>\n",
              "      <td>NaN</td>\n",
              "      <td>NaN</td>\n",
              "      <td>2016-10-25 01:14:59 +0000</td>\n",
              "      <td>&lt;a href=\"http://twitter.com/download/iphone\" r...</td>\n",
              "      <td>RT @dog_rates: This is Happy. He's a bathtub r...</td>\n",
              "      <td>7.899865e+17</td>\n",
              "      <td>4.196984e+09</td>\n",
              "      <td>2016-10-23 00:27:05 +0000</td>\n",
              "      <td>https://twitter.com/dog_rates/status/789986466...</td>\n",
              "      <td>12</td>\n",
              "      <td>10</td>\n",
              "      <td>Happy</td>\n",
              "      <td>None</td>\n",
              "      <td>None</td>\n",
              "      <td>None</td>\n",
              "      <td>None</td>\n",
              "    </tr>\n",
              "    <tr>\n",
              "      <th>935</th>\n",
              "      <td>753398408988139520</td>\n",
              "      <td>NaN</td>\n",
              "      <td>NaN</td>\n",
              "      <td>2016-07-14 01:19:12 +0000</td>\n",
              "      <td>&lt;a href=\"http://twitter.com/download/iphone\" r...</td>\n",
              "      <td>This is Scout. Her batteries are low. 12/10 pr...</td>\n",
              "      <td>NaN</td>\n",
              "      <td>NaN</td>\n",
              "      <td>NaN</td>\n",
              "      <td>https://twitter.com/dog_rates/status/753398408...</td>\n",
              "      <td>12</td>\n",
              "      <td>10</td>\n",
              "      <td>Scout</td>\n",
              "      <td>None</td>\n",
              "      <td>None</td>\n",
              "      <td>None</td>\n",
              "      <td>None</td>\n",
              "    </tr>\n",
              "    <tr>\n",
              "      <th>1731</th>\n",
              "      <td>679844490799091713</td>\n",
              "      <td>NaN</td>\n",
              "      <td>NaN</td>\n",
              "      <td>2015-12-24 02:02:12 +0000</td>\n",
              "      <td>&lt;a href=\"http://twitter.com/download/iphone\" r...</td>\n",
              "      <td>This is Willie. He's floating away and needs y...</td>\n",
              "      <td>NaN</td>\n",
              "      <td>NaN</td>\n",
              "      <td>NaN</td>\n",
              "      <td>https://twitter.com/dog_rates/status/679844490...</td>\n",
              "      <td>10</td>\n",
              "      <td>10</td>\n",
              "      <td>Willie</td>\n",
              "      <td>None</td>\n",
              "      <td>None</td>\n",
              "      <td>None</td>\n",
              "      <td>None</td>\n",
              "    </tr>\n",
              "    <tr>\n",
              "      <th>435</th>\n",
              "      <td>820446719150292993</td>\n",
              "      <td>NaN</td>\n",
              "      <td>NaN</td>\n",
              "      <td>2017-01-15 01:45:15 +0000</td>\n",
              "      <td>&lt;a href=\"http://twitter.com/download/iphone\" r...</td>\n",
              "      <td>RT @dog_rates: This is Peaches. She's the ulti...</td>\n",
              "      <td>8.001414e+17</td>\n",
              "      <td>4.196984e+09</td>\n",
              "      <td>2016-11-20 00:59:15 +0000</td>\n",
              "      <td>https://twitter.com/dog_rates/status/800141422...</td>\n",
              "      <td>13</td>\n",
              "      <td>10</td>\n",
              "      <td>Peaches</td>\n",
              "      <td>None</td>\n",
              "      <td>None</td>\n",
              "      <td>None</td>\n",
              "      <td>None</td>\n",
              "    </tr>\n",
              "    <tr>\n",
              "      <th>1086</th>\n",
              "      <td>738166403467907072</td>\n",
              "      <td>NaN</td>\n",
              "      <td>NaN</td>\n",
              "      <td>2016-06-02 00:32:39 +0000</td>\n",
              "      <td>&lt;a href=\"http://twitter.com/download/iphone\" r...</td>\n",
              "      <td>This is Axel. He's a professional leaf catcher...</td>\n",
              "      <td>NaN</td>\n",
              "      <td>NaN</td>\n",
              "      <td>NaN</td>\n",
              "      <td>https://twitter.com/dog_rates/status/738166403...</td>\n",
              "      <td>12</td>\n",
              "      <td>10</td>\n",
              "      <td>Axel</td>\n",
              "      <td>None</td>\n",
              "      <td>None</td>\n",
              "      <td>None</td>\n",
              "      <td>None</td>\n",
              "    </tr>\n",
              "    <tr>\n",
              "      <th>1425</th>\n",
              "      <td>697943111201378304</td>\n",
              "      <td>NaN</td>\n",
              "      <td>NaN</td>\n",
              "      <td>2016-02-12 00:39:39 +0000</td>\n",
              "      <td>&lt;a href=\"http://twitter.com/download/iphone\" r...</td>\n",
              "      <td>This is Cassie. She goes door to door trying t...</td>\n",
              "      <td>NaN</td>\n",
              "      <td>NaN</td>\n",
              "      <td>NaN</td>\n",
              "      <td>https://twitter.com/dog_rates/status/697943111...</td>\n",
              "      <td>10</td>\n",
              "      <td>10</td>\n",
              "      <td>Cassie</td>\n",
              "      <td>None</td>\n",
              "      <td>None</td>\n",
              "      <td>None</td>\n",
              "      <td>None</td>\n",
              "    </tr>\n",
              "  </tbody>\n",
              "</table>\n",
              "</div>"
            ],
            "text/plain": [
              "                tweet_id  in_reply_to_status_id  in_reply_to_user_id  \\\n",
              "671   789960241177853952                    NaN                  NaN   \n",
              "2011  672245253877968896                    NaN                  NaN   \n",
              "61    880221127280381952                    NaN                  NaN   \n",
              "536   807010152071229440                    NaN                  NaN   \n",
              "664   790723298204217344                    NaN                  NaN   \n",
              "935   753398408988139520                    NaN                  NaN   \n",
              "1731  679844490799091713                    NaN                  NaN   \n",
              "435   820446719150292993                    NaN                  NaN   \n",
              "1086  738166403467907072                    NaN                  NaN   \n",
              "1425  697943111201378304                    NaN                  NaN   \n",
              "\n",
              "                      timestamp  \\\n",
              "671   2016-10-22 22:42:52 +0000   \n",
              "2011  2015-12-03 02:45:32 +0000   \n",
              "61    2017-06-29 00:27:25 +0000   \n",
              "536   2016-12-08 23:53:08 +0000   \n",
              "664   2016-10-25 01:14:59 +0000   \n",
              "935   2016-07-14 01:19:12 +0000   \n",
              "1731  2015-12-24 02:02:12 +0000   \n",
              "435   2017-01-15 01:45:15 +0000   \n",
              "1086  2016-06-02 00:32:39 +0000   \n",
              "1425  2016-02-12 00:39:39 +0000   \n",
              "\n",
              "                                                 source  \\\n",
              "671   <a href=\"http://twitter.com/download/iphone\" r...   \n",
              "2011  <a href=\"http://twitter.com/download/iphone\" r...   \n",
              "61    <a href=\"http://twitter.com/download/iphone\" r...   \n",
              "536   <a href=\"http://twitter.com/download/iphone\" r...   \n",
              "664   <a href=\"http://twitter.com/download/iphone\" r...   \n",
              "935   <a href=\"http://twitter.com/download/iphone\" r...   \n",
              "1731  <a href=\"http://twitter.com/download/iphone\" r...   \n",
              "435   <a href=\"http://twitter.com/download/iphone\" r...   \n",
              "1086  <a href=\"http://twitter.com/download/iphone\" r...   \n",
              "1425  <a href=\"http://twitter.com/download/iphone\" r...   \n",
              "\n",
              "                                                   text  retweeted_status_id  \\\n",
              "671   RT @dog_rates: This is Buddy. His father was a...         7.624645e+17   \n",
              "2011  Meet Snickers. He's adorable. Also comes in t-...                  NaN   \n",
              "61    Meet Jesse. He's a Fetty Woof. His tongue ejec...                  NaN   \n",
              "536   This is Lennon. He's a Boopershnoop Pupperdoop...                  NaN   \n",
              "664   RT @dog_rates: This is Happy. He's a bathtub r...         7.899865e+17   \n",
              "935   This is Scout. Her batteries are low. 12/10 pr...                  NaN   \n",
              "1731  This is Willie. He's floating away and needs y...                  NaN   \n",
              "435   RT @dog_rates: This is Peaches. She's the ulti...         8.001414e+17   \n",
              "1086  This is Axel. He's a professional leaf catcher...                  NaN   \n",
              "1425  This is Cassie. She goes door to door trying t...                  NaN   \n",
              "\n",
              "      retweeted_status_user_id retweeted_status_timestamp  \\\n",
              "671               4.196984e+09  2016-08-08 01:44:46 +0000   \n",
              "2011                       NaN                        NaN   \n",
              "61                         NaN                        NaN   \n",
              "536                        NaN                        NaN   \n",
              "664               4.196984e+09  2016-10-23 00:27:05 +0000   \n",
              "935                        NaN                        NaN   \n",
              "1731                       NaN                        NaN   \n",
              "435               4.196984e+09  2016-11-20 00:59:15 +0000   \n",
              "1086                       NaN                        NaN   \n",
              "1425                       NaN                        NaN   \n",
              "\n",
              "                                          expanded_urls  rating_numerator  \\\n",
              "671   https://twitter.com/dog_rates/status/762464539...                12   \n",
              "2011  https://twitter.com/dog_rates/status/672245253...                12   \n",
              "61    https://twitter.com/dog_rates/status/880221127...                12   \n",
              "536   https://twitter.com/dog_rates/status/807010152...                12   \n",
              "664   https://twitter.com/dog_rates/status/789986466...                12   \n",
              "935   https://twitter.com/dog_rates/status/753398408...                12   \n",
              "1731  https://twitter.com/dog_rates/status/679844490...                10   \n",
              "435   https://twitter.com/dog_rates/status/800141422...                13   \n",
              "1086  https://twitter.com/dog_rates/status/738166403...                12   \n",
              "1425  https://twitter.com/dog_rates/status/697943111...                10   \n",
              "\n",
              "      rating_denominator      name doggo floofer pupper puppo  \n",
              "671                   10     Buddy  None    None   None  None  \n",
              "2011                  10  Snickers  None    None   None  None  \n",
              "61                    10     Jesse  None    None   None  None  \n",
              "536                   10    Lennon  None    None   None  None  \n",
              "664                   10     Happy  None    None   None  None  \n",
              "935                   10     Scout  None    None   None  None  \n",
              "1731                  10    Willie  None    None   None  None  \n",
              "435                   10   Peaches  None    None   None  None  \n",
              "1086                  10      Axel  None    None   None  None  \n",
              "1425                  10    Cassie  None    None   None  None  "
            ]
          },
          "execution_count": 51,
          "metadata": {},
          "output_type": "execute_result"
        }
      ],
      "source": [
        "twitter_archive.sample(10)"
      ]
    },
    {
      "cell_type": "code",
      "execution_count": null,
      "metadata": {
        "scrolled": true,
        "id": "wAhP8qj0PbIb",
        "outputId": "5b15cbe5-dcb8-4870-ab0f-c3ddfbe14930"
      },
      "outputs": [
        {
          "name": "stdout",
          "output_type": "stream",
          "text": [
            "<class 'pandas.core.frame.DataFrame'>\n",
            "RangeIndex: 2356 entries, 0 to 2355\n",
            "Data columns (total 17 columns):\n",
            " #   Column                      Non-Null Count  Dtype  \n",
            "---  ------                      --------------  -----  \n",
            " 0   tweet_id                    2356 non-null   int64  \n",
            " 1   in_reply_to_status_id       78 non-null     float64\n",
            " 2   in_reply_to_user_id         78 non-null     float64\n",
            " 3   timestamp                   2356 non-null   object \n",
            " 4   source                      2356 non-null   object \n",
            " 5   text                        2356 non-null   object \n",
            " 6   retweeted_status_id         181 non-null    float64\n",
            " 7   retweeted_status_user_id    181 non-null    float64\n",
            " 8   retweeted_status_timestamp  181 non-null    object \n",
            " 9   expanded_urls               2297 non-null   object \n",
            " 10  rating_numerator            2356 non-null   int64  \n",
            " 11  rating_denominator          2356 non-null   int64  \n",
            " 12  name                        2356 non-null   object \n",
            " 13  doggo                       2356 non-null   object \n",
            " 14  floofer                     2356 non-null   object \n",
            " 15  pupper                      2356 non-null   object \n",
            " 16  puppo                       2356 non-null   object \n",
            "dtypes: float64(4), int64(3), object(10)\n",
            "memory usage: 313.0+ KB\n"
          ]
        }
      ],
      "source": [
        "twitter_archive.info()"
      ]
    },
    {
      "cell_type": "code",
      "execution_count": null,
      "metadata": {
        "scrolled": true,
        "id": "1MHYQp2qPbIb",
        "outputId": "6e2bc699-aec3-4814-ba9a-d1645460610a"
      },
      "outputs": [
        {
          "data": {
            "text/plain": [
              "<a href=\"http://twitter.com/download/iphone\" rel=\"nofollow\">Twitter for iPhone</a>     2221\n",
              "<a href=\"http://vine.co\" rel=\"nofollow\">Vine - Make a Scene</a>                          91\n",
              "<a href=\"http://twitter.com\" rel=\"nofollow\">Twitter Web Client</a>                       33\n",
              "<a href=\"https://about.twitter.com/products/tweetdeck\" rel=\"nofollow\">TweetDeck</a>      11\n",
              "Name: source, dtype: int64"
            ]
          },
          "execution_count": 53,
          "metadata": {},
          "output_type": "execute_result"
        }
      ],
      "source": [
        "twitter_archive.source.value_counts()"
      ]
    },
    {
      "cell_type": "markdown",
      "metadata": {
        "id": "E5LJdUl3PbIc"
      },
      "source": [
        "##### 2. Tweet Image Prediction   "
      ]
    },
    {
      "cell_type": "code",
      "execution_count": null,
      "metadata": {
        "scrolled": true,
        "id": "UtMNhKXcPbId",
        "outputId": "8b28900c-23da-4bdb-8445-deb80eaa9efe"
      },
      "outputs": [
        {
          "data": {
            "text/html": [
              "<div>\n",
              "<style scoped>\n",
              "    .dataframe tbody tr th:only-of-type {\n",
              "        vertical-align: middle;\n",
              "    }\n",
              "\n",
              "    .dataframe tbody tr th {\n",
              "        vertical-align: top;\n",
              "    }\n",
              "\n",
              "    .dataframe thead th {\n",
              "        text-align: right;\n",
              "    }\n",
              "</style>\n",
              "<table border=\"1\" class=\"dataframe\">\n",
              "  <thead>\n",
              "    <tr style=\"text-align: right;\">\n",
              "      <th></th>\n",
              "      <th>tweet_id</th>\n",
              "      <th>jpg_url</th>\n",
              "      <th>img_num</th>\n",
              "      <th>p1</th>\n",
              "      <th>p1_conf</th>\n",
              "      <th>p1_dog</th>\n",
              "      <th>p2</th>\n",
              "      <th>p2_conf</th>\n",
              "      <th>p2_dog</th>\n",
              "      <th>p3</th>\n",
              "      <th>p3_conf</th>\n",
              "      <th>p3_dog</th>\n",
              "    </tr>\n",
              "  </thead>\n",
              "  <tbody>\n",
              "    <tr>\n",
              "      <th>0</th>\n",
              "      <td>666020888022790149</td>\n",
              "      <td>https://pbs.twimg.com/media/CT4udn0WwAA0aMy.jpg</td>\n",
              "      <td>1</td>\n",
              "      <td>Welsh_springer_spaniel</td>\n",
              "      <td>0.465074</td>\n",
              "      <td>True</td>\n",
              "      <td>collie</td>\n",
              "      <td>0.156665</td>\n",
              "      <td>True</td>\n",
              "      <td>Shetland_sheepdog</td>\n",
              "      <td>0.061428</td>\n",
              "      <td>True</td>\n",
              "    </tr>\n",
              "    <tr>\n",
              "      <th>1</th>\n",
              "      <td>666029285002620928</td>\n",
              "      <td>https://pbs.twimg.com/media/CT42GRgUYAA5iDo.jpg</td>\n",
              "      <td>1</td>\n",
              "      <td>redbone</td>\n",
              "      <td>0.506826</td>\n",
              "      <td>True</td>\n",
              "      <td>miniature_pinscher</td>\n",
              "      <td>0.074192</td>\n",
              "      <td>True</td>\n",
              "      <td>Rhodesian_ridgeback</td>\n",
              "      <td>0.072010</td>\n",
              "      <td>True</td>\n",
              "    </tr>\n",
              "    <tr>\n",
              "      <th>2</th>\n",
              "      <td>666033412701032449</td>\n",
              "      <td>https://pbs.twimg.com/media/CT4521TWwAEvMyu.jpg</td>\n",
              "      <td>1</td>\n",
              "      <td>German_shepherd</td>\n",
              "      <td>0.596461</td>\n",
              "      <td>True</td>\n",
              "      <td>malinois</td>\n",
              "      <td>0.138584</td>\n",
              "      <td>True</td>\n",
              "      <td>bloodhound</td>\n",
              "      <td>0.116197</td>\n",
              "      <td>True</td>\n",
              "    </tr>\n",
              "    <tr>\n",
              "      <th>3</th>\n",
              "      <td>666044226329800704</td>\n",
              "      <td>https://pbs.twimg.com/media/CT5Dr8HUEAA-lEu.jpg</td>\n",
              "      <td>1</td>\n",
              "      <td>Rhodesian_ridgeback</td>\n",
              "      <td>0.408143</td>\n",
              "      <td>True</td>\n",
              "      <td>redbone</td>\n",
              "      <td>0.360687</td>\n",
              "      <td>True</td>\n",
              "      <td>miniature_pinscher</td>\n",
              "      <td>0.222752</td>\n",
              "      <td>True</td>\n",
              "    </tr>\n",
              "    <tr>\n",
              "      <th>4</th>\n",
              "      <td>666049248165822465</td>\n",
              "      <td>https://pbs.twimg.com/media/CT5IQmsXIAAKY4A.jpg</td>\n",
              "      <td>1</td>\n",
              "      <td>miniature_pinscher</td>\n",
              "      <td>0.560311</td>\n",
              "      <td>True</td>\n",
              "      <td>Rottweiler</td>\n",
              "      <td>0.243682</td>\n",
              "      <td>True</td>\n",
              "      <td>Doberman</td>\n",
              "      <td>0.154629</td>\n",
              "      <td>True</td>\n",
              "    </tr>\n",
              "  </tbody>\n",
              "</table>\n",
              "</div>"
            ],
            "text/plain": [
              "             tweet_id                                          jpg_url  \\\n",
              "0  666020888022790149  https://pbs.twimg.com/media/CT4udn0WwAA0aMy.jpg   \n",
              "1  666029285002620928  https://pbs.twimg.com/media/CT42GRgUYAA5iDo.jpg   \n",
              "2  666033412701032449  https://pbs.twimg.com/media/CT4521TWwAEvMyu.jpg   \n",
              "3  666044226329800704  https://pbs.twimg.com/media/CT5Dr8HUEAA-lEu.jpg   \n",
              "4  666049248165822465  https://pbs.twimg.com/media/CT5IQmsXIAAKY4A.jpg   \n",
              "\n",
              "   img_num                      p1   p1_conf  p1_dog                  p2  \\\n",
              "0        1  Welsh_springer_spaniel  0.465074    True              collie   \n",
              "1        1                 redbone  0.506826    True  miniature_pinscher   \n",
              "2        1         German_shepherd  0.596461    True            malinois   \n",
              "3        1     Rhodesian_ridgeback  0.408143    True             redbone   \n",
              "4        1      miniature_pinscher  0.560311    True          Rottweiler   \n",
              "\n",
              "    p2_conf  p2_dog                   p3   p3_conf  p3_dog  \n",
              "0  0.156665    True    Shetland_sheepdog  0.061428    True  \n",
              "1  0.074192    True  Rhodesian_ridgeback  0.072010    True  \n",
              "2  0.138584    True           bloodhound  0.116197    True  \n",
              "3  0.360687    True   miniature_pinscher  0.222752    True  \n",
              "4  0.243682    True             Doberman  0.154629    True  "
            ]
          },
          "execution_count": 54,
          "metadata": {},
          "output_type": "execute_result"
        }
      ],
      "source": [
        "image_predictions.head()"
      ]
    },
    {
      "cell_type": "code",
      "execution_count": null,
      "metadata": {
        "scrolled": true,
        "id": "Cdem7-TePbId",
        "outputId": "7b8fc2e7-ccb3-4254-efd0-7e481326bf89"
      },
      "outputs": [
        {
          "data": {
            "text/html": [
              "<div>\n",
              "<style scoped>\n",
              "    .dataframe tbody tr th:only-of-type {\n",
              "        vertical-align: middle;\n",
              "    }\n",
              "\n",
              "    .dataframe tbody tr th {\n",
              "        vertical-align: top;\n",
              "    }\n",
              "\n",
              "    .dataframe thead th {\n",
              "        text-align: right;\n",
              "    }\n",
              "</style>\n",
              "<table border=\"1\" class=\"dataframe\">\n",
              "  <thead>\n",
              "    <tr style=\"text-align: right;\">\n",
              "      <th></th>\n",
              "      <th>tweet_id</th>\n",
              "      <th>jpg_url</th>\n",
              "      <th>img_num</th>\n",
              "      <th>p1</th>\n",
              "      <th>p1_conf</th>\n",
              "      <th>p1_dog</th>\n",
              "      <th>p2</th>\n",
              "      <th>p2_conf</th>\n",
              "      <th>p2_dog</th>\n",
              "      <th>p3</th>\n",
              "      <th>p3_conf</th>\n",
              "      <th>p3_dog</th>\n",
              "    </tr>\n",
              "  </thead>\n",
              "  <tbody>\n",
              "    <tr>\n",
              "      <th>154</th>\n",
              "      <td>668779399630725120</td>\n",
              "      <td>https://pbs.twimg.com/media/CUf7UIaWUAEuKFr.jpg</td>\n",
              "      <td>1</td>\n",
              "      <td>Chesapeake_Bay_retriever</td>\n",
              "      <td>0.285508</td>\n",
              "      <td>True</td>\n",
              "      <td>Weimaraner</td>\n",
              "      <td>0.146832</td>\n",
              "      <td>True</td>\n",
              "      <td>black-footed_ferret</td>\n",
              "      <td>0.060865</td>\n",
              "      <td>False</td>\n",
              "    </tr>\n",
              "    <tr>\n",
              "      <th>695</th>\n",
              "      <td>684460069371654144</td>\n",
              "      <td>https://pbs.twimg.com/media/CX-wzZEUwAA4ISM.jpg</td>\n",
              "      <td>1</td>\n",
              "      <td>Labrador_retriever</td>\n",
              "      <td>0.673691</td>\n",
              "      <td>True</td>\n",
              "      <td>Chesapeake_Bay_retriever</td>\n",
              "      <td>0.194897</td>\n",
              "      <td>True</td>\n",
              "      <td>American_Staffordshire_terrier</td>\n",
              "      <td>0.059471</td>\n",
              "      <td>True</td>\n",
              "    </tr>\n",
              "    <tr>\n",
              "      <th>596</th>\n",
              "      <td>679527802031484928</td>\n",
              "      <td>https://pbs.twimg.com/media/CW4q7jDWkAA2y8g.jpg</td>\n",
              "      <td>1</td>\n",
              "      <td>mailbox</td>\n",
              "      <td>0.336393</td>\n",
              "      <td>False</td>\n",
              "      <td>cannon</td>\n",
              "      <td>0.158936</td>\n",
              "      <td>False</td>\n",
              "      <td>cuirass</td>\n",
              "      <td>0.052647</td>\n",
              "      <td>False</td>\n",
              "    </tr>\n",
              "    <tr>\n",
              "      <th>919</th>\n",
              "      <td>701889187134500865</td>\n",
              "      <td>https://pbs.twimg.com/media/Cb2cfd9WAAEL-zk.jpg</td>\n",
              "      <td>1</td>\n",
              "      <td>French_bulldog</td>\n",
              "      <td>0.902856</td>\n",
              "      <td>True</td>\n",
              "      <td>Staffordshire_bullterrier</td>\n",
              "      <td>0.022634</td>\n",
              "      <td>True</td>\n",
              "      <td>soap_dispenser</td>\n",
              "      <td>0.011973</td>\n",
              "      <td>False</td>\n",
              "    </tr>\n",
              "    <tr>\n",
              "      <th>703</th>\n",
              "      <td>684914660081053696</td>\n",
              "      <td>https://pbs.twimg.com/media/CYFOP6cWEAAWp-k.jpg</td>\n",
              "      <td>1</td>\n",
              "      <td>shopping_cart</td>\n",
              "      <td>0.460950</td>\n",
              "      <td>False</td>\n",
              "      <td>chow</td>\n",
              "      <td>0.261288</td>\n",
              "      <td>True</td>\n",
              "      <td>Labrador_retriever</td>\n",
              "      <td>0.074194</td>\n",
              "      <td>True</td>\n",
              "    </tr>\n",
              "    <tr>\n",
              "      <th>340</th>\n",
              "      <td>672248013293752320</td>\n",
              "      <td>https://pbs.twimg.com/media/CVROAIfWsAECA5t.jpg</td>\n",
              "      <td>1</td>\n",
              "      <td>Irish_terrier</td>\n",
              "      <td>0.413173</td>\n",
              "      <td>True</td>\n",
              "      <td>Airedale</td>\n",
              "      <td>0.335616</td>\n",
              "      <td>True</td>\n",
              "      <td>toy_poodle</td>\n",
              "      <td>0.027952</td>\n",
              "      <td>True</td>\n",
              "    </tr>\n",
              "    <tr>\n",
              "      <th>1327</th>\n",
              "      <td>757393109802180609</td>\n",
              "      <td>https://pbs.twimg.com/media/CoLNAq6WAAAkmdJ.jpg</td>\n",
              "      <td>2</td>\n",
              "      <td>Labrador_retriever</td>\n",
              "      <td>0.787125</td>\n",
              "      <td>True</td>\n",
              "      <td>Chesapeake_Bay_retriever</td>\n",
              "      <td>0.112676</td>\n",
              "      <td>True</td>\n",
              "      <td>Rottweiler</td>\n",
              "      <td>0.048039</td>\n",
              "      <td>True</td>\n",
              "    </tr>\n",
              "    <tr>\n",
              "      <th>293</th>\n",
              "      <td>671347597085433856</td>\n",
              "      <td>https://pbs.twimg.com/media/CVEbFDRWsAAkN_7.jpg</td>\n",
              "      <td>1</td>\n",
              "      <td>picket_fence</td>\n",
              "      <td>0.382918</td>\n",
              "      <td>False</td>\n",
              "      <td>rain_barrel</td>\n",
              "      <td>0.108809</td>\n",
              "      <td>False</td>\n",
              "      <td>plastic_bag</td>\n",
              "      <td>0.038878</td>\n",
              "      <td>False</td>\n",
              "    </tr>\n",
              "    <tr>\n",
              "      <th>1255</th>\n",
              "      <td>748346686624440324</td>\n",
              "      <td>https://pbs.twimg.com/media/CmKpVtlWAAEnyHm.jpg</td>\n",
              "      <td>1</td>\n",
              "      <td>borzoi</td>\n",
              "      <td>0.596455</td>\n",
              "      <td>True</td>\n",
              "      <td>whippet</td>\n",
              "      <td>0.231428</td>\n",
              "      <td>True</td>\n",
              "      <td>Saluki</td>\n",
              "      <td>0.058261</td>\n",
              "      <td>True</td>\n",
              "    </tr>\n",
              "    <tr>\n",
              "      <th>684</th>\n",
              "      <td>683852578183077888</td>\n",
              "      <td>https://pbs.twimg.com/media/CX2ISqSWYAAEtCF.jpg</td>\n",
              "      <td>1</td>\n",
              "      <td>toy_poodle</td>\n",
              "      <td>0.551352</td>\n",
              "      <td>True</td>\n",
              "      <td>teddy</td>\n",
              "      <td>0.180678</td>\n",
              "      <td>False</td>\n",
              "      <td>miniature_poodle</td>\n",
              "      <td>0.164095</td>\n",
              "      <td>True</td>\n",
              "    </tr>\n",
              "  </tbody>\n",
              "</table>\n",
              "</div>"
            ],
            "text/plain": [
              "                tweet_id                                          jpg_url  \\\n",
              "154   668779399630725120  https://pbs.twimg.com/media/CUf7UIaWUAEuKFr.jpg   \n",
              "695   684460069371654144  https://pbs.twimg.com/media/CX-wzZEUwAA4ISM.jpg   \n",
              "596   679527802031484928  https://pbs.twimg.com/media/CW4q7jDWkAA2y8g.jpg   \n",
              "919   701889187134500865  https://pbs.twimg.com/media/Cb2cfd9WAAEL-zk.jpg   \n",
              "703   684914660081053696  https://pbs.twimg.com/media/CYFOP6cWEAAWp-k.jpg   \n",
              "340   672248013293752320  https://pbs.twimg.com/media/CVROAIfWsAECA5t.jpg   \n",
              "1327  757393109802180609  https://pbs.twimg.com/media/CoLNAq6WAAAkmdJ.jpg   \n",
              "293   671347597085433856  https://pbs.twimg.com/media/CVEbFDRWsAAkN_7.jpg   \n",
              "1255  748346686624440324  https://pbs.twimg.com/media/CmKpVtlWAAEnyHm.jpg   \n",
              "684   683852578183077888  https://pbs.twimg.com/media/CX2ISqSWYAAEtCF.jpg   \n",
              "\n",
              "      img_num                        p1   p1_conf  p1_dog  \\\n",
              "154         1  Chesapeake_Bay_retriever  0.285508    True   \n",
              "695         1        Labrador_retriever  0.673691    True   \n",
              "596         1                   mailbox  0.336393   False   \n",
              "919         1            French_bulldog  0.902856    True   \n",
              "703         1             shopping_cart  0.460950   False   \n",
              "340         1             Irish_terrier  0.413173    True   \n",
              "1327        2        Labrador_retriever  0.787125    True   \n",
              "293         1              picket_fence  0.382918   False   \n",
              "1255        1                    borzoi  0.596455    True   \n",
              "684         1                toy_poodle  0.551352    True   \n",
              "\n",
              "                             p2   p2_conf  p2_dog  \\\n",
              "154                  Weimaraner  0.146832    True   \n",
              "695    Chesapeake_Bay_retriever  0.194897    True   \n",
              "596                      cannon  0.158936   False   \n",
              "919   Staffordshire_bullterrier  0.022634    True   \n",
              "703                        chow  0.261288    True   \n",
              "340                    Airedale  0.335616    True   \n",
              "1327   Chesapeake_Bay_retriever  0.112676    True   \n",
              "293                 rain_barrel  0.108809   False   \n",
              "1255                    whippet  0.231428    True   \n",
              "684                       teddy  0.180678   False   \n",
              "\n",
              "                                  p3   p3_conf  p3_dog  \n",
              "154              black-footed_ferret  0.060865   False  \n",
              "695   American_Staffordshire_terrier  0.059471    True  \n",
              "596                          cuirass  0.052647   False  \n",
              "919                   soap_dispenser  0.011973   False  \n",
              "703               Labrador_retriever  0.074194    True  \n",
              "340                       toy_poodle  0.027952    True  \n",
              "1327                      Rottweiler  0.048039    True  \n",
              "293                      plastic_bag  0.038878   False  \n",
              "1255                          Saluki  0.058261    True  \n",
              "684                 miniature_poodle  0.164095    True  "
            ]
          },
          "execution_count": 55,
          "metadata": {},
          "output_type": "execute_result"
        }
      ],
      "source": [
        "image_predictions.sample(10)"
      ]
    },
    {
      "cell_type": "code",
      "execution_count": null,
      "metadata": {
        "scrolled": false,
        "id": "FTfh0B9wPbIe",
        "outputId": "42825030-3dba-49d2-8e39-cba58b2180f8"
      },
      "outputs": [
        {
          "name": "stdout",
          "output_type": "stream",
          "text": [
            "<class 'pandas.core.frame.DataFrame'>\n",
            "RangeIndex: 2075 entries, 0 to 2074\n",
            "Data columns (total 12 columns):\n",
            " #   Column    Non-Null Count  Dtype  \n",
            "---  ------    --------------  -----  \n",
            " 0   tweet_id  2075 non-null   int64  \n",
            " 1   jpg_url   2075 non-null   object \n",
            " 2   img_num   2075 non-null   int64  \n",
            " 3   p1        2075 non-null   object \n",
            " 4   p1_conf   2075 non-null   float64\n",
            " 5   p1_dog    2075 non-null   bool   \n",
            " 6   p2        2075 non-null   object \n",
            " 7   p2_conf   2075 non-null   float64\n",
            " 8   p2_dog    2075 non-null   bool   \n",
            " 9   p3        2075 non-null   object \n",
            " 10  p3_conf   2075 non-null   float64\n",
            " 11  p3_dog    2075 non-null   bool   \n",
            "dtypes: bool(3), float64(3), int64(2), object(4)\n",
            "memory usage: 152.1+ KB\n"
          ]
        }
      ],
      "source": [
        "image_predictions.info()"
      ]
    },
    {
      "cell_type": "markdown",
      "metadata": {
        "id": "FxJofYcKPbIe"
      },
      "source": [
        "##### 3. Twitter API Data"
      ]
    },
    {
      "cell_type": "code",
      "execution_count": null,
      "metadata": {
        "scrolled": true,
        "id": "q4K26oF1PbIf",
        "outputId": "2b2f5657-54c6-45df-bd4e-cb9f5e83a1b4"
      },
      "outputs": [
        {
          "data": {
            "text/html": [
              "<div>\n",
              "<style scoped>\n",
              "    .dataframe tbody tr th:only-of-type {\n",
              "        vertical-align: middle;\n",
              "    }\n",
              "\n",
              "    .dataframe tbody tr th {\n",
              "        vertical-align: top;\n",
              "    }\n",
              "\n",
              "    .dataframe thead th {\n",
              "        text-align: right;\n",
              "    }\n",
              "</style>\n",
              "<table border=\"1\" class=\"dataframe\">\n",
              "  <thead>\n",
              "    <tr style=\"text-align: right;\">\n",
              "      <th></th>\n",
              "      <th>tweet_id</th>\n",
              "      <th>favorites</th>\n",
              "      <th>retweets</th>\n",
              "    </tr>\n",
              "  </thead>\n",
              "  <tbody>\n",
              "    <tr>\n",
              "      <th>2107</th>\n",
              "      <td>670449342516494336</td>\n",
              "      <td>1264</td>\n",
              "      <td>729</td>\n",
              "    </tr>\n",
              "    <tr>\n",
              "      <th>1412</th>\n",
              "      <td>698710712454139905</td>\n",
              "      <td>2710</td>\n",
              "      <td>774</td>\n",
              "    </tr>\n",
              "    <tr>\n",
              "      <th>2066</th>\n",
              "      <td>671138694582165504</td>\n",
              "      <td>996</td>\n",
              "      <td>448</td>\n",
              "    </tr>\n",
              "    <tr>\n",
              "      <th>991</th>\n",
              "      <td>748575535303884801</td>\n",
              "      <td>6696</td>\n",
              "      <td>2272</td>\n",
              "    </tr>\n",
              "    <tr>\n",
              "      <th>450</th>\n",
              "      <td>818627210458333184</td>\n",
              "      <td>24597</td>\n",
              "      <td>8564</td>\n",
              "    </tr>\n",
              "    <tr>\n",
              "      <th>529</th>\n",
              "      <td>808134635716833280</td>\n",
              "      <td>0</td>\n",
              "      <td>6961</td>\n",
              "    </tr>\n",
              "    <tr>\n",
              "      <th>1995</th>\n",
              "      <td>672591271085670400</td>\n",
              "      <td>782</td>\n",
              "      <td>207</td>\n",
              "    </tr>\n",
              "    <tr>\n",
              "      <th>2314</th>\n",
              "      <td>666649482315059201</td>\n",
              "      <td>923</td>\n",
              "      <td>608</td>\n",
              "    </tr>\n",
              "    <tr>\n",
              "      <th>421</th>\n",
              "      <td>821813639212650496</td>\n",
              "      <td>0</td>\n",
              "      <td>3839</td>\n",
              "    </tr>\n",
              "    <tr>\n",
              "      <th>1242</th>\n",
              "      <td>711743778164514816</td>\n",
              "      <td>3095</td>\n",
              "      <td>1101</td>\n",
              "    </tr>\n",
              "  </tbody>\n",
              "</table>\n",
              "</div>"
            ],
            "text/plain": [
              "                tweet_id  favorites  retweets\n",
              "2107  670449342516494336       1264       729\n",
              "1412  698710712454139905       2710       774\n",
              "2066  671138694582165504        996       448\n",
              "991   748575535303884801       6696      2272\n",
              "450   818627210458333184      24597      8564\n",
              "529   808134635716833280          0      6961\n",
              "1995  672591271085670400        782       207\n",
              "2314  666649482315059201        923       608\n",
              "421   821813639212650496          0      3839\n",
              "1242  711743778164514816       3095      1101"
            ]
          },
          "execution_count": 57,
          "metadata": {},
          "output_type": "execute_result"
        }
      ],
      "source": [
        "twitter_api.sample(10)"
      ]
    },
    {
      "cell_type": "code",
      "execution_count": null,
      "metadata": {
        "scrolled": true,
        "id": "Dw39NzVtPbIg",
        "outputId": "921da187-a623-4677-95bb-c165bd4e359f"
      },
      "outputs": [
        {
          "name": "stdout",
          "output_type": "stream",
          "text": [
            "<class 'pandas.core.frame.DataFrame'>\n",
            "RangeIndex: 2354 entries, 0 to 2353\n",
            "Data columns (total 3 columns):\n",
            " #   Column     Non-Null Count  Dtype\n",
            "---  ------     --------------  -----\n",
            " 0   tweet_id   2354 non-null   int64\n",
            " 1   favorites  2354 non-null   int64\n",
            " 2   retweets   2354 non-null   int64\n",
            "dtypes: int64(3)\n",
            "memory usage: 55.3 KB\n"
          ]
        }
      ],
      "source": [
        "twitter_api.info()"
      ]
    },
    {
      "cell_type": "markdown",
      "metadata": {
        "id": "S7QibH7iPbIg"
      },
      "source": [
        "### Quality issues\n",
        "* **Enhanced Twitter Archive Data**\n",
        "    1. The dataset is **incomplete**. It contains 2075 samples not 5000.\n",
        "    2. \"<a href=\" exists in the **source** column\n",
        "    3. **Incorrect Datatypes**:(retweeted_status_timestamp, timestamp..)\n",
        "    4. **Missing Data** in in_reply_to_status_id and in_reply_to_user_id\n",
        "    5. \"None\" instead of NaN in **Doggo**,**floofer**,**pupper**,**puppo**\n",
        "    6. In **Sample 193**, name is quite (incorrect).\n",
        "    7. Delete uncessary columns for Analysis(retweeted_status_timestamp...)\n",
        "    8. In **sample 2311**, name is a instead of Octaviath.\n",
        "    \n",
        "\n",
        "* **Image Predictions Data**\n",
        "    1. The dataset is **incomplete**. It contains around 2000 samples not 5000.\n",
        "    2. None descriptive columns' names.\n",
        "\n",
        "\n",
        "* **Twitter API Data**\n",
        "    1. The dataset is **incomplete**. It contains around 2000 samples not 5000.\n"
      ]
    },
    {
      "cell_type": "markdown",
      "metadata": {
        "extensions": {
          "jupyter_dashboards": {
            "version": 1,
            "views": {
              "grid_default": {
                "col": 0,
                "height": 7,
                "hidden": false,
                "row": 40,
                "width": 12
              },
              "report_default": {
                "hidden": false
              }
            }
          }
        },
        "id": "yOpYCXuePbIh"
      },
      "source": [
        "### Tidiness issues\n",
        "* **Enhanced Twitter Archive Data**\n",
        "    1. **timestamp** contains two information Date and time. So we can seperate these two into two columns.\n",
        "    2. **Doggo**,**floofer**,**pupper**,**puppo** should be in one column.\n"
      ]
    },
    {
      "cell_type": "markdown",
      "metadata": {
        "extensions": {
          "jupyter_dashboards": {
            "version": 1,
            "views": {
              "grid_default": {
                "col": 4,
                "height": 4,
                "hidden": false,
                "row": 32,
                "width": 4
              },
              "report_default": {
                "hidden": false
              }
            }
          }
        },
        "id": "KhRVfJoSPbIh"
      },
      "source": [
        "## Cleaning Data"
      ]
    },
    {
      "cell_type": "code",
      "execution_count": null,
      "metadata": {
        "id": "iJ4GwueRPbIh"
      },
      "outputs": [],
      "source": [
        "# Make copies of original pieces of data\n",
        "twitter_archive_clean = twitter_archive.copy()\n",
        "twitter_api_clean = twitter_api.copy()\n",
        "image_predictions_clean = image_predictions.copy()"
      ]
    },
    {
      "cell_type": "markdown",
      "metadata": {
        "id": "61i7If1NPbIh"
      },
      "source": [
        "### Issue #1: Delete unnecessary columns for Analysis(retweeted_status_timestamp...) + Drop Duplicated rows(Retweets)"
      ]
    },
    {
      "cell_type": "markdown",
      "metadata": {
        "id": "BK_HaTxtPbIi"
      },
      "source": [
        "#### Define\n",
        "Delete the columns giving informations about the retweets."
      ]
    },
    {
      "cell_type": "markdown",
      "metadata": {
        "id": "dxt9ptGQPbIv"
      },
      "source": [
        "#### Code"
      ]
    },
    {
      "cell_type": "code",
      "execution_count": null,
      "metadata": {
        "scrolled": true,
        "id": "6eWSESPUPbIv",
        "outputId": "f0a8b685-e235-4736-e0e7-676d95825bad"
      },
      "outputs": [
        {
          "data": {
            "text/plain": [
              "Index(['tweet_id', 'in_reply_to_status_id', 'in_reply_to_user_id', 'timestamp',\n",
              "       'source', 'text', 'retweeted_status_id', 'retweeted_status_user_id',\n",
              "       'retweeted_status_timestamp', 'expanded_urls', 'rating_numerator',\n",
              "       'rating_denominator', 'name', 'doggo', 'floofer', 'pupper', 'puppo'],\n",
              "      dtype='object')"
            ]
          },
          "execution_count": 60,
          "metadata": {},
          "output_type": "execute_result"
        }
      ],
      "source": [
        "twitter_archive_clean.columns"
      ]
    },
    {
      "cell_type": "code",
      "execution_count": null,
      "metadata": {
        "id": "sCBTpamGPbIw"
      },
      "outputs": [],
      "source": [
        "# Keep only necessary columns\n",
        "cols = ['tweet_id', 'in_reply_to_status_id', 'in_reply_to_user_id', 'timestamp',\n",
        "       'source', 'text','expanded_urls', 'rating_numerator',\n",
        "       'rating_denominator', 'name', 'doggo', 'floofer', 'pupper', 'puppo']\n",
        "twitter_archive_clean = twitter_archive_clean[cols]"
      ]
    },
    {
      "cell_type": "code",
      "execution_count": null,
      "metadata": {
        "id": "qA-pPONPPbIw"
      },
      "outputs": [],
      "source": [
        "# Drop Retweets\n",
        "twitter_archive_clean.drop_duplicates(inplace = True)\n",
        "twitter_api_clean.drop_duplicates(inplace = True)\n",
        "image_predictions_clean.drop_duplicates(inplace = True)"
      ]
    },
    {
      "cell_type": "markdown",
      "metadata": {
        "id": "IjkrOvdvPbIw"
      },
      "source": [
        "#### Test"
      ]
    },
    {
      "cell_type": "code",
      "execution_count": null,
      "metadata": {
        "id": "KR2pbedFPbIx",
        "outputId": "6a063262-4f7b-4ea4-80b9-0b785c1c0f99"
      },
      "outputs": [
        {
          "data": {
            "text/html": [
              "<div>\n",
              "<style scoped>\n",
              "    .dataframe tbody tr th:only-of-type {\n",
              "        vertical-align: middle;\n",
              "    }\n",
              "\n",
              "    .dataframe tbody tr th {\n",
              "        vertical-align: top;\n",
              "    }\n",
              "\n",
              "    .dataframe thead th {\n",
              "        text-align: right;\n",
              "    }\n",
              "</style>\n",
              "<table border=\"1\" class=\"dataframe\">\n",
              "  <thead>\n",
              "    <tr style=\"text-align: right;\">\n",
              "      <th></th>\n",
              "      <th>tweet_id</th>\n",
              "      <th>in_reply_to_status_id</th>\n",
              "      <th>in_reply_to_user_id</th>\n",
              "      <th>timestamp</th>\n",
              "      <th>source</th>\n",
              "      <th>text</th>\n",
              "      <th>expanded_urls</th>\n",
              "      <th>rating_numerator</th>\n",
              "      <th>rating_denominator</th>\n",
              "      <th>name</th>\n",
              "      <th>doggo</th>\n",
              "      <th>floofer</th>\n",
              "      <th>pupper</th>\n",
              "      <th>puppo</th>\n",
              "    </tr>\n",
              "  </thead>\n",
              "  <tbody>\n",
              "    <tr>\n",
              "      <th>0</th>\n",
              "      <td>892420643555336193</td>\n",
              "      <td>NaN</td>\n",
              "      <td>NaN</td>\n",
              "      <td>2017-08-01 16:23:56 +0000</td>\n",
              "      <td>&lt;a href=\"http://twitter.com/download/iphone\" r...</td>\n",
              "      <td>This is Phineas. He's a mystical boy. Only eve...</td>\n",
              "      <td>https://twitter.com/dog_rates/status/892420643...</td>\n",
              "      <td>13</td>\n",
              "      <td>10</td>\n",
              "      <td>Phineas</td>\n",
              "      <td>None</td>\n",
              "      <td>None</td>\n",
              "      <td>None</td>\n",
              "      <td>None</td>\n",
              "    </tr>\n",
              "    <tr>\n",
              "      <th>1</th>\n",
              "      <td>892177421306343426</td>\n",
              "      <td>NaN</td>\n",
              "      <td>NaN</td>\n",
              "      <td>2017-08-01 00:17:27 +0000</td>\n",
              "      <td>&lt;a href=\"http://twitter.com/download/iphone\" r...</td>\n",
              "      <td>This is Tilly. She's just checking pup on you....</td>\n",
              "      <td>https://twitter.com/dog_rates/status/892177421...</td>\n",
              "      <td>13</td>\n",
              "      <td>10</td>\n",
              "      <td>Tilly</td>\n",
              "      <td>None</td>\n",
              "      <td>None</td>\n",
              "      <td>None</td>\n",
              "      <td>None</td>\n",
              "    </tr>\n",
              "    <tr>\n",
              "      <th>2</th>\n",
              "      <td>891815181378084864</td>\n",
              "      <td>NaN</td>\n",
              "      <td>NaN</td>\n",
              "      <td>2017-07-31 00:18:03 +0000</td>\n",
              "      <td>&lt;a href=\"http://twitter.com/download/iphone\" r...</td>\n",
              "      <td>This is Archie. He is a rare Norwegian Pouncin...</td>\n",
              "      <td>https://twitter.com/dog_rates/status/891815181...</td>\n",
              "      <td>12</td>\n",
              "      <td>10</td>\n",
              "      <td>Archie</td>\n",
              "      <td>None</td>\n",
              "      <td>None</td>\n",
              "      <td>None</td>\n",
              "      <td>None</td>\n",
              "    </tr>\n",
              "    <tr>\n",
              "      <th>3</th>\n",
              "      <td>891689557279858688</td>\n",
              "      <td>NaN</td>\n",
              "      <td>NaN</td>\n",
              "      <td>2017-07-30 15:58:51 +0000</td>\n",
              "      <td>&lt;a href=\"http://twitter.com/download/iphone\" r...</td>\n",
              "      <td>This is Darla. She commenced a snooze mid meal...</td>\n",
              "      <td>https://twitter.com/dog_rates/status/891689557...</td>\n",
              "      <td>13</td>\n",
              "      <td>10</td>\n",
              "      <td>Darla</td>\n",
              "      <td>None</td>\n",
              "      <td>None</td>\n",
              "      <td>None</td>\n",
              "      <td>None</td>\n",
              "    </tr>\n",
              "    <tr>\n",
              "      <th>4</th>\n",
              "      <td>891327558926688256</td>\n",
              "      <td>NaN</td>\n",
              "      <td>NaN</td>\n",
              "      <td>2017-07-29 16:00:24 +0000</td>\n",
              "      <td>&lt;a href=\"http://twitter.com/download/iphone\" r...</td>\n",
              "      <td>This is Franklin. He would like you to stop ca...</td>\n",
              "      <td>https://twitter.com/dog_rates/status/891327558...</td>\n",
              "      <td>12</td>\n",
              "      <td>10</td>\n",
              "      <td>Franklin</td>\n",
              "      <td>None</td>\n",
              "      <td>None</td>\n",
              "      <td>None</td>\n",
              "      <td>None</td>\n",
              "    </tr>\n",
              "    <tr>\n",
              "      <th>...</th>\n",
              "      <td>...</td>\n",
              "      <td>...</td>\n",
              "      <td>...</td>\n",
              "      <td>...</td>\n",
              "      <td>...</td>\n",
              "      <td>...</td>\n",
              "      <td>...</td>\n",
              "      <td>...</td>\n",
              "      <td>...</td>\n",
              "      <td>...</td>\n",
              "      <td>...</td>\n",
              "      <td>...</td>\n",
              "      <td>...</td>\n",
              "      <td>...</td>\n",
              "    </tr>\n",
              "    <tr>\n",
              "      <th>2351</th>\n",
              "      <td>666049248165822465</td>\n",
              "      <td>NaN</td>\n",
              "      <td>NaN</td>\n",
              "      <td>2015-11-16 00:24:50 +0000</td>\n",
              "      <td>&lt;a href=\"http://twitter.com/download/iphone\" r...</td>\n",
              "      <td>Here we have a 1949 1st generation vulpix. Enj...</td>\n",
              "      <td>https://twitter.com/dog_rates/status/666049248...</td>\n",
              "      <td>5</td>\n",
              "      <td>10</td>\n",
              "      <td>None</td>\n",
              "      <td>None</td>\n",
              "      <td>None</td>\n",
              "      <td>None</td>\n",
              "      <td>None</td>\n",
              "    </tr>\n",
              "    <tr>\n",
              "      <th>2352</th>\n",
              "      <td>666044226329800704</td>\n",
              "      <td>NaN</td>\n",
              "      <td>NaN</td>\n",
              "      <td>2015-11-16 00:04:52 +0000</td>\n",
              "      <td>&lt;a href=\"http://twitter.com/download/iphone\" r...</td>\n",
              "      <td>This is a purebred Piers Morgan. Loves to Netf...</td>\n",
              "      <td>https://twitter.com/dog_rates/status/666044226...</td>\n",
              "      <td>6</td>\n",
              "      <td>10</td>\n",
              "      <td>a</td>\n",
              "      <td>None</td>\n",
              "      <td>None</td>\n",
              "      <td>None</td>\n",
              "      <td>None</td>\n",
              "    </tr>\n",
              "    <tr>\n",
              "      <th>2353</th>\n",
              "      <td>666033412701032449</td>\n",
              "      <td>NaN</td>\n",
              "      <td>NaN</td>\n",
              "      <td>2015-11-15 23:21:54 +0000</td>\n",
              "      <td>&lt;a href=\"http://twitter.com/download/iphone\" r...</td>\n",
              "      <td>Here is a very happy pup. Big fan of well-main...</td>\n",
              "      <td>https://twitter.com/dog_rates/status/666033412...</td>\n",
              "      <td>9</td>\n",
              "      <td>10</td>\n",
              "      <td>a</td>\n",
              "      <td>None</td>\n",
              "      <td>None</td>\n",
              "      <td>None</td>\n",
              "      <td>None</td>\n",
              "    </tr>\n",
              "    <tr>\n",
              "      <th>2354</th>\n",
              "      <td>666029285002620928</td>\n",
              "      <td>NaN</td>\n",
              "      <td>NaN</td>\n",
              "      <td>2015-11-15 23:05:30 +0000</td>\n",
              "      <td>&lt;a href=\"http://twitter.com/download/iphone\" r...</td>\n",
              "      <td>This is a western brown Mitsubishi terrier. Up...</td>\n",
              "      <td>https://twitter.com/dog_rates/status/666029285...</td>\n",
              "      <td>7</td>\n",
              "      <td>10</td>\n",
              "      <td>a</td>\n",
              "      <td>None</td>\n",
              "      <td>None</td>\n",
              "      <td>None</td>\n",
              "      <td>None</td>\n",
              "    </tr>\n",
              "    <tr>\n",
              "      <th>2355</th>\n",
              "      <td>666020888022790149</td>\n",
              "      <td>NaN</td>\n",
              "      <td>NaN</td>\n",
              "      <td>2015-11-15 22:32:08 +0000</td>\n",
              "      <td>&lt;a href=\"http://twitter.com/download/iphone\" r...</td>\n",
              "      <td>Here we have a Japanese Irish Setter. Lost eye...</td>\n",
              "      <td>https://twitter.com/dog_rates/status/666020888...</td>\n",
              "      <td>8</td>\n",
              "      <td>10</td>\n",
              "      <td>None</td>\n",
              "      <td>None</td>\n",
              "      <td>None</td>\n",
              "      <td>None</td>\n",
              "      <td>None</td>\n",
              "    </tr>\n",
              "  </tbody>\n",
              "</table>\n",
              "<p>2356 rows × 14 columns</p>\n",
              "</div>"
            ],
            "text/plain": [
              "                tweet_id  in_reply_to_status_id  in_reply_to_user_id  \\\n",
              "0     892420643555336193                    NaN                  NaN   \n",
              "1     892177421306343426                    NaN                  NaN   \n",
              "2     891815181378084864                    NaN                  NaN   \n",
              "3     891689557279858688                    NaN                  NaN   \n",
              "4     891327558926688256                    NaN                  NaN   \n",
              "...                  ...                    ...                  ...   \n",
              "2351  666049248165822465                    NaN                  NaN   \n",
              "2352  666044226329800704                    NaN                  NaN   \n",
              "2353  666033412701032449                    NaN                  NaN   \n",
              "2354  666029285002620928                    NaN                  NaN   \n",
              "2355  666020888022790149                    NaN                  NaN   \n",
              "\n",
              "                      timestamp  \\\n",
              "0     2017-08-01 16:23:56 +0000   \n",
              "1     2017-08-01 00:17:27 +0000   \n",
              "2     2017-07-31 00:18:03 +0000   \n",
              "3     2017-07-30 15:58:51 +0000   \n",
              "4     2017-07-29 16:00:24 +0000   \n",
              "...                         ...   \n",
              "2351  2015-11-16 00:24:50 +0000   \n",
              "2352  2015-11-16 00:04:52 +0000   \n",
              "2353  2015-11-15 23:21:54 +0000   \n",
              "2354  2015-11-15 23:05:30 +0000   \n",
              "2355  2015-11-15 22:32:08 +0000   \n",
              "\n",
              "                                                 source  \\\n",
              "0     <a href=\"http://twitter.com/download/iphone\" r...   \n",
              "1     <a href=\"http://twitter.com/download/iphone\" r...   \n",
              "2     <a href=\"http://twitter.com/download/iphone\" r...   \n",
              "3     <a href=\"http://twitter.com/download/iphone\" r...   \n",
              "4     <a href=\"http://twitter.com/download/iphone\" r...   \n",
              "...                                                 ...   \n",
              "2351  <a href=\"http://twitter.com/download/iphone\" r...   \n",
              "2352  <a href=\"http://twitter.com/download/iphone\" r...   \n",
              "2353  <a href=\"http://twitter.com/download/iphone\" r...   \n",
              "2354  <a href=\"http://twitter.com/download/iphone\" r...   \n",
              "2355  <a href=\"http://twitter.com/download/iphone\" r...   \n",
              "\n",
              "                                                   text  \\\n",
              "0     This is Phineas. He's a mystical boy. Only eve...   \n",
              "1     This is Tilly. She's just checking pup on you....   \n",
              "2     This is Archie. He is a rare Norwegian Pouncin...   \n",
              "3     This is Darla. She commenced a snooze mid meal...   \n",
              "4     This is Franklin. He would like you to stop ca...   \n",
              "...                                                 ...   \n",
              "2351  Here we have a 1949 1st generation vulpix. Enj...   \n",
              "2352  This is a purebred Piers Morgan. Loves to Netf...   \n",
              "2353  Here is a very happy pup. Big fan of well-main...   \n",
              "2354  This is a western brown Mitsubishi terrier. Up...   \n",
              "2355  Here we have a Japanese Irish Setter. Lost eye...   \n",
              "\n",
              "                                          expanded_urls  rating_numerator  \\\n",
              "0     https://twitter.com/dog_rates/status/892420643...                13   \n",
              "1     https://twitter.com/dog_rates/status/892177421...                13   \n",
              "2     https://twitter.com/dog_rates/status/891815181...                12   \n",
              "3     https://twitter.com/dog_rates/status/891689557...                13   \n",
              "4     https://twitter.com/dog_rates/status/891327558...                12   \n",
              "...                                                 ...               ...   \n",
              "2351  https://twitter.com/dog_rates/status/666049248...                 5   \n",
              "2352  https://twitter.com/dog_rates/status/666044226...                 6   \n",
              "2353  https://twitter.com/dog_rates/status/666033412...                 9   \n",
              "2354  https://twitter.com/dog_rates/status/666029285...                 7   \n",
              "2355  https://twitter.com/dog_rates/status/666020888...                 8   \n",
              "\n",
              "      rating_denominator      name doggo floofer pupper puppo  \n",
              "0                     10   Phineas  None    None   None  None  \n",
              "1                     10     Tilly  None    None   None  None  \n",
              "2                     10    Archie  None    None   None  None  \n",
              "3                     10     Darla  None    None   None  None  \n",
              "4                     10  Franklin  None    None   None  None  \n",
              "...                  ...       ...   ...     ...    ...   ...  \n",
              "2351                  10      None  None    None   None  None  \n",
              "2352                  10         a  None    None   None  None  \n",
              "2353                  10         a  None    None   None  None  \n",
              "2354                  10         a  None    None   None  None  \n",
              "2355                  10      None  None    None   None  None  \n",
              "\n",
              "[2356 rows x 14 columns]"
            ]
          },
          "execution_count": 67,
          "metadata": {},
          "output_type": "execute_result"
        }
      ],
      "source": [
        "twitter_archive_clean"
      ]
    },
    {
      "cell_type": "code",
      "execution_count": null,
      "metadata": {
        "id": "Fg19NMXuPbIx",
        "outputId": "a678d209-0b0b-470f-af78-3330f58bc08a"
      },
      "outputs": [
        {
          "data": {
            "text/html": [
              "<div>\n",
              "<style scoped>\n",
              "    .dataframe tbody tr th:only-of-type {\n",
              "        vertical-align: middle;\n",
              "    }\n",
              "\n",
              "    .dataframe tbody tr th {\n",
              "        vertical-align: top;\n",
              "    }\n",
              "\n",
              "    .dataframe thead th {\n",
              "        text-align: right;\n",
              "    }\n",
              "</style>\n",
              "<table border=\"1\" class=\"dataframe\">\n",
              "  <thead>\n",
              "    <tr style=\"text-align: right;\">\n",
              "      <th></th>\n",
              "      <th>tweet_id</th>\n",
              "      <th>favorites</th>\n",
              "      <th>retweets</th>\n",
              "    </tr>\n",
              "  </thead>\n",
              "  <tbody>\n",
              "    <tr>\n",
              "      <th>0</th>\n",
              "      <td>892420643555336193</td>\n",
              "      <td>39467</td>\n",
              "      <td>8853</td>\n",
              "    </tr>\n",
              "    <tr>\n",
              "      <th>1</th>\n",
              "      <td>892177421306343426</td>\n",
              "      <td>33819</td>\n",
              "      <td>6514</td>\n",
              "    </tr>\n",
              "    <tr>\n",
              "      <th>2</th>\n",
              "      <td>891815181378084864</td>\n",
              "      <td>25461</td>\n",
              "      <td>4328</td>\n",
              "    </tr>\n",
              "    <tr>\n",
              "      <th>3</th>\n",
              "      <td>891689557279858688</td>\n",
              "      <td>42908</td>\n",
              "      <td>8964</td>\n",
              "    </tr>\n",
              "    <tr>\n",
              "      <th>4</th>\n",
              "      <td>891327558926688256</td>\n",
              "      <td>41048</td>\n",
              "      <td>9774</td>\n",
              "    </tr>\n",
              "    <tr>\n",
              "      <th>...</th>\n",
              "      <td>...</td>\n",
              "      <td>...</td>\n",
              "      <td>...</td>\n",
              "    </tr>\n",
              "    <tr>\n",
              "      <th>2349</th>\n",
              "      <td>666049248165822465</td>\n",
              "      <td>111</td>\n",
              "      <td>41</td>\n",
              "    </tr>\n",
              "    <tr>\n",
              "      <th>2350</th>\n",
              "      <td>666044226329800704</td>\n",
              "      <td>311</td>\n",
              "      <td>147</td>\n",
              "    </tr>\n",
              "    <tr>\n",
              "      <th>2351</th>\n",
              "      <td>666033412701032449</td>\n",
              "      <td>128</td>\n",
              "      <td>47</td>\n",
              "    </tr>\n",
              "    <tr>\n",
              "      <th>2352</th>\n",
              "      <td>666029285002620928</td>\n",
              "      <td>132</td>\n",
              "      <td>48</td>\n",
              "    </tr>\n",
              "    <tr>\n",
              "      <th>2353</th>\n",
              "      <td>666020888022790149</td>\n",
              "      <td>2535</td>\n",
              "      <td>532</td>\n",
              "    </tr>\n",
              "  </tbody>\n",
              "</table>\n",
              "<p>2354 rows × 3 columns</p>\n",
              "</div>"
            ],
            "text/plain": [
              "                tweet_id  favorites  retweets\n",
              "0     892420643555336193      39467      8853\n",
              "1     892177421306343426      33819      6514\n",
              "2     891815181378084864      25461      4328\n",
              "3     891689557279858688      42908      8964\n",
              "4     891327558926688256      41048      9774\n",
              "...                  ...        ...       ...\n",
              "2349  666049248165822465        111        41\n",
              "2350  666044226329800704        311       147\n",
              "2351  666033412701032449        128        47\n",
              "2352  666029285002620928        132        48\n",
              "2353  666020888022790149       2535       532\n",
              "\n",
              "[2354 rows x 3 columns]"
            ]
          },
          "execution_count": 68,
          "metadata": {},
          "output_type": "execute_result"
        }
      ],
      "source": [
        "twitter_api_clean"
      ]
    },
    {
      "cell_type": "code",
      "execution_count": null,
      "metadata": {
        "id": "CBvBYmgzPbIy",
        "outputId": "504ed04a-472d-4a8f-e676-d03324311454"
      },
      "outputs": [
        {
          "data": {
            "text/html": [
              "<div>\n",
              "<style scoped>\n",
              "    .dataframe tbody tr th:only-of-type {\n",
              "        vertical-align: middle;\n",
              "    }\n",
              "\n",
              "    .dataframe tbody tr th {\n",
              "        vertical-align: top;\n",
              "    }\n",
              "\n",
              "    .dataframe thead th {\n",
              "        text-align: right;\n",
              "    }\n",
              "</style>\n",
              "<table border=\"1\" class=\"dataframe\">\n",
              "  <thead>\n",
              "    <tr style=\"text-align: right;\">\n",
              "      <th></th>\n",
              "      <th>tweet_id</th>\n",
              "      <th>jpg_url</th>\n",
              "      <th>img_num</th>\n",
              "      <th>p1</th>\n",
              "      <th>p1_conf</th>\n",
              "      <th>p1_dog</th>\n",
              "      <th>p2</th>\n",
              "      <th>p2_conf</th>\n",
              "      <th>p2_dog</th>\n",
              "      <th>p3</th>\n",
              "      <th>p3_conf</th>\n",
              "      <th>p3_dog</th>\n",
              "    </tr>\n",
              "  </thead>\n",
              "  <tbody>\n",
              "    <tr>\n",
              "      <th>0</th>\n",
              "      <td>666020888022790149</td>\n",
              "      <td>https://pbs.twimg.com/media/CT4udn0WwAA0aMy.jpg</td>\n",
              "      <td>1</td>\n",
              "      <td>Welsh_springer_spaniel</td>\n",
              "      <td>0.465074</td>\n",
              "      <td>True</td>\n",
              "      <td>collie</td>\n",
              "      <td>0.156665</td>\n",
              "      <td>True</td>\n",
              "      <td>Shetland_sheepdog</td>\n",
              "      <td>0.061428</td>\n",
              "      <td>True</td>\n",
              "    </tr>\n",
              "    <tr>\n",
              "      <th>1</th>\n",
              "      <td>666029285002620928</td>\n",
              "      <td>https://pbs.twimg.com/media/CT42GRgUYAA5iDo.jpg</td>\n",
              "      <td>1</td>\n",
              "      <td>redbone</td>\n",
              "      <td>0.506826</td>\n",
              "      <td>True</td>\n",
              "      <td>miniature_pinscher</td>\n",
              "      <td>0.074192</td>\n",
              "      <td>True</td>\n",
              "      <td>Rhodesian_ridgeback</td>\n",
              "      <td>0.072010</td>\n",
              "      <td>True</td>\n",
              "    </tr>\n",
              "    <tr>\n",
              "      <th>2</th>\n",
              "      <td>666033412701032449</td>\n",
              "      <td>https://pbs.twimg.com/media/CT4521TWwAEvMyu.jpg</td>\n",
              "      <td>1</td>\n",
              "      <td>German_shepherd</td>\n",
              "      <td>0.596461</td>\n",
              "      <td>True</td>\n",
              "      <td>malinois</td>\n",
              "      <td>0.138584</td>\n",
              "      <td>True</td>\n",
              "      <td>bloodhound</td>\n",
              "      <td>0.116197</td>\n",
              "      <td>True</td>\n",
              "    </tr>\n",
              "    <tr>\n",
              "      <th>3</th>\n",
              "      <td>666044226329800704</td>\n",
              "      <td>https://pbs.twimg.com/media/CT5Dr8HUEAA-lEu.jpg</td>\n",
              "      <td>1</td>\n",
              "      <td>Rhodesian_ridgeback</td>\n",
              "      <td>0.408143</td>\n",
              "      <td>True</td>\n",
              "      <td>redbone</td>\n",
              "      <td>0.360687</td>\n",
              "      <td>True</td>\n",
              "      <td>miniature_pinscher</td>\n",
              "      <td>0.222752</td>\n",
              "      <td>True</td>\n",
              "    </tr>\n",
              "    <tr>\n",
              "      <th>4</th>\n",
              "      <td>666049248165822465</td>\n",
              "      <td>https://pbs.twimg.com/media/CT5IQmsXIAAKY4A.jpg</td>\n",
              "      <td>1</td>\n",
              "      <td>miniature_pinscher</td>\n",
              "      <td>0.560311</td>\n",
              "      <td>True</td>\n",
              "      <td>Rottweiler</td>\n",
              "      <td>0.243682</td>\n",
              "      <td>True</td>\n",
              "      <td>Doberman</td>\n",
              "      <td>0.154629</td>\n",
              "      <td>True</td>\n",
              "    </tr>\n",
              "    <tr>\n",
              "      <th>...</th>\n",
              "      <td>...</td>\n",
              "      <td>...</td>\n",
              "      <td>...</td>\n",
              "      <td>...</td>\n",
              "      <td>...</td>\n",
              "      <td>...</td>\n",
              "      <td>...</td>\n",
              "      <td>...</td>\n",
              "      <td>...</td>\n",
              "      <td>...</td>\n",
              "      <td>...</td>\n",
              "      <td>...</td>\n",
              "    </tr>\n",
              "    <tr>\n",
              "      <th>2070</th>\n",
              "      <td>891327558926688256</td>\n",
              "      <td>https://pbs.twimg.com/media/DF6hr6BUMAAzZgT.jpg</td>\n",
              "      <td>2</td>\n",
              "      <td>basset</td>\n",
              "      <td>0.555712</td>\n",
              "      <td>True</td>\n",
              "      <td>English_springer</td>\n",
              "      <td>0.225770</td>\n",
              "      <td>True</td>\n",
              "      <td>German_short-haired_pointer</td>\n",
              "      <td>0.175219</td>\n",
              "      <td>True</td>\n",
              "    </tr>\n",
              "    <tr>\n",
              "      <th>2071</th>\n",
              "      <td>891689557279858688</td>\n",
              "      <td>https://pbs.twimg.com/media/DF_q7IAWsAEuuN8.jpg</td>\n",
              "      <td>1</td>\n",
              "      <td>paper_towel</td>\n",
              "      <td>0.170278</td>\n",
              "      <td>False</td>\n",
              "      <td>Labrador_retriever</td>\n",
              "      <td>0.168086</td>\n",
              "      <td>True</td>\n",
              "      <td>spatula</td>\n",
              "      <td>0.040836</td>\n",
              "      <td>False</td>\n",
              "    </tr>\n",
              "    <tr>\n",
              "      <th>2072</th>\n",
              "      <td>891815181378084864</td>\n",
              "      <td>https://pbs.twimg.com/media/DGBdLU1WsAANxJ9.jpg</td>\n",
              "      <td>1</td>\n",
              "      <td>Chihuahua</td>\n",
              "      <td>0.716012</td>\n",
              "      <td>True</td>\n",
              "      <td>malamute</td>\n",
              "      <td>0.078253</td>\n",
              "      <td>True</td>\n",
              "      <td>kelpie</td>\n",
              "      <td>0.031379</td>\n",
              "      <td>True</td>\n",
              "    </tr>\n",
              "    <tr>\n",
              "      <th>2073</th>\n",
              "      <td>892177421306343426</td>\n",
              "      <td>https://pbs.twimg.com/media/DGGmoV4XsAAUL6n.jpg</td>\n",
              "      <td>1</td>\n",
              "      <td>Chihuahua</td>\n",
              "      <td>0.323581</td>\n",
              "      <td>True</td>\n",
              "      <td>Pekinese</td>\n",
              "      <td>0.090647</td>\n",
              "      <td>True</td>\n",
              "      <td>papillon</td>\n",
              "      <td>0.068957</td>\n",
              "      <td>True</td>\n",
              "    </tr>\n",
              "    <tr>\n",
              "      <th>2074</th>\n",
              "      <td>892420643555336193</td>\n",
              "      <td>https://pbs.twimg.com/media/DGKD1-bXoAAIAUK.jpg</td>\n",
              "      <td>1</td>\n",
              "      <td>orange</td>\n",
              "      <td>0.097049</td>\n",
              "      <td>False</td>\n",
              "      <td>bagel</td>\n",
              "      <td>0.085851</td>\n",
              "      <td>False</td>\n",
              "      <td>banana</td>\n",
              "      <td>0.076110</td>\n",
              "      <td>False</td>\n",
              "    </tr>\n",
              "  </tbody>\n",
              "</table>\n",
              "<p>2075 rows × 12 columns</p>\n",
              "</div>"
            ],
            "text/plain": [
              "                tweet_id                                          jpg_url  \\\n",
              "0     666020888022790149  https://pbs.twimg.com/media/CT4udn0WwAA0aMy.jpg   \n",
              "1     666029285002620928  https://pbs.twimg.com/media/CT42GRgUYAA5iDo.jpg   \n",
              "2     666033412701032449  https://pbs.twimg.com/media/CT4521TWwAEvMyu.jpg   \n",
              "3     666044226329800704  https://pbs.twimg.com/media/CT5Dr8HUEAA-lEu.jpg   \n",
              "4     666049248165822465  https://pbs.twimg.com/media/CT5IQmsXIAAKY4A.jpg   \n",
              "...                  ...                                              ...   \n",
              "2070  891327558926688256  https://pbs.twimg.com/media/DF6hr6BUMAAzZgT.jpg   \n",
              "2071  891689557279858688  https://pbs.twimg.com/media/DF_q7IAWsAEuuN8.jpg   \n",
              "2072  891815181378084864  https://pbs.twimg.com/media/DGBdLU1WsAANxJ9.jpg   \n",
              "2073  892177421306343426  https://pbs.twimg.com/media/DGGmoV4XsAAUL6n.jpg   \n",
              "2074  892420643555336193  https://pbs.twimg.com/media/DGKD1-bXoAAIAUK.jpg   \n",
              "\n",
              "      img_num                      p1   p1_conf  p1_dog                  p2  \\\n",
              "0           1  Welsh_springer_spaniel  0.465074    True              collie   \n",
              "1           1                 redbone  0.506826    True  miniature_pinscher   \n",
              "2           1         German_shepherd  0.596461    True            malinois   \n",
              "3           1     Rhodesian_ridgeback  0.408143    True             redbone   \n",
              "4           1      miniature_pinscher  0.560311    True          Rottweiler   \n",
              "...       ...                     ...       ...     ...                 ...   \n",
              "2070        2                  basset  0.555712    True    English_springer   \n",
              "2071        1             paper_towel  0.170278   False  Labrador_retriever   \n",
              "2072        1               Chihuahua  0.716012    True            malamute   \n",
              "2073        1               Chihuahua  0.323581    True            Pekinese   \n",
              "2074        1                  orange  0.097049   False               bagel   \n",
              "\n",
              "       p2_conf  p2_dog                           p3   p3_conf  p3_dog  \n",
              "0     0.156665    True            Shetland_sheepdog  0.061428    True  \n",
              "1     0.074192    True          Rhodesian_ridgeback  0.072010    True  \n",
              "2     0.138584    True                   bloodhound  0.116197    True  \n",
              "3     0.360687    True           miniature_pinscher  0.222752    True  \n",
              "4     0.243682    True                     Doberman  0.154629    True  \n",
              "...        ...     ...                          ...       ...     ...  \n",
              "2070  0.225770    True  German_short-haired_pointer  0.175219    True  \n",
              "2071  0.168086    True                      spatula  0.040836   False  \n",
              "2072  0.078253    True                       kelpie  0.031379    True  \n",
              "2073  0.090647    True                     papillon  0.068957    True  \n",
              "2074  0.085851   False                       banana  0.076110   False  \n",
              "\n",
              "[2075 rows x 12 columns]"
            ]
          },
          "execution_count": 69,
          "metadata": {},
          "output_type": "execute_result"
        }
      ],
      "source": [
        "image_predictions_clean"
      ]
    },
    {
      "cell_type": "markdown",
      "metadata": {
        "id": "R_iUlNPePbIy"
      },
      "source": [
        "### Issue #2: Doggo,floofer,pupper,puppo should be in one column."
      ]
    },
    {
      "cell_type": "markdown",
      "metadata": {
        "collapsed": true,
        "extensions": {
          "jupyter_dashboards": {
            "version": 1,
            "views": {
              "grid_default": {
                "hidden": true
              },
              "report_default": {
                "hidden": true
              }
            }
          }
        },
        "id": "rTFJSqWhPbIy"
      },
      "source": [
        "#### Define\n",
        "Dog's categories should be in one column \"dog_cat\""
      ]
    },
    {
      "cell_type": "markdown",
      "metadata": {
        "id": "uiD3YFUMPbIz"
      },
      "source": [
        "#### Code"
      ]
    },
    {
      "cell_type": "code",
      "execution_count": null,
      "metadata": {
        "scrolled": true,
        "id": "ZDnuyt1JPbIz"
      },
      "outputs": [],
      "source": [
        "!pip install pandas==1.1.0"
      ]
    },
    {
      "cell_type": "code",
      "execution_count": null,
      "metadata": {
        "id": "VgyK6dDKPbIz",
        "outputId": "28f7d8a8-a39d-4a36-f472-d4d34d33a1ef"
      },
      "outputs": [
        {
          "data": {
            "text/plain": [
              "'0.23.3'"
            ]
          },
          "execution_count": 29,
          "metadata": {},
          "output_type": "execute_result"
        }
      ],
      "source": [
        "import pandas as pd\n",
        "pd.__version__"
      ]
    },
    {
      "cell_type": "code",
      "execution_count": null,
      "metadata": {
        "id": "EWR97MAOPbI0"
      },
      "outputs": [],
      "source": [
        "# Add new column to the data that contains dog types\n",
        "twitter_archive_clean = pd.melt(twitter_archive_clean,\n",
        "                                          id_vars=['tweet_id', 'in_reply_to_status_id', 'in_reply_to_user_id', 'timestamp',\n",
        "                                                   'source', 'text','expanded_urls', 'rating_numerator', 'rating_denominator',\n",
        "                                                   'name'],\n",
        "                                          var_name='dog_cat', value_name='dog_type', ignore_index = True)\n",
        "twitter_archive_clean = twitter_archive_clean[twitter_archive_clean.dog_type != \"None\"]\n",
        "\n",
        "twitter_archive_clean = twitter_archive_clean.drop('dog_cat', axis=1)"
      ]
    },
    {
      "cell_type": "markdown",
      "metadata": {
        "id": "yNa6cnimPbI0"
      },
      "source": [
        "#### Test"
      ]
    },
    {
      "cell_type": "code",
      "execution_count": null,
      "metadata": {
        "id": "ZvMoFs2bPbI1",
        "outputId": "46fa8a43-b7ce-40af-b9be-6bb3a2d895e6"
      },
      "outputs": [
        {
          "data": {
            "text/html": [
              "<div>\n",
              "<style scoped>\n",
              "    .dataframe tbody tr th:only-of-type {\n",
              "        vertical-align: middle;\n",
              "    }\n",
              "\n",
              "    .dataframe tbody tr th {\n",
              "        vertical-align: top;\n",
              "    }\n",
              "\n",
              "    .dataframe thead th {\n",
              "        text-align: right;\n",
              "    }\n",
              "</style>\n",
              "<table border=\"1\" class=\"dataframe\">\n",
              "  <thead>\n",
              "    <tr style=\"text-align: right;\">\n",
              "      <th></th>\n",
              "      <th>tweet_id</th>\n",
              "      <th>in_reply_to_status_id</th>\n",
              "      <th>in_reply_to_user_id</th>\n",
              "      <th>timestamp</th>\n",
              "      <th>source</th>\n",
              "      <th>text</th>\n",
              "      <th>expanded_urls</th>\n",
              "      <th>rating_numerator</th>\n",
              "      <th>rating_denominator</th>\n",
              "      <th>name</th>\n",
              "      <th>dog_type</th>\n",
              "    </tr>\n",
              "  </thead>\n",
              "  <tbody>\n",
              "    <tr>\n",
              "      <th>9</th>\n",
              "      <td>890240255349198849</td>\n",
              "      <td>NaN</td>\n",
              "      <td>NaN</td>\n",
              "      <td>2017-07-26 15:59:51 +0000</td>\n",
              "      <td>&lt;a href=\"http://twitter.com/download/iphone\" r...</td>\n",
              "      <td>This is Cassie. She is a college pup. Studying...</td>\n",
              "      <td>https://twitter.com/dog_rates/status/890240255...</td>\n",
              "      <td>14</td>\n",
              "      <td>10</td>\n",
              "      <td>Cassie</td>\n",
              "      <td>doggo</td>\n",
              "    </tr>\n",
              "    <tr>\n",
              "      <th>43</th>\n",
              "      <td>884162670584377345</td>\n",
              "      <td>NaN</td>\n",
              "      <td>NaN</td>\n",
              "      <td>2017-07-09 21:29:42 +0000</td>\n",
              "      <td>&lt;a href=\"http://twitter.com/download/iphone\" r...</td>\n",
              "      <td>Meet Yogi. He doesn't have any important dog m...</td>\n",
              "      <td>https://twitter.com/dog_rates/status/884162670...</td>\n",
              "      <td>12</td>\n",
              "      <td>10</td>\n",
              "      <td>Yogi</td>\n",
              "      <td>doggo</td>\n",
              "    </tr>\n",
              "    <tr>\n",
              "      <th>99</th>\n",
              "      <td>872967104147763200</td>\n",
              "      <td>NaN</td>\n",
              "      <td>NaN</td>\n",
              "      <td>2017-06-09 00:02:31 +0000</td>\n",
              "      <td>&lt;a href=\"http://twitter.com/download/iphone\" r...</td>\n",
              "      <td>Here's a very large dog. He has a date later. ...</td>\n",
              "      <td>https://twitter.com/dog_rates/status/872967104...</td>\n",
              "      <td>12</td>\n",
              "      <td>10</td>\n",
              "      <td>None</td>\n",
              "      <td>doggo</td>\n",
              "    </tr>\n",
              "    <tr>\n",
              "      <th>108</th>\n",
              "      <td>871515927908634625</td>\n",
              "      <td>NaN</td>\n",
              "      <td>NaN</td>\n",
              "      <td>2017-06-04 23:56:03 +0000</td>\n",
              "      <td>&lt;a href=\"http://twitter.com/download/iphone\" r...</td>\n",
              "      <td>This is Napolean. He's a Raggedy East Nicaragu...</td>\n",
              "      <td>https://twitter.com/dog_rates/status/871515927...</td>\n",
              "      <td>12</td>\n",
              "      <td>10</td>\n",
              "      <td>Napolean</td>\n",
              "      <td>doggo</td>\n",
              "    </tr>\n",
              "    <tr>\n",
              "      <th>110</th>\n",
              "      <td>871102520638267392</td>\n",
              "      <td>NaN</td>\n",
              "      <td>NaN</td>\n",
              "      <td>2017-06-03 20:33:19 +0000</td>\n",
              "      <td>&lt;a href=\"http://twitter.com/download/iphone\" r...</td>\n",
              "      <td>Never doubt a doggo 14/10 https://t.co/AbBLh2FZCH</td>\n",
              "      <td>https://twitter.com/animalcog/status/871075758...</td>\n",
              "      <td>14</td>\n",
              "      <td>10</td>\n",
              "      <td>None</td>\n",
              "      <td>doggo</td>\n",
              "    </tr>\n",
              "    <tr>\n",
              "      <th>...</th>\n",
              "      <td>...</td>\n",
              "      <td>...</td>\n",
              "      <td>...</td>\n",
              "      <td>...</td>\n",
              "      <td>...</td>\n",
              "      <td>...</td>\n",
              "      <td>...</td>\n",
              "      <td>...</td>\n",
              "      <td>...</td>\n",
              "      <td>...</td>\n",
              "      <td>...</td>\n",
              "    </tr>\n",
              "    <tr>\n",
              "      <th>8015</th>\n",
              "      <td>752519690950500352</td>\n",
              "      <td>NaN</td>\n",
              "      <td>NaN</td>\n",
              "      <td>2016-07-11 15:07:30 +0000</td>\n",
              "      <td>&lt;a href=\"http://twitter.com/download/iphone\" r...</td>\n",
              "      <td>Hopefully this puppo on a swing will help get ...</td>\n",
              "      <td>https://twitter.com/dog_rates/status/752519690...</td>\n",
              "      <td>11</td>\n",
              "      <td>10</td>\n",
              "      <td>None</td>\n",
              "      <td>puppo</td>\n",
              "    </tr>\n",
              "    <tr>\n",
              "      <th>8029</th>\n",
              "      <td>751132876104687617</td>\n",
              "      <td>NaN</td>\n",
              "      <td>NaN</td>\n",
              "      <td>2016-07-07 19:16:47 +0000</td>\n",
              "      <td>&lt;a href=\"http://twitter.com/download/iphone\" r...</td>\n",
              "      <td>This is Cooper. He's just so damn happy. 10/10...</td>\n",
              "      <td>https://twitter.com/dog_rates/status/751132876...</td>\n",
              "      <td>10</td>\n",
              "      <td>10</td>\n",
              "      <td>Cooper</td>\n",
              "      <td>puppo</td>\n",
              "    </tr>\n",
              "    <tr>\n",
              "      <th>8103</th>\n",
              "      <td>744995568523612160</td>\n",
              "      <td>NaN</td>\n",
              "      <td>NaN</td>\n",
              "      <td>2016-06-20 20:49:19 +0000</td>\n",
              "      <td>&lt;a href=\"http://twitter.com/download/iphone\" r...</td>\n",
              "      <td>This is Abby. She got her face stuck in a glas...</td>\n",
              "      <td>https://twitter.com/dog_rates/status/744995568...</td>\n",
              "      <td>9</td>\n",
              "      <td>10</td>\n",
              "      <td>Abby</td>\n",
              "      <td>puppo</td>\n",
              "    </tr>\n",
              "    <tr>\n",
              "      <th>8116</th>\n",
              "      <td>743253157753532416</td>\n",
              "      <td>NaN</td>\n",
              "      <td>NaN</td>\n",
              "      <td>2016-06-16 01:25:36 +0000</td>\n",
              "      <td>&lt;a href=\"http://twitter.com/download/iphone\" r...</td>\n",
              "      <td>This is Kilo. He cannot reach the snackum. Nif...</td>\n",
              "      <td>https://twitter.com/dog_rates/status/743253157...</td>\n",
              "      <td>10</td>\n",
              "      <td>10</td>\n",
              "      <td>Kilo</td>\n",
              "      <td>puppo</td>\n",
              "    </tr>\n",
              "    <tr>\n",
              "      <th>8151</th>\n",
              "      <td>738537504001953792</td>\n",
              "      <td>NaN</td>\n",
              "      <td>NaN</td>\n",
              "      <td>2016-06-03 01:07:16 +0000</td>\n",
              "      <td>&lt;a href=\"http://twitter.com/download/iphone\" r...</td>\n",
              "      <td>This is Bayley. She fell asleep trying to esca...</td>\n",
              "      <td>https://twitter.com/dog_rates/status/738537504...</td>\n",
              "      <td>11</td>\n",
              "      <td>10</td>\n",
              "      <td>Bayley</td>\n",
              "      <td>puppo</td>\n",
              "    </tr>\n",
              "  </tbody>\n",
              "</table>\n",
              "<p>394 rows × 11 columns</p>\n",
              "</div>"
            ],
            "text/plain": [
              "                tweet_id  in_reply_to_status_id  in_reply_to_user_id  \\\n",
              "9     890240255349198849                    NaN                  NaN   \n",
              "43    884162670584377345                    NaN                  NaN   \n",
              "99    872967104147763200                    NaN                  NaN   \n",
              "108   871515927908634625                    NaN                  NaN   \n",
              "110   871102520638267392                    NaN                  NaN   \n",
              "...                  ...                    ...                  ...   \n",
              "8015  752519690950500352                    NaN                  NaN   \n",
              "8029  751132876104687617                    NaN                  NaN   \n",
              "8103  744995568523612160                    NaN                  NaN   \n",
              "8116  743253157753532416                    NaN                  NaN   \n",
              "8151  738537504001953792                    NaN                  NaN   \n",
              "\n",
              "                      timestamp  \\\n",
              "9     2017-07-26 15:59:51 +0000   \n",
              "43    2017-07-09 21:29:42 +0000   \n",
              "99    2017-06-09 00:02:31 +0000   \n",
              "108   2017-06-04 23:56:03 +0000   \n",
              "110   2017-06-03 20:33:19 +0000   \n",
              "...                         ...   \n",
              "8015  2016-07-11 15:07:30 +0000   \n",
              "8029  2016-07-07 19:16:47 +0000   \n",
              "8103  2016-06-20 20:49:19 +0000   \n",
              "8116  2016-06-16 01:25:36 +0000   \n",
              "8151  2016-06-03 01:07:16 +0000   \n",
              "\n",
              "                                                 source  \\\n",
              "9     <a href=\"http://twitter.com/download/iphone\" r...   \n",
              "43    <a href=\"http://twitter.com/download/iphone\" r...   \n",
              "99    <a href=\"http://twitter.com/download/iphone\" r...   \n",
              "108   <a href=\"http://twitter.com/download/iphone\" r...   \n",
              "110   <a href=\"http://twitter.com/download/iphone\" r...   \n",
              "...                                                 ...   \n",
              "8015  <a href=\"http://twitter.com/download/iphone\" r...   \n",
              "8029  <a href=\"http://twitter.com/download/iphone\" r...   \n",
              "8103  <a href=\"http://twitter.com/download/iphone\" r...   \n",
              "8116  <a href=\"http://twitter.com/download/iphone\" r...   \n",
              "8151  <a href=\"http://twitter.com/download/iphone\" r...   \n",
              "\n",
              "                                                   text  \\\n",
              "9     This is Cassie. She is a college pup. Studying...   \n",
              "43    Meet Yogi. He doesn't have any important dog m...   \n",
              "99    Here's a very large dog. He has a date later. ...   \n",
              "108   This is Napolean. He's a Raggedy East Nicaragu...   \n",
              "110   Never doubt a doggo 14/10 https://t.co/AbBLh2FZCH   \n",
              "...                                                 ...   \n",
              "8015  Hopefully this puppo on a swing will help get ...   \n",
              "8029  This is Cooper. He's just so damn happy. 10/10...   \n",
              "8103  This is Abby. She got her face stuck in a glas...   \n",
              "8116  This is Kilo. He cannot reach the snackum. Nif...   \n",
              "8151  This is Bayley. She fell asleep trying to esca...   \n",
              "\n",
              "                                          expanded_urls  rating_numerator  \\\n",
              "9     https://twitter.com/dog_rates/status/890240255...                14   \n",
              "43    https://twitter.com/dog_rates/status/884162670...                12   \n",
              "99    https://twitter.com/dog_rates/status/872967104...                12   \n",
              "108   https://twitter.com/dog_rates/status/871515927...                12   \n",
              "110   https://twitter.com/animalcog/status/871075758...                14   \n",
              "...                                                 ...               ...   \n",
              "8015  https://twitter.com/dog_rates/status/752519690...                11   \n",
              "8029  https://twitter.com/dog_rates/status/751132876...                10   \n",
              "8103  https://twitter.com/dog_rates/status/744995568...                 9   \n",
              "8116  https://twitter.com/dog_rates/status/743253157...                10   \n",
              "8151  https://twitter.com/dog_rates/status/738537504...                11   \n",
              "\n",
              "      rating_denominator      name dog_type  \n",
              "9                     10    Cassie    doggo  \n",
              "43                    10      Yogi    doggo  \n",
              "99                    10      None    doggo  \n",
              "108                   10  Napolean    doggo  \n",
              "110                   10      None    doggo  \n",
              "...                  ...       ...      ...  \n",
              "8015                  10      None    puppo  \n",
              "8029                  10    Cooper    puppo  \n",
              "8103                  10      Abby    puppo  \n",
              "8116                  10      Kilo    puppo  \n",
              "8151                  10    Bayley    puppo  \n",
              "\n",
              "[394 rows x 11 columns]"
            ]
          },
          "execution_count": 71,
          "metadata": {},
          "output_type": "execute_result"
        }
      ],
      "source": [
        "twitter_archive_clean"
      ]
    },
    {
      "cell_type": "markdown",
      "metadata": {
        "id": "LFJaeXrCPbI1"
      },
      "source": [
        "### Issue #3: Correct timestamp type then Seperate  the informations"
      ]
    },
    {
      "cell_type": "markdown",
      "metadata": {
        "id": "zlrB3Rl7PbI1"
      },
      "source": [
        "#### Define\n",
        "* Correct timestamp type from object to Datetime.\n",
        "* Seperate the informations."
      ]
    },
    {
      "cell_type": "markdown",
      "metadata": {
        "id": "jGgxIgP8PbI2"
      },
      "source": [
        "#### Code"
      ]
    },
    {
      "cell_type": "code",
      "execution_count": null,
      "metadata": {
        "id": "vE5I-pH1PbI2"
      },
      "outputs": [],
      "source": [
        "# Correct the datatyp\n",
        "twitter_archive_clean.timestamp = twitter_archive_clean.timestamp.astype('datetime64')"
      ]
    },
    {
      "cell_type": "code",
      "execution_count": null,
      "metadata": {
        "id": "0-RE-zrcPbI2"
      },
      "outputs": [],
      "source": [
        "# Seperate date and time\n",
        "# Month\n",
        "twitter_archive_clean['tweet_month'] = twitter_archive_clean.timestamp.dt.month\n",
        "# Year\n",
        "twitter_archive_clean['tweet_year'] = twitter_archive_clean.timestamp.dt.year\n",
        "# Day\n",
        "twitter_archive_clean['tweet_day'] = twitter_archive_clean.timestamp.dt.day\n",
        "# Hour\n",
        "twitter_archive_clean['tweet_Hour'] = twitter_archive_clean.timestamp.dt.hour"
      ]
    },
    {
      "cell_type": "markdown",
      "metadata": {
        "id": "PkEXGjfSPbI3"
      },
      "source": [
        "#### Test"
      ]
    },
    {
      "cell_type": "code",
      "execution_count": null,
      "metadata": {
        "scrolled": true,
        "id": "u0KBjH_LPbI3",
        "outputId": "6207af2f-9afc-4c78-a1ce-9c03afa3484a"
      },
      "outputs": [
        {
          "name": "stdout",
          "output_type": "stream",
          "text": [
            "<class 'pandas.core.frame.DataFrame'>\n",
            "Int64Index: 394 entries, 9 to 8151\n",
            "Data columns (total 15 columns):\n",
            " #   Column                 Non-Null Count  Dtype         \n",
            "---  ------                 --------------  -----         \n",
            " 0   tweet_id               394 non-null    int64         \n",
            " 1   in_reply_to_status_id  9 non-null      float64       \n",
            " 2   in_reply_to_user_id    9 non-null      float64       \n",
            " 3   timestamp              394 non-null    datetime64[ns]\n",
            " 4   source                 394 non-null    object        \n",
            " 5   text                   394 non-null    object        \n",
            " 6   expanded_urls          388 non-null    object        \n",
            " 7   rating_numerator       394 non-null    int64         \n",
            " 8   rating_denominator     394 non-null    int64         \n",
            " 9   name                   394 non-null    object        \n",
            " 10  dog_type               394 non-null    object        \n",
            " 11  tweet_month            394 non-null    int64         \n",
            " 12  tweet_year             394 non-null    int64         \n",
            " 13  tweet_day              394 non-null    int64         \n",
            " 14  tweet_Hour             394 non-null    int64         \n",
            "dtypes: datetime64[ns](1), float64(2), int64(7), object(5)\n",
            "memory usage: 49.2+ KB\n"
          ]
        }
      ],
      "source": [
        "twitter_archive_clean.info()"
      ]
    },
    {
      "cell_type": "markdown",
      "metadata": {
        "id": "XxexlZDnPbI3"
      },
      "source": [
        "### Issue #4: \"<a href=\" exists in the **source** column (Enhanced Twitter Archive)"
      ]
    },
    {
      "cell_type": "markdown",
      "metadata": {
        "id": "2_KSlFcgPbI4"
      },
      "source": [
        "#### Define:\n",
        "Delete incessary characters from the source column."
      ]
    },
    {
      "cell_type": "markdown",
      "metadata": {
        "id": "VwB10gNgPbI4"
      },
      "source": [
        "#### Code"
      ]
    },
    {
      "cell_type": "code",
      "execution_count": null,
      "metadata": {
        "id": "x90et3WaPbI7"
      },
      "outputs": [],
      "source": [
        "twitter_archive_clean['source'] = twitter_archive_clean.source.str.replace('<a href=','').str.replace(' rel=\"nofollow\">Twitter for iPhone</a>','').str.replace(' rel=\"nofollow\">Vine - Make a Scene</a>','').str.replace(' rel=\"nofollow\">Twitter Web Client</a>','').str.replace(' rel=\"nofollow\">TweetDeck</a>','').str.replace('=','')"
      ]
    },
    {
      "cell_type": "markdown",
      "metadata": {
        "id": "bArfvhmmPbI8"
      },
      "source": [
        "#### Test"
      ]
    },
    {
      "cell_type": "code",
      "execution_count": null,
      "metadata": {
        "id": "TRdGo3d8PbI8",
        "outputId": "3d752552-95ab-42f5-afcf-1df4089e8c5a"
      },
      "outputs": [
        {
          "data": {
            "text/html": [
              "<div>\n",
              "<style scoped>\n",
              "    .dataframe tbody tr th:only-of-type {\n",
              "        vertical-align: middle;\n",
              "    }\n",
              "\n",
              "    .dataframe tbody tr th {\n",
              "        vertical-align: top;\n",
              "    }\n",
              "\n",
              "    .dataframe thead th {\n",
              "        text-align: right;\n",
              "    }\n",
              "</style>\n",
              "<table border=\"1\" class=\"dataframe\">\n",
              "  <thead>\n",
              "    <tr style=\"text-align: right;\">\n",
              "      <th></th>\n",
              "      <th>tweet_id</th>\n",
              "      <th>in_reply_to_status_id</th>\n",
              "      <th>in_reply_to_user_id</th>\n",
              "      <th>timestamp</th>\n",
              "      <th>source</th>\n",
              "      <th>text</th>\n",
              "      <th>expanded_urls</th>\n",
              "      <th>rating_numerator</th>\n",
              "      <th>rating_denominator</th>\n",
              "      <th>name</th>\n",
              "      <th>dog_type</th>\n",
              "      <th>tweet_month</th>\n",
              "      <th>tweet_year</th>\n",
              "      <th>tweet_day</th>\n",
              "      <th>tweet_Hour</th>\n",
              "    </tr>\n",
              "  </thead>\n",
              "  <tbody>\n",
              "    <tr>\n",
              "      <th>9</th>\n",
              "      <td>890240255349198849</td>\n",
              "      <td>NaN</td>\n",
              "      <td>NaN</td>\n",
              "      <td>2017-07-26 15:59:51</td>\n",
              "      <td>\"http://twitter.com/download/iphone\"</td>\n",
              "      <td>This is Cassie. She is a college pup. Studying...</td>\n",
              "      <td>https://twitter.com/dog_rates/status/890240255...</td>\n",
              "      <td>14</td>\n",
              "      <td>10</td>\n",
              "      <td>Cassie</td>\n",
              "      <td>doggo</td>\n",
              "      <td>7</td>\n",
              "      <td>2017</td>\n",
              "      <td>26</td>\n",
              "      <td>15</td>\n",
              "    </tr>\n",
              "    <tr>\n",
              "      <th>43</th>\n",
              "      <td>884162670584377345</td>\n",
              "      <td>NaN</td>\n",
              "      <td>NaN</td>\n",
              "      <td>2017-07-09 21:29:42</td>\n",
              "      <td>\"http://twitter.com/download/iphone\"</td>\n",
              "      <td>Meet Yogi. He doesn't have any important dog m...</td>\n",
              "      <td>https://twitter.com/dog_rates/status/884162670...</td>\n",
              "      <td>12</td>\n",
              "      <td>10</td>\n",
              "      <td>Yogi</td>\n",
              "      <td>doggo</td>\n",
              "      <td>7</td>\n",
              "      <td>2017</td>\n",
              "      <td>9</td>\n",
              "      <td>21</td>\n",
              "    </tr>\n",
              "    <tr>\n",
              "      <th>99</th>\n",
              "      <td>872967104147763200</td>\n",
              "      <td>NaN</td>\n",
              "      <td>NaN</td>\n",
              "      <td>2017-06-09 00:02:31</td>\n",
              "      <td>\"http://twitter.com/download/iphone\"</td>\n",
              "      <td>Here's a very large dog. He has a date later. ...</td>\n",
              "      <td>https://twitter.com/dog_rates/status/872967104...</td>\n",
              "      <td>12</td>\n",
              "      <td>10</td>\n",
              "      <td>None</td>\n",
              "      <td>doggo</td>\n",
              "      <td>6</td>\n",
              "      <td>2017</td>\n",
              "      <td>9</td>\n",
              "      <td>0</td>\n",
              "    </tr>\n",
              "    <tr>\n",
              "      <th>108</th>\n",
              "      <td>871515927908634625</td>\n",
              "      <td>NaN</td>\n",
              "      <td>NaN</td>\n",
              "      <td>2017-06-04 23:56:03</td>\n",
              "      <td>\"http://twitter.com/download/iphone\"</td>\n",
              "      <td>This is Napolean. He's a Raggedy East Nicaragu...</td>\n",
              "      <td>https://twitter.com/dog_rates/status/871515927...</td>\n",
              "      <td>12</td>\n",
              "      <td>10</td>\n",
              "      <td>Napolean</td>\n",
              "      <td>doggo</td>\n",
              "      <td>6</td>\n",
              "      <td>2017</td>\n",
              "      <td>4</td>\n",
              "      <td>23</td>\n",
              "    </tr>\n",
              "    <tr>\n",
              "      <th>110</th>\n",
              "      <td>871102520638267392</td>\n",
              "      <td>NaN</td>\n",
              "      <td>NaN</td>\n",
              "      <td>2017-06-03 20:33:19</td>\n",
              "      <td>\"http://twitter.com/download/iphone\"</td>\n",
              "      <td>Never doubt a doggo 14/10 https://t.co/AbBLh2FZCH</td>\n",
              "      <td>https://twitter.com/animalcog/status/871075758...</td>\n",
              "      <td>14</td>\n",
              "      <td>10</td>\n",
              "      <td>None</td>\n",
              "      <td>doggo</td>\n",
              "      <td>6</td>\n",
              "      <td>2017</td>\n",
              "      <td>3</td>\n",
              "      <td>20</td>\n",
              "    </tr>\n",
              "  </tbody>\n",
              "</table>\n",
              "</div>"
            ],
            "text/plain": [
              "               tweet_id  in_reply_to_status_id  in_reply_to_user_id  \\\n",
              "9    890240255349198849                    NaN                  NaN   \n",
              "43   884162670584377345                    NaN                  NaN   \n",
              "99   872967104147763200                    NaN                  NaN   \n",
              "108  871515927908634625                    NaN                  NaN   \n",
              "110  871102520638267392                    NaN                  NaN   \n",
              "\n",
              "              timestamp                                source  \\\n",
              "9   2017-07-26 15:59:51  \"http://twitter.com/download/iphone\"   \n",
              "43  2017-07-09 21:29:42  \"http://twitter.com/download/iphone\"   \n",
              "99  2017-06-09 00:02:31  \"http://twitter.com/download/iphone\"   \n",
              "108 2017-06-04 23:56:03  \"http://twitter.com/download/iphone\"   \n",
              "110 2017-06-03 20:33:19  \"http://twitter.com/download/iphone\"   \n",
              "\n",
              "                                                  text  \\\n",
              "9    This is Cassie. She is a college pup. Studying...   \n",
              "43   Meet Yogi. He doesn't have any important dog m...   \n",
              "99   Here's a very large dog. He has a date later. ...   \n",
              "108  This is Napolean. He's a Raggedy East Nicaragu...   \n",
              "110  Never doubt a doggo 14/10 https://t.co/AbBLh2FZCH   \n",
              "\n",
              "                                         expanded_urls  rating_numerator  \\\n",
              "9    https://twitter.com/dog_rates/status/890240255...                14   \n",
              "43   https://twitter.com/dog_rates/status/884162670...                12   \n",
              "99   https://twitter.com/dog_rates/status/872967104...                12   \n",
              "108  https://twitter.com/dog_rates/status/871515927...                12   \n",
              "110  https://twitter.com/animalcog/status/871075758...                14   \n",
              "\n",
              "     rating_denominator      name dog_type  tweet_month  tweet_year  \\\n",
              "9                    10    Cassie    doggo            7        2017   \n",
              "43                   10      Yogi    doggo            7        2017   \n",
              "99                   10      None    doggo            6        2017   \n",
              "108                  10  Napolean    doggo            6        2017   \n",
              "110                  10      None    doggo            6        2017   \n",
              "\n",
              "     tweet_day  tweet_Hour  \n",
              "9           26          15  \n",
              "43           9          21  \n",
              "99           9           0  \n",
              "108          4          23  \n",
              "110          3          20  "
            ]
          },
          "execution_count": 76,
          "metadata": {},
          "output_type": "execute_result"
        }
      ],
      "source": [
        "twitter_archive_clean.head()"
      ]
    },
    {
      "cell_type": "markdown",
      "metadata": {
        "id": "5FabZ9u2PbI9"
      },
      "source": [
        "### Issue #5: Image Predictions dataset columns' names"
      ]
    },
    {
      "cell_type": "markdown",
      "metadata": {
        "id": "_1EEPwEuPbI9"
      },
      "source": [
        "#### Define\n",
        "* Change column names to more descriptive ones that give more informations about the content."
      ]
    },
    {
      "cell_type": "markdown",
      "metadata": {
        "id": "0SJqBKBNPbI-"
      },
      "source": [
        "#### Code"
      ]
    },
    {
      "cell_type": "code",
      "execution_count": null,
      "metadata": {
        "id": "J5-m3x7jPbI-",
        "outputId": "3de7fbff-db08-4b94-ad86-dca3bd182bfd"
      },
      "outputs": [
        {
          "data": {
            "text/plain": [
              "Index(['tweet_id', 'jpg_url', 'img_num', 'p1', 'p1_conf', 'p1_dog', 'p2',\n",
              "       'p2_conf', 'p2_dog', 'p3', 'p3_conf', 'p3_dog'],\n",
              "      dtype='object')"
            ]
          },
          "execution_count": 77,
          "metadata": {},
          "output_type": "execute_result"
        }
      ],
      "source": [
        "image_predictions_clean.columns"
      ]
    },
    {
      "cell_type": "code",
      "execution_count": null,
      "metadata": {
        "id": "isOpsbsPPbI_"
      },
      "outputs": [],
      "source": [
        "# change columns' names\n",
        "image_predictions_clean.columns = ['tweet_id',\n",
        "                            'image_url',\n",
        "                            'img_number',\n",
        "                            'prediction1',\n",
        "                            'prediction1_confidence',\n",
        "                            'prediction1_isdog',\n",
        "                            'prediction2',\n",
        "                            'prediction2_confidence',\n",
        "                            'prediction2_isdog',\n",
        "                            'prediction3',\n",
        "                            'prediction3_confidence',\n",
        "                            'prediction3_isdog']"
      ]
    },
    {
      "cell_type": "markdown",
      "metadata": {
        "id": "0o034WtqPbJA"
      },
      "source": [
        "#### Test"
      ]
    },
    {
      "cell_type": "code",
      "execution_count": null,
      "metadata": {
        "id": "PKfLJHuhPbJA",
        "outputId": "00bea1b0-3f3c-434a-e3f5-489afb164409"
      },
      "outputs": [
        {
          "data": {
            "text/plain": [
              "Index(['tweet_id', 'image_url', 'img_number', 'prediction1',\n",
              "       'prediction1_confidence', 'prediction1_isdog', 'prediction2',\n",
              "       'prediction2_confidence', 'prediction2_isdog', 'prediction3',\n",
              "       'prediction3_confidence', 'prediction3_isdog'],\n",
              "      dtype='object')"
            ]
          },
          "execution_count": 79,
          "metadata": {},
          "output_type": "execute_result"
        }
      ],
      "source": [
        "image_predictions_clean.columns"
      ]
    },
    {
      "cell_type": "markdown",
      "metadata": {
        "id": "XVCAHSlFPbJB"
      },
      "source": [
        "## Storing Data\n",
        "Save gathered, assessed, and cleaned master dataset to a CSV file named \"twitter_archive_master.csv\"."
      ]
    },
    {
      "cell_type": "code",
      "execution_count": null,
      "metadata": {
        "id": "0qYAv1r1PbJB"
      },
      "outputs": [],
      "source": [
        "# Merge Datasets\n",
        "twitter_archive_clean = pd.merge(twitter_archive_clean, image_predictions_clean,\n",
        "                            on=['tweet_id'], how='left')\n",
        "twitter_archive_clean = pd.merge(twitter_archive_clean, twitter_api_clean,\n",
        "                            on=['tweet_id'], how='left')"
      ]
    },
    {
      "cell_type": "code",
      "execution_count": null,
      "metadata": {
        "id": "CQ1LLa8hPbJC"
      },
      "outputs": [],
      "source": [
        "twitter_archive_master = twitter_archive_clean.copy()\n",
        "twitter_archive_master.to_csv('twitter_archive_master.csv')"
      ]
    },
    {
      "cell_type": "markdown",
      "metadata": {
        "id": "pRSiGL6ZPbJD"
      },
      "source": [
        "## Analyzing and Visualizing Data"
      ]
    },
    {
      "cell_type": "code",
      "execution_count": null,
      "metadata": {
        "scrolled": false,
        "id": "FYamaEVRPbJE",
        "outputId": "10f6f81a-c42c-4cee-abe0-663caa34d553"
      },
      "outputs": [
        {
          "data": {
            "text/html": [
              "<div>\n",
              "<style scoped>\n",
              "    .dataframe tbody tr th:only-of-type {\n",
              "        vertical-align: middle;\n",
              "    }\n",
              "\n",
              "    .dataframe tbody tr th {\n",
              "        vertical-align: top;\n",
              "    }\n",
              "\n",
              "    .dataframe thead th {\n",
              "        text-align: right;\n",
              "    }\n",
              "</style>\n",
              "<table border=\"1\" class=\"dataframe\">\n",
              "  <thead>\n",
              "    <tr style=\"text-align: right;\">\n",
              "      <th></th>\n",
              "      <th>tweet_id</th>\n",
              "      <th>in_reply_to_status_id</th>\n",
              "      <th>in_reply_to_user_id</th>\n",
              "      <th>timestamp</th>\n",
              "      <th>source</th>\n",
              "      <th>text</th>\n",
              "      <th>expanded_urls</th>\n",
              "      <th>rating_numerator</th>\n",
              "      <th>rating_denominator</th>\n",
              "      <th>name</th>\n",
              "      <th>...</th>\n",
              "      <th>prediction1_confidence</th>\n",
              "      <th>prediction1_isdog</th>\n",
              "      <th>prediction2</th>\n",
              "      <th>prediction2_confidence</th>\n",
              "      <th>prediction2_isdog</th>\n",
              "      <th>prediction3</th>\n",
              "      <th>prediction3_confidence</th>\n",
              "      <th>prediction3_isdog</th>\n",
              "      <th>favorites</th>\n",
              "      <th>retweets</th>\n",
              "    </tr>\n",
              "  </thead>\n",
              "  <tbody>\n",
              "    <tr>\n",
              "      <th>3</th>\n",
              "      <td>871515927908634625</td>\n",
              "      <td>NaN</td>\n",
              "      <td>NaN</td>\n",
              "      <td>2017-06-04 23:56:03</td>\n",
              "      <td>\"http://twitter.com/download/iphone\"</td>\n",
              "      <td>This is Napolean. He's a Raggedy East Nicaragu...</td>\n",
              "      <td>https://twitter.com/dog_rates/status/871515927...</td>\n",
              "      <td>12</td>\n",
              "      <td>10</td>\n",
              "      <td>Napolean</td>\n",
              "      <td>...</td>\n",
              "      <td>0.974781</td>\n",
              "      <td>True</td>\n",
              "      <td>briard</td>\n",
              "      <td>0.020041</td>\n",
              "      <td>True</td>\n",
              "      <td>swab</td>\n",
              "      <td>0.003228</td>\n",
              "      <td>False</td>\n",
              "      <td>20730.0</td>\n",
              "      <td>3628.0</td>\n",
              "    </tr>\n",
              "    <tr>\n",
              "      <th>248</th>\n",
              "      <td>696518437233913856</td>\n",
              "      <td>NaN</td>\n",
              "      <td>NaN</td>\n",
              "      <td>2016-02-08 02:18:30</td>\n",
              "      <td>\"http://twitter.com/download/iphone\"</td>\n",
              "      <td>Oh my god 10/10 for every little hot dog pupper</td>\n",
              "      <td>NaN</td>\n",
              "      <td>10</td>\n",
              "      <td>10</td>\n",
              "      <td>None</td>\n",
              "      <td>...</td>\n",
              "      <td>NaN</td>\n",
              "      <td>NaN</td>\n",
              "      <td>NaN</td>\n",
              "      <td>NaN</td>\n",
              "      <td>NaN</td>\n",
              "      <td>NaN</td>\n",
              "      <td>NaN</td>\n",
              "      <td>NaN</td>\n",
              "      <td>4274.0</td>\n",
              "      <td>1887.0</td>\n",
              "    </tr>\n",
              "    <tr>\n",
              "      <th>210</th>\n",
              "      <td>724004602748780546</td>\n",
              "      <td>NaN</td>\n",
              "      <td>NaN</td>\n",
              "      <td>2016-04-23 22:38:43</td>\n",
              "      <td>\"http://twitter.com/download/iphone\"</td>\n",
              "      <td>This is Luther. He saw a ghost. Spooked af. 11...</td>\n",
              "      <td>https://twitter.com/dog_rates/status/724004602...</td>\n",
              "      <td>11</td>\n",
              "      <td>10</td>\n",
              "      <td>Luther</td>\n",
              "      <td>...</td>\n",
              "      <td>0.950526</td>\n",
              "      <td>False</td>\n",
              "      <td>pug</td>\n",
              "      <td>0.018877</td>\n",
              "      <td>True</td>\n",
              "      <td>quilt</td>\n",
              "      <td>0.007628</td>\n",
              "      <td>False</td>\n",
              "      <td>4561.0</td>\n",
              "      <td>1790.0</td>\n",
              "    </tr>\n",
              "  </tbody>\n",
              "</table>\n",
              "<p>3 rows × 28 columns</p>\n",
              "</div>"
            ],
            "text/plain": [
              "               tweet_id  in_reply_to_status_id  in_reply_to_user_id  \\\n",
              "3    871515927908634625                    NaN                  NaN   \n",
              "248  696518437233913856                    NaN                  NaN   \n",
              "210  724004602748780546                    NaN                  NaN   \n",
              "\n",
              "              timestamp                                source  \\\n",
              "3   2017-06-04 23:56:03  \"http://twitter.com/download/iphone\"   \n",
              "248 2016-02-08 02:18:30  \"http://twitter.com/download/iphone\"   \n",
              "210 2016-04-23 22:38:43  \"http://twitter.com/download/iphone\"   \n",
              "\n",
              "                                                  text  \\\n",
              "3    This is Napolean. He's a Raggedy East Nicaragu...   \n",
              "248    Oh my god 10/10 for every little hot dog pupper   \n",
              "210  This is Luther. He saw a ghost. Spooked af. 11...   \n",
              "\n",
              "                                         expanded_urls  rating_numerator  \\\n",
              "3    https://twitter.com/dog_rates/status/871515927...                12   \n",
              "248                                                NaN                10   \n",
              "210  https://twitter.com/dog_rates/status/724004602...                11   \n",
              "\n",
              "     rating_denominator      name  ... prediction1_confidence  \\\n",
              "3                    10  Napolean  ...               0.974781   \n",
              "248                  10      None  ...                    NaN   \n",
              "210                  10    Luther  ...               0.950526   \n",
              "\n",
              "     prediction1_isdog  prediction2  prediction2_confidence  \\\n",
              "3                 True       briard                0.020041   \n",
              "248                NaN          NaN                     NaN   \n",
              "210              False          pug                0.018877   \n",
              "\n",
              "     prediction2_isdog prediction3  prediction3_confidence prediction3_isdog  \\\n",
              "3                 True        swab                0.003228             False   \n",
              "248                NaN         NaN                     NaN               NaN   \n",
              "210               True       quilt                0.007628             False   \n",
              "\n",
              "     favorites retweets  \n",
              "3      20730.0   3628.0  \n",
              "248     4274.0   1887.0  \n",
              "210     4561.0   1790.0  \n",
              "\n",
              "[3 rows x 28 columns]"
            ]
          },
          "execution_count": 82,
          "metadata": {},
          "output_type": "execute_result"
        }
      ],
      "source": [
        "# Display Data\n",
        "twitter_archive_master.sample(3)"
      ]
    },
    {
      "cell_type": "code",
      "execution_count": null,
      "metadata": {
        "id": "nq8qb8q8PbJE",
        "outputId": "0641d78a-bf9f-4baf-8a29-921aa6ec2472"
      },
      "outputs": [
        {
          "data": {
            "text/plain": [
              "Index(['tweet_id', 'in_reply_to_status_id', 'in_reply_to_user_id', 'timestamp',\n",
              "       'source', 'text', 'expanded_urls', 'rating_numerator',\n",
              "       'rating_denominator', 'name', 'dog_type', 'tweet_month', 'tweet_year',\n",
              "       'tweet_day', 'tweet_Hour', 'image_url', 'img_number', 'prediction1',\n",
              "       'prediction1_confidence', 'prediction1_isdog', 'prediction2',\n",
              "       'prediction2_confidence', 'prediction2_isdog', 'prediction3',\n",
              "       'prediction3_confidence', 'prediction3_isdog', 'favorites', 'retweets'],\n",
              "      dtype='object')"
            ]
          },
          "execution_count": 83,
          "metadata": {},
          "output_type": "execute_result"
        }
      ],
      "source": [
        "twitter_archive_master.columns"
      ]
    },
    {
      "cell_type": "code",
      "execution_count": null,
      "metadata": {
        "scrolled": true,
        "id": "AyXCK9bdPbJF",
        "outputId": "48d7b13d-0185-4e0b-d746-edbdd7043d36"
      },
      "outputs": [
        {
          "data": {
            "text/html": [
              "<div>\n",
              "<style scoped>\n",
              "    .dataframe tbody tr th:only-of-type {\n",
              "        vertical-align: middle;\n",
              "    }\n",
              "\n",
              "    .dataframe tbody tr th {\n",
              "        vertical-align: top;\n",
              "    }\n",
              "\n",
              "    .dataframe thead th {\n",
              "        text-align: right;\n",
              "    }\n",
              "</style>\n",
              "<table border=\"1\" class=\"dataframe\">\n",
              "  <thead>\n",
              "    <tr style=\"text-align: right;\">\n",
              "      <th></th>\n",
              "      <th>tweet_id</th>\n",
              "      <th>in_reply_to_status_id</th>\n",
              "      <th>in_reply_to_user_id</th>\n",
              "      <th>rating_numerator</th>\n",
              "      <th>rating_denominator</th>\n",
              "      <th>tweet_month</th>\n",
              "      <th>tweet_year</th>\n",
              "      <th>tweet_day</th>\n",
              "      <th>tweet_Hour</th>\n",
              "      <th>img_number</th>\n",
              "      <th>prediction1_confidence</th>\n",
              "      <th>prediction2_confidence</th>\n",
              "      <th>prediction3_confidence</th>\n",
              "      <th>favorites</th>\n",
              "      <th>retweets</th>\n",
              "    </tr>\n",
              "  </thead>\n",
              "  <tbody>\n",
              "    <tr>\n",
              "      <th>count</th>\n",
              "      <td>3.940000e+02</td>\n",
              "      <td>9.000000e+00</td>\n",
              "      <td>9.000000e+00</td>\n",
              "      <td>394.000000</td>\n",
              "      <td>394.0</td>\n",
              "      <td>394.000000</td>\n",
              "      <td>394.000000</td>\n",
              "      <td>394.000000</td>\n",
              "      <td>394.000000</td>\n",
              "      <td>334.000000</td>\n",
              "      <td>334.000000</td>\n",
              "      <td>334.000000</td>\n",
              "      <td>334.000000</td>\n",
              "      <td>393.000000</td>\n",
              "      <td>393.000000</td>\n",
              "    </tr>\n",
              "    <tr>\n",
              "      <th>mean</th>\n",
              "      <td>7.521376e+17</td>\n",
              "      <td>7.417154e+17</td>\n",
              "      <td>8.116723e+16</td>\n",
              "      <td>11.220812</td>\n",
              "      <td>10.0</td>\n",
              "      <td>6.251269</td>\n",
              "      <td>2016.048223</td>\n",
              "      <td>14.794416</td>\n",
              "      <td>9.692893</td>\n",
              "      <td>1.260479</td>\n",
              "      <td>0.619218</td>\n",
              "      <td>0.134389</td>\n",
              "      <td>0.055332</td>\n",
              "      <td>9873.402036</td>\n",
              "      <td>4349.557252</td>\n",
              "    </tr>\n",
              "    <tr>\n",
              "      <th>std</th>\n",
              "      <td>6.329196e+16</td>\n",
              "      <td>3.829648e+16</td>\n",
              "      <td>2.435017e+17</td>\n",
              "      <td>1.898030</td>\n",
              "      <td>0.0</td>\n",
              "      <td>4.081898</td>\n",
              "      <td>0.617975</td>\n",
              "      <td>8.821433</td>\n",
              "      <td>8.684144</td>\n",
              "      <td>0.649181</td>\n",
              "      <td>0.266532</td>\n",
              "      <td>0.105794</td>\n",
              "      <td>0.049490</td>\n",
              "      <td>15386.550210</td>\n",
              "      <td>7875.183338</td>\n",
              "    </tr>\n",
              "    <tr>\n",
              "      <th>min</th>\n",
              "      <td>6.721600e+17</td>\n",
              "      <td>6.706684e+17</td>\n",
              "      <td>1.584641e+07</td>\n",
              "      <td>3.000000</td>\n",
              "      <td>10.0</td>\n",
              "      <td>1.000000</td>\n",
              "      <td>2015.000000</td>\n",
              "      <td>1.000000</td>\n",
              "      <td>0.000000</td>\n",
              "      <td>1.000000</td>\n",
              "      <td>0.059033</td>\n",
              "      <td>0.000010</td>\n",
              "      <td>0.000001</td>\n",
              "      <td>0.000000</td>\n",
              "      <td>26.000000</td>\n",
              "    </tr>\n",
              "    <tr>\n",
              "      <th>25%</th>\n",
              "      <td>6.889730e+17</td>\n",
              "      <td>7.331095e+17</td>\n",
              "      <td>4.196984e+09</td>\n",
              "      <td>10.000000</td>\n",
              "      <td>10.0</td>\n",
              "      <td>2.000000</td>\n",
              "      <td>2016.000000</td>\n",
              "      <td>7.000000</td>\n",
              "      <td>1.000000</td>\n",
              "      <td>1.000000</td>\n",
              "      <td>0.397529</td>\n",
              "      <td>0.049117</td>\n",
              "      <td>0.013876</td>\n",
              "      <td>2414.000000</td>\n",
              "      <td>983.000000</td>\n",
              "    </tr>\n",
              "    <tr>\n",
              "      <th>50%</th>\n",
              "      <td>7.478075e+17</td>\n",
              "      <td>7.476487e+17</td>\n",
              "      <td>4.196984e+09</td>\n",
              "      <td>11.000000</td>\n",
              "      <td>10.0</td>\n",
              "      <td>6.000000</td>\n",
              "      <td>2016.000000</td>\n",
              "      <td>14.000000</td>\n",
              "      <td>4.000000</td>\n",
              "      <td>1.000000</td>\n",
              "      <td>0.658357</td>\n",
              "      <td>0.110581</td>\n",
              "      <td>0.039628</td>\n",
              "      <td>4681.000000</td>\n",
              "      <td>1972.000000</td>\n",
              "    </tr>\n",
              "    <tr>\n",
              "      <th>75%</th>\n",
              "      <td>8.022650e+17</td>\n",
              "      <td>7.638652e+17</td>\n",
              "      <td>4.196984e+09</td>\n",
              "      <td>12.000000</td>\n",
              "      <td>10.0</td>\n",
              "      <td>10.750000</td>\n",
              "      <td>2016.000000</td>\n",
              "      <td>22.000000</td>\n",
              "      <td>18.000000</td>\n",
              "      <td>1.000000</td>\n",
              "      <td>0.845921</td>\n",
              "      <td>0.196966</td>\n",
              "      <td>0.085048</td>\n",
              "      <td>11506.000000</td>\n",
              "      <td>4169.000000</td>\n",
              "    </tr>\n",
              "    <tr>\n",
              "      <th>max</th>\n",
              "      <td>8.902403e+17</td>\n",
              "      <td>8.008580e+17</td>\n",
              "      <td>7.305050e+17</td>\n",
              "      <td>27.000000</td>\n",
              "      <td>10.0</td>\n",
              "      <td>12.000000</td>\n",
              "      <td>2017.000000</td>\n",
              "      <td>31.000000</td>\n",
              "      <td>23.000000</td>\n",
              "      <td>4.000000</td>\n",
              "      <td>0.999984</td>\n",
              "      <td>0.467678</td>\n",
              "      <td>0.245653</td>\n",
              "      <td>132810.000000</td>\n",
              "      <td>79515.000000</td>\n",
              "    </tr>\n",
              "  </tbody>\n",
              "</table>\n",
              "</div>"
            ],
            "text/plain": [
              "           tweet_id  in_reply_to_status_id  in_reply_to_user_id  \\\n",
              "count  3.940000e+02           9.000000e+00         9.000000e+00   \n",
              "mean   7.521376e+17           7.417154e+17         8.116723e+16   \n",
              "std    6.329196e+16           3.829648e+16         2.435017e+17   \n",
              "min    6.721600e+17           6.706684e+17         1.584641e+07   \n",
              "25%    6.889730e+17           7.331095e+17         4.196984e+09   \n",
              "50%    7.478075e+17           7.476487e+17         4.196984e+09   \n",
              "75%    8.022650e+17           7.638652e+17         4.196984e+09   \n",
              "max    8.902403e+17           8.008580e+17         7.305050e+17   \n",
              "\n",
              "       rating_numerator  rating_denominator  tweet_month   tweet_year  \\\n",
              "count        394.000000               394.0   394.000000   394.000000   \n",
              "mean          11.220812                10.0     6.251269  2016.048223   \n",
              "std            1.898030                 0.0     4.081898     0.617975   \n",
              "min            3.000000                10.0     1.000000  2015.000000   \n",
              "25%           10.000000                10.0     2.000000  2016.000000   \n",
              "50%           11.000000                10.0     6.000000  2016.000000   \n",
              "75%           12.000000                10.0    10.750000  2016.000000   \n",
              "max           27.000000                10.0    12.000000  2017.000000   \n",
              "\n",
              "        tweet_day  tweet_Hour  img_number  prediction1_confidence  \\\n",
              "count  394.000000  394.000000  334.000000              334.000000   \n",
              "mean    14.794416    9.692893    1.260479                0.619218   \n",
              "std      8.821433    8.684144    0.649181                0.266532   \n",
              "min      1.000000    0.000000    1.000000                0.059033   \n",
              "25%      7.000000    1.000000    1.000000                0.397529   \n",
              "50%     14.000000    4.000000    1.000000                0.658357   \n",
              "75%     22.000000   18.000000    1.000000                0.845921   \n",
              "max     31.000000   23.000000    4.000000                0.999984   \n",
              "\n",
              "       prediction2_confidence  prediction3_confidence      favorites  \\\n",
              "count              334.000000              334.000000     393.000000   \n",
              "mean                 0.134389                0.055332    9873.402036   \n",
              "std                  0.105794                0.049490   15386.550210   \n",
              "min                  0.000010                0.000001       0.000000   \n",
              "25%                  0.049117                0.013876    2414.000000   \n",
              "50%                  0.110581                0.039628    4681.000000   \n",
              "75%                  0.196966                0.085048   11506.000000   \n",
              "max                  0.467678                0.245653  132810.000000   \n",
              "\n",
              "           retweets  \n",
              "count    393.000000  \n",
              "mean    4349.557252  \n",
              "std     7875.183338  \n",
              "min       26.000000  \n",
              "25%      983.000000  \n",
              "50%     1972.000000  \n",
              "75%     4169.000000  \n",
              "max    79515.000000  "
            ]
          },
          "execution_count": 84,
          "metadata": {},
          "output_type": "execute_result"
        }
      ],
      "source": [
        "twitter_archive_master.describe()"
      ]
    },
    {
      "cell_type": "markdown",
      "metadata": {
        "id": "FozKOxGtPbJF"
      },
      "source": [
        "### Insights:\n",
        "1. Most commun dog breed\n",
        "\n",
        "2. Best rated dog breed\n",
        "\n",
        "3. Dog types"
      ]
    },
    {
      "cell_type": "markdown",
      "metadata": {
        "id": "L-rJ2ghyPbJG"
      },
      "source": [
        "### Insight #1: Most common dog breed"
      ]
    },
    {
      "cell_type": "markdown",
      "metadata": {
        "id": "0GZInngfPbJG"
      },
      "source": [
        "##### 1st prediction"
      ]
    },
    {
      "cell_type": "code",
      "execution_count": null,
      "metadata": {
        "scrolled": true,
        "id": "syFUHp74PbJG",
        "outputId": "2cfc17cf-02f4-4fbf-bad6-b479894dd84a"
      },
      "outputs": [
        {
          "data": {
            "text/plain": [
              "golden_retriever      41\n",
              "Labrador_retriever    17\n",
              "Pembroke              13\n",
              "Pomeranian             9\n",
              "Chihuahua              8\n",
              "                      ..\n",
              "ice_lolly              1\n",
              "koala                  1\n",
              "Christmas_stocking     1\n",
              "bison                  1\n",
              "Shih-Tzu               1\n",
              "Name: prediction1, Length: 137, dtype: int64"
            ]
          },
          "execution_count": 85,
          "metadata": {},
          "output_type": "execute_result"
        }
      ],
      "source": [
        "twitter_archive_master.prediction1.value_counts()"
      ]
    },
    {
      "cell_type": "code",
      "execution_count": null,
      "metadata": {
        "scrolled": true,
        "id": "hZk7u9vsPbJH",
        "outputId": "8d29abd1-e3b9-4e40-9d2d-fdd253c1c8c8"
      },
      "outputs": [
        {
          "data": {
            "text/plain": [
              "<function matplotlib.pyplot.show(*args, **kw)>"
            ]
          },
          "execution_count": 86,
          "metadata": {},
          "output_type": "execute_result"
        },
        {
          "data": {
            "image/png": "[encoded data removed]",
            "text/plain": [
              "<matplotlib.figure.Figure at 0x7f2b23214588>"
            ]
          },
          "metadata": {
            "needs_background": "light"
          },
          "output_type": "display_data"
        }
      ],
      "source": [
        "# Plot a bar plot\n",
        "df_dog_breed = pd.DataFrame(twitter_archive_master.prediction1.value_counts()[:10])\n",
        "x = df_dog_breed.index\n",
        "y = df_dog_breed.prediction1\n",
        "plt.barh(x,y, color='green')\n",
        "plt.xlabel(\"Frequeny\")\n",
        "plt.ylabel(\"Dog Breed\")\n",
        "plt.title(\"Top 10 Dog breeds in the 1st Prediction\")\n",
        "plt.show"
      ]
    },
    {
      "cell_type": "markdown",
      "metadata": {
        "id": "PKnvlYrhPbJH"
      },
      "source": [
        "###### Golden Retriever and Labrador Retriever are the most popular dog breeds in the 1st prediction."
      ]
    },
    {
      "cell_type": "markdown",
      "metadata": {
        "id": "H3GUm3zaPbJI"
      },
      "source": [
        "##### 2nd Prediction"
      ]
    },
    {
      "cell_type": "code",
      "execution_count": null,
      "metadata": {
        "id": "uR-wgkNqPbJI",
        "outputId": "defa540a-7225-4046-b5ee-ac9e484aec89"
      },
      "outputs": [
        {
          "data": {
            "text/plain": [
              "Labrador_retriever          31\n",
              "golden_retriever            12\n",
              "cocker_spaniel              10\n",
              "Chesapeake_Bay_retriever    10\n",
              "Chihuahua                    9\n",
              "                            ..\n",
              "barrel                       1\n",
              "borzoi                       1\n",
              "otterhound                   1\n",
              "ox                           1\n",
              "goldfish                     1\n",
              "Name: prediction2, Length: 139, dtype: int64"
            ]
          },
          "execution_count": 87,
          "metadata": {},
          "output_type": "execute_result"
        }
      ],
      "source": [
        "twitter_archive_master.prediction2.value_counts()"
      ]
    },
    {
      "cell_type": "code",
      "execution_count": null,
      "metadata": {
        "scrolled": true,
        "id": "x6BaJWdyPbJJ",
        "outputId": "6cb5f9ae-e1d6-4b87-ae64-84c9a2aab546"
      },
      "outputs": [
        {
          "data": {
            "text/plain": [
              "<function matplotlib.pyplot.show(*args, **kw)>"
            ]
          },
          "execution_count": 88,
          "metadata": {},
          "output_type": "execute_result"
        },
        {
          "data": {
            "image/png": "[encoded data removed]",
            "text/plain": [
              "<matplotlib.figure.Figure at 0x7f2b22f5cb00>"
            ]
          },
          "metadata": {
            "needs_background": "light"
          },
          "output_type": "display_data"
        }
      ],
      "source": [
        "# Plot a bar plot\n",
        "df_dog_breed = pd.DataFrame(twitter_archive_master.prediction2.value_counts()[:10])\n",
        "x = df_dog_breed.index\n",
        "y = df_dog_breed.prediction2\n",
        "plt.barh(x,y, color='green')\n",
        "plt.xlabel(\"Frequeny\")\n",
        "plt.ylabel(\"Dog Breed\")\n",
        "plt.title(\"Top 10 Dog breeds in the 2nd Prediction\")\n",
        "plt.show"
      ]
    },
    {
      "cell_type": "markdown",
      "metadata": {
        "id": "OydQMLyCPbJK"
      },
      "source": [
        "###### Golden Retriever and Labrador Retriever are the most popular dog breeds in the 2nd prediction."
      ]
    },
    {
      "cell_type": "markdown",
      "metadata": {
        "id": "yU11OjMXPbJK"
      },
      "source": [
        "##### 3rd Prediction"
      ]
    },
    {
      "cell_type": "code",
      "execution_count": null,
      "metadata": {
        "id": "WSjsdp2kPbJL",
        "outputId": "8ebf2631-5f83-42b6-8a6b-188750f4ba72"
      },
      "outputs": [
        {
          "data": {
            "text/plain": [
              "Labrador_retriever                12\n",
              "kelpie                            10\n",
              "malamute                           9\n",
              "kuvasz                             7\n",
              "Tibetan_terrier                    7\n",
              "                                  ..\n",
              "cocker_spaniel                     1\n",
              "American_Staffordshire_terrier     1\n",
              "sandbar                            1\n",
              "sea_cucumber                       1\n",
              "Shih-Tzu                           1\n",
              "Name: prediction3, Length: 160, dtype: int64"
            ]
          },
          "execution_count": 89,
          "metadata": {},
          "output_type": "execute_result"
        }
      ],
      "source": [
        "twitter_archive_master.prediction3.value_counts()"
      ]
    },
    {
      "cell_type": "code",
      "execution_count": null,
      "metadata": {
        "scrolled": true,
        "id": "Bd-FOG0vPbJM",
        "outputId": "09976dda-0dd6-44a0-e579-bb59c8734a4b"
      },
      "outputs": [
        {
          "data": {
            "text/plain": [
              "<function matplotlib.pyplot.show(*args, **kw)>"
            ]
          },
          "execution_count": 90,
          "metadata": {},
          "output_type": "execute_result"
        },
        {
          "data": {
            "image/png": "[encoded data removed]",
            "text/plain": [
              "<matplotlib.figure.Figure at 0x7f2b22f55860>"
            ]
          },
          "metadata": {
            "needs_background": "light"
          },
          "output_type": "display_data"
        }
      ],
      "source": [
        "# Plot a bar plot\n",
        "df_dog_breed = pd.DataFrame(twitter_archive_master.prediction3.value_counts()[:10])\n",
        "x = df_dog_breed.index\n",
        "y = df_dog_breed.prediction3\n",
        "plt.barh(x,y, color='green')\n",
        "plt.xlabel(\"Frequeny\")\n",
        "plt.ylabel(\"Dog Breed\")\n",
        "plt.title(\"Top 10 Dog breeds in the 3rd Prediction\")\n",
        "plt.show"
      ]
    },
    {
      "cell_type": "markdown",
      "metadata": {
        "id": "8YbdNQmXPbJM"
      },
      "source": [
        "###### Labrador Retriever and Kelpie are the most popular dog breeds in the 3rd prediction."
      ]
    },
    {
      "cell_type": "markdown",
      "metadata": {
        "id": "bL2n1CdQPbJN"
      },
      "source": [
        "### The most common predicted dog breeds are Golden Retriever, Labrador Retriever and Kelpie."
      ]
    },
    {
      "cell_type": "markdown",
      "metadata": {
        "id": "8oyilTucPbJN"
      },
      "source": [
        "### Insight #2: Best rated dog breed"
      ]
    },
    {
      "cell_type": "markdown",
      "metadata": {
        "id": "fgAJZKIJPbJN"
      },
      "source": [
        "##### 1st Prediction"
      ]
    },
    {
      "cell_type": "code",
      "execution_count": null,
      "metadata": {
        "id": "Nq0oxRRjPbJO"
      },
      "outputs": [],
      "source": [
        "# Add rating column to the dataset\n",
        "twitter_archive_master['Rating'] = twitter_archive_master.rating_numerator / twitter_archive_master.rating_denominator"
      ]
    },
    {
      "cell_type": "code",
      "execution_count": null,
      "metadata": {
        "scrolled": true,
        "id": "HIa6P-laPbJO",
        "outputId": "7b4cef1f-5d8a-4b60-cda9-4e5074cd7907"
      },
      "outputs": [
        {
          "data": {
            "text/html": [
              "<div>\n",
              "<style scoped>\n",
              "    .dataframe tbody tr th:only-of-type {\n",
              "        vertical-align: middle;\n",
              "    }\n",
              "\n",
              "    .dataframe tbody tr th {\n",
              "        vertical-align: top;\n",
              "    }\n",
              "\n",
              "    .dataframe thead th {\n",
              "        text-align: right;\n",
              "    }\n",
              "</style>\n",
              "<table border=\"1\" class=\"dataframe\">\n",
              "  <thead>\n",
              "    <tr style=\"text-align: right;\">\n",
              "      <th></th>\n",
              "      <th>tweet_id</th>\n",
              "      <th>in_reply_to_status_id</th>\n",
              "      <th>in_reply_to_user_id</th>\n",
              "      <th>rating_numerator</th>\n",
              "      <th>rating_denominator</th>\n",
              "      <th>tweet_month</th>\n",
              "      <th>tweet_year</th>\n",
              "      <th>tweet_day</th>\n",
              "      <th>tweet_Hour</th>\n",
              "      <th>img_number</th>\n",
              "      <th>prediction1_confidence</th>\n",
              "      <th>prediction2_confidence</th>\n",
              "      <th>prediction3_confidence</th>\n",
              "      <th>favorites</th>\n",
              "      <th>retweets</th>\n",
              "      <th>Rating</th>\n",
              "    </tr>\n",
              "    <tr>\n",
              "      <th>prediction1</th>\n",
              "      <th></th>\n",
              "      <th></th>\n",
              "      <th></th>\n",
              "      <th></th>\n",
              "      <th></th>\n",
              "      <th></th>\n",
              "      <th></th>\n",
              "      <th></th>\n",
              "      <th></th>\n",
              "      <th></th>\n",
              "      <th></th>\n",
              "      <th></th>\n",
              "      <th></th>\n",
              "      <th></th>\n",
              "      <th></th>\n",
              "      <th></th>\n",
              "    </tr>\n",
              "  </thead>\n",
              "  <tbody>\n",
              "    <tr>\n",
              "      <th>Airedale</th>\n",
              "      <td>7.562758e+17</td>\n",
              "      <td>NaN</td>\n",
              "      <td>NaN</td>\n",
              "      <td>10.000000</td>\n",
              "      <td>10.0</td>\n",
              "      <td>7.000000</td>\n",
              "      <td>2016.000000</td>\n",
              "      <td>21.0</td>\n",
              "      <td>23.000000</td>\n",
              "      <td>1.000000</td>\n",
              "      <td>0.602957</td>\n",
              "      <td>0.086981</td>\n",
              "      <td>0.086276</td>\n",
              "      <td>7114.000000</td>\n",
              "      <td>1738.000000</td>\n",
              "      <td>1.000000</td>\n",
              "    </tr>\n",
              "    <tr>\n",
              "      <th>American_Staffordshire_terrier</th>\n",
              "      <td>7.828325e+17</td>\n",
              "      <td>NaN</td>\n",
              "      <td>NaN</td>\n",
              "      <td>11.666667</td>\n",
              "      <td>10.0</td>\n",
              "      <td>5.666667</td>\n",
              "      <td>2016.333333</td>\n",
              "      <td>13.0</td>\n",
              "      <td>6.333333</td>\n",
              "      <td>1.333333</td>\n",
              "      <td>0.741836</td>\n",
              "      <td>0.133396</td>\n",
              "      <td>0.040380</td>\n",
              "      <td>8117.333333</td>\n",
              "      <td>2485.333333</td>\n",
              "      <td>1.166667</td>\n",
              "    </tr>\n",
              "    <tr>\n",
              "      <th>American_black_bear</th>\n",
              "      <td>7.505062e+17</td>\n",
              "      <td>NaN</td>\n",
              "      <td>NaN</td>\n",
              "      <td>8.000000</td>\n",
              "      <td>10.0</td>\n",
              "      <td>7.000000</td>\n",
              "      <td>2016.000000</td>\n",
              "      <td>6.0</td>\n",
              "      <td>1.000000</td>\n",
              "      <td>1.000000</td>\n",
              "      <td>0.219166</td>\n",
              "      <td>0.214715</td>\n",
              "      <td>0.091685</td>\n",
              "      <td>4934.000000</td>\n",
              "      <td>1316.000000</td>\n",
              "      <td>0.800000</td>\n",
              "    </tr>\n",
              "    <tr>\n",
              "      <th>Bedlington_terrier</th>\n",
              "      <td>7.903581e+17</td>\n",
              "      <td>NaN</td>\n",
              "      <td>NaN</td>\n",
              "      <td>11.000000</td>\n",
              "      <td>10.0</td>\n",
              "      <td>4.500000</td>\n",
              "      <td>2016.500000</td>\n",
              "      <td>8.0</td>\n",
              "      <td>12.500000</td>\n",
              "      <td>1.000000</td>\n",
              "      <td>0.395849</td>\n",
              "      <td>0.087723</td>\n",
              "      <td>0.078515</td>\n",
              "      <td>9051.000000</td>\n",
              "      <td>1908.500000</td>\n",
              "      <td>1.100000</td>\n",
              "    </tr>\n",
              "    <tr>\n",
              "      <th>Bernese_mountain_dog</th>\n",
              "      <td>6.962426e+17</td>\n",
              "      <td>NaN</td>\n",
              "      <td>NaN</td>\n",
              "      <td>10.500000</td>\n",
              "      <td>10.0</td>\n",
              "      <td>2.000000</td>\n",
              "      <td>2016.000000</td>\n",
              "      <td>7.5</td>\n",
              "      <td>19.500000</td>\n",
              "      <td>1.500000</td>\n",
              "      <td>0.977165</td>\n",
              "      <td>0.012807</td>\n",
              "      <td>0.004957</td>\n",
              "      <td>3593.500000</td>\n",
              "      <td>1173.500000</td>\n",
              "      <td>1.050000</td>\n",
              "    </tr>\n",
              "  </tbody>\n",
              "</table>\n",
              "</div>"
            ],
            "text/plain": [
              "                                    tweet_id  in_reply_to_status_id  \\\n",
              "prediction1                                                           \n",
              "Airedale                        7.562758e+17                    NaN   \n",
              "American_Staffordshire_terrier  7.828325e+17                    NaN   \n",
              "American_black_bear             7.505062e+17                    NaN   \n",
              "Bedlington_terrier              7.903581e+17                    NaN   \n",
              "Bernese_mountain_dog            6.962426e+17                    NaN   \n",
              "\n",
              "                                in_reply_to_user_id  rating_numerator  \\\n",
              "prediction1                                                             \n",
              "Airedale                                        NaN         10.000000   \n",
              "American_Staffordshire_terrier                  NaN         11.666667   \n",
              "American_black_bear                             NaN          8.000000   \n",
              "Bedlington_terrier                              NaN         11.000000   \n",
              "Bernese_mountain_dog                            NaN         10.500000   \n",
              "\n",
              "                                rating_denominator  tweet_month   tweet_year  \\\n",
              "prediction1                                                                    \n",
              "Airedale                                      10.0     7.000000  2016.000000   \n",
              "American_Staffordshire_terrier                10.0     5.666667  2016.333333   \n",
              "American_black_bear                           10.0     7.000000  2016.000000   \n",
              "Bedlington_terrier                            10.0     4.500000  2016.500000   \n",
              "Bernese_mountain_dog                          10.0     2.000000  2016.000000   \n",
              "\n",
              "                                tweet_day  tweet_Hour  img_number  \\\n",
              "prediction1                                                         \n",
              "Airedale                             21.0   23.000000    1.000000   \n",
              "American_Staffordshire_terrier       13.0    6.333333    1.333333   \n",
              "American_black_bear                   6.0    1.000000    1.000000   \n",
              "Bedlington_terrier                    8.0   12.500000    1.000000   \n",
              "Bernese_mountain_dog                  7.5   19.500000    1.500000   \n",
              "\n",
              "                                prediction1_confidence  \\\n",
              "prediction1                                              \n",
              "Airedale                                      0.602957   \n",
              "American_Staffordshire_terrier                0.741836   \n",
              "American_black_bear                           0.219166   \n",
              "Bedlington_terrier                            0.395849   \n",
              "Bernese_mountain_dog                          0.977165   \n",
              "\n",
              "                                prediction2_confidence  \\\n",
              "prediction1                                              \n",
              "Airedale                                      0.086981   \n",
              "American_Staffordshire_terrier                0.133396   \n",
              "American_black_bear                           0.214715   \n",
              "Bedlington_terrier                            0.087723   \n",
              "Bernese_mountain_dog                          0.012807   \n",
              "\n",
              "                                prediction3_confidence    favorites  \\\n",
              "prediction1                                                           \n",
              "Airedale                                      0.086276  7114.000000   \n",
              "American_Staffordshire_terrier                0.040380  8117.333333   \n",
              "American_black_bear                           0.091685  4934.000000   \n",
              "Bedlington_terrier                            0.078515  9051.000000   \n",
              "Bernese_mountain_dog                          0.004957  3593.500000   \n",
              "\n",
              "                                   retweets    Rating  \n",
              "prediction1                                            \n",
              "Airedale                        1738.000000  1.000000  \n",
              "American_Staffordshire_terrier  2485.333333  1.166667  \n",
              "American_black_bear             1316.000000  0.800000  \n",
              "Bedlington_terrier              1908.500000  1.100000  \n",
              "Bernese_mountain_dog            1173.500000  1.050000  "
            ]
          },
          "execution_count": 92,
          "metadata": {},
          "output_type": "execute_result"
        }
      ],
      "source": [
        "df_dog_breed = twitter_archive_master.groupby('prediction1').mean()\n",
        "df_dog_breed.head()"
      ]
    },
    {
      "cell_type": "code",
      "execution_count": null,
      "metadata": {
        "scrolled": true,
        "id": "OgZR1oQwPbJP",
        "outputId": "38296710-08df-430e-b158-c944e4ae3ab8"
      },
      "outputs": [
        {
          "data": {
            "text/plain": [
              "prediction1\n",
              "standard_poodle            1.4\n",
              "prison                     1.4\n",
              "pedestal                   1.4\n",
              "black-and-tan_coonhound    1.4\n",
              "clumber                    2.7\n",
              "Name: Rating, dtype: float64"
            ]
          },
          "execution_count": 93,
          "metadata": {},
          "output_type": "execute_result"
        }
      ],
      "source": [
        "df_dog_breed_sorted = df_dog_breed['Rating'].sort_values()\n",
        "\n",
        "df_dog_breed_sorted.tail()"
      ]
    },
    {
      "cell_type": "markdown",
      "metadata": {
        "id": "MODBHwJqPbJP"
      },
      "source": [
        "#### 2nd Prediction"
      ]
    },
    {
      "cell_type": "code",
      "execution_count": null,
      "metadata": {
        "scrolled": true,
        "id": "idPtu8jQPbJP",
        "outputId": "3a990328-56d3-49fe-da04-8b2e7d7a3a28"
      },
      "outputs": [
        {
          "data": {
            "text/html": [
              "<div>\n",
              "<style scoped>\n",
              "    .dataframe tbody tr th:only-of-type {\n",
              "        vertical-align: middle;\n",
              "    }\n",
              "\n",
              "    .dataframe tbody tr th {\n",
              "        vertical-align: top;\n",
              "    }\n",
              "\n",
              "    .dataframe thead th {\n",
              "        text-align: right;\n",
              "    }\n",
              "</style>\n",
              "<table border=\"1\" class=\"dataframe\">\n",
              "  <thead>\n",
              "    <tr style=\"text-align: right;\">\n",
              "      <th></th>\n",
              "      <th>tweet_id</th>\n",
              "      <th>in_reply_to_status_id</th>\n",
              "      <th>in_reply_to_user_id</th>\n",
              "      <th>rating_numerator</th>\n",
              "      <th>rating_denominator</th>\n",
              "      <th>tweet_month</th>\n",
              "      <th>tweet_year</th>\n",
              "      <th>tweet_day</th>\n",
              "      <th>tweet_Hour</th>\n",
              "      <th>img_number</th>\n",
              "      <th>prediction1_confidence</th>\n",
              "      <th>prediction2_confidence</th>\n",
              "      <th>prediction3_confidence</th>\n",
              "      <th>favorites</th>\n",
              "      <th>retweets</th>\n",
              "      <th>Rating</th>\n",
              "    </tr>\n",
              "    <tr>\n",
              "      <th>prediction2</th>\n",
              "      <th></th>\n",
              "      <th></th>\n",
              "      <th></th>\n",
              "      <th></th>\n",
              "      <th></th>\n",
              "      <th></th>\n",
              "      <th></th>\n",
              "      <th></th>\n",
              "      <th></th>\n",
              "      <th></th>\n",
              "      <th></th>\n",
              "      <th></th>\n",
              "      <th></th>\n",
              "      <th></th>\n",
              "      <th></th>\n",
              "      <th></th>\n",
              "    </tr>\n",
              "  </thead>\n",
              "  <tbody>\n",
              "    <tr>\n",
              "      <th>Afghan_hound</th>\n",
              "      <td>7.514569e+17</td>\n",
              "      <td>NaN</td>\n",
              "      <td>NaN</td>\n",
              "      <td>12.0</td>\n",
              "      <td>10.0</td>\n",
              "      <td>7.0</td>\n",
              "      <td>2016.000000</td>\n",
              "      <td>8.000000</td>\n",
              "      <td>16.0</td>\n",
              "      <td>1.0</td>\n",
              "      <td>0.714409</td>\n",
              "      <td>0.066163</td>\n",
              "      <td>0.028413</td>\n",
              "      <td>3516.000000</td>\n",
              "      <td>1127.0</td>\n",
              "      <td>1.20</td>\n",
              "    </tr>\n",
              "    <tr>\n",
              "      <th>Airedale</th>\n",
              "      <td>6.965270e+17</td>\n",
              "      <td>NaN</td>\n",
              "      <td>NaN</td>\n",
              "      <td>9.0</td>\n",
              "      <td>10.0</td>\n",
              "      <td>2.0</td>\n",
              "      <td>2016.000000</td>\n",
              "      <td>9.000000</td>\n",
              "      <td>2.0</td>\n",
              "      <td>1.0</td>\n",
              "      <td>0.496058</td>\n",
              "      <td>0.120932</td>\n",
              "      <td>0.054355</td>\n",
              "      <td>2852.000000</td>\n",
              "      <td>779.0</td>\n",
              "      <td>0.90</td>\n",
              "    </tr>\n",
              "    <tr>\n",
              "      <th>American_Staffordshire_terrier</th>\n",
              "      <td>7.957678e+17</td>\n",
              "      <td>NaN</td>\n",
              "      <td>NaN</td>\n",
              "      <td>12.0</td>\n",
              "      <td>10.0</td>\n",
              "      <td>3.0</td>\n",
              "      <td>2016.666667</td>\n",
              "      <td>8.333333</td>\n",
              "      <td>7.0</td>\n",
              "      <td>1.0</td>\n",
              "      <td>0.700953</td>\n",
              "      <td>0.193776</td>\n",
              "      <td>0.063281</td>\n",
              "      <td>13823.666667</td>\n",
              "      <td>7418.0</td>\n",
              "      <td>1.20</td>\n",
              "    </tr>\n",
              "    <tr>\n",
              "      <th>Angora</th>\n",
              "      <td>7.845061e+17</td>\n",
              "      <td>NaN</td>\n",
              "      <td>NaN</td>\n",
              "      <td>12.5</td>\n",
              "      <td>10.0</td>\n",
              "      <td>4.0</td>\n",
              "      <td>2016.500000</td>\n",
              "      <td>8.000000</td>\n",
              "      <td>9.0</td>\n",
              "      <td>1.0</td>\n",
              "      <td>0.492094</td>\n",
              "      <td>0.231362</td>\n",
              "      <td>0.109963</td>\n",
              "      <td>26193.000000</td>\n",
              "      <td>8594.5</td>\n",
              "      <td>1.25</td>\n",
              "    </tr>\n",
              "    <tr>\n",
              "      <th>Appenzeller</th>\n",
              "      <td>6.851693e+17</td>\n",
              "      <td>NaN</td>\n",
              "      <td>NaN</td>\n",
              "      <td>11.0</td>\n",
              "      <td>10.0</td>\n",
              "      <td>1.0</td>\n",
              "      <td>2016.000000</td>\n",
              "      <td>7.000000</td>\n",
              "      <td>18.0</td>\n",
              "      <td>1.0</td>\n",
              "      <td>0.975096</td>\n",
              "      <td>0.014578</td>\n",
              "      <td>0.005943</td>\n",
              "      <td>4489.000000</td>\n",
              "      <td>1620.0</td>\n",
              "      <td>1.10</td>\n",
              "    </tr>\n",
              "  </tbody>\n",
              "</table>\n",
              "</div>"
            ],
            "text/plain": [
              "                                    tweet_id  in_reply_to_status_id  \\\n",
              "prediction2                                                           \n",
              "Afghan_hound                    7.514569e+17                    NaN   \n",
              "Airedale                        6.965270e+17                    NaN   \n",
              "American_Staffordshire_terrier  7.957678e+17                    NaN   \n",
              "Angora                          7.845061e+17                    NaN   \n",
              "Appenzeller                     6.851693e+17                    NaN   \n",
              "\n",
              "                                in_reply_to_user_id  rating_numerator  \\\n",
              "prediction2                                                             \n",
              "Afghan_hound                                    NaN              12.0   \n",
              "Airedale                                        NaN               9.0   \n",
              "American_Staffordshire_terrier                  NaN              12.0   \n",
              "Angora                                          NaN              12.5   \n",
              "Appenzeller                                     NaN              11.0   \n",
              "\n",
              "                                rating_denominator  tweet_month   tweet_year  \\\n",
              "prediction2                                                                    \n",
              "Afghan_hound                                  10.0          7.0  2016.000000   \n",
              "Airedale                                      10.0          2.0  2016.000000   \n",
              "American_Staffordshire_terrier                10.0          3.0  2016.666667   \n",
              "Angora                                        10.0          4.0  2016.500000   \n",
              "Appenzeller                                   10.0          1.0  2016.000000   \n",
              "\n",
              "                                tweet_day  tweet_Hour  img_number  \\\n",
              "prediction2                                                         \n",
              "Afghan_hound                     8.000000        16.0         1.0   \n",
              "Airedale                         9.000000         2.0         1.0   \n",
              "American_Staffordshire_terrier   8.333333         7.0         1.0   \n",
              "Angora                           8.000000         9.0         1.0   \n",
              "Appenzeller                      7.000000        18.0         1.0   \n",
              "\n",
              "                                prediction1_confidence  \\\n",
              "prediction2                                              \n",
              "Afghan_hound                                  0.714409   \n",
              "Airedale                                      0.496058   \n",
              "American_Staffordshire_terrier                0.700953   \n",
              "Angora                                        0.492094   \n",
              "Appenzeller                                   0.975096   \n",
              "\n",
              "                                prediction2_confidence  \\\n",
              "prediction2                                              \n",
              "Afghan_hound                                  0.066163   \n",
              "Airedale                                      0.120932   \n",
              "American_Staffordshire_terrier                0.193776   \n",
              "Angora                                        0.231362   \n",
              "Appenzeller                                   0.014578   \n",
              "\n",
              "                                prediction3_confidence     favorites  \\\n",
              "prediction2                                                            \n",
              "Afghan_hound                                  0.028413   3516.000000   \n",
              "Airedale                                      0.054355   2852.000000   \n",
              "American_Staffordshire_terrier                0.063281  13823.666667   \n",
              "Angora                                        0.109963  26193.000000   \n",
              "Appenzeller                                   0.005943   4489.000000   \n",
              "\n",
              "                                retweets  Rating  \n",
              "prediction2                                       \n",
              "Afghan_hound                      1127.0    1.20  \n",
              "Airedale                           779.0    0.90  \n",
              "American_Staffordshire_terrier    7418.0    1.20  \n",
              "Angora                            8594.5    1.25  \n",
              "Appenzeller                       1620.0    1.10  "
            ]
          },
          "execution_count": 94,
          "metadata": {},
          "output_type": "execute_result"
        }
      ],
      "source": [
        "df_dog_breed = twitter_archive_master.groupby('prediction2').mean()\n",
        "df_dog_breed.head()"
      ]
    },
    {
      "cell_type": "code",
      "execution_count": null,
      "metadata": {
        "id": "j4OFdnf7PbJQ",
        "outputId": "60a967f9-4dfc-43f1-8ad2-508da994887f"
      },
      "outputs": [
        {
          "data": {
            "text/plain": [
              "prediction2\n",
              "boathouse       1.30\n",
              "dalmatian       1.30\n",
              "ice_bear        1.30\n",
              "necklace        1.30\n",
              "vizsla          1.35\n",
              "comic_book      1.40\n",
              "fountain        1.40\n",
              "oscilloscope    1.40\n",
              "printer         1.40\n",
              "palace          1.40\n",
              "Name: Rating, dtype: float64"
            ]
          },
          "execution_count": 95,
          "metadata": {},
          "output_type": "execute_result"
        }
      ],
      "source": [
        "df_dog_breed_sorted = df_dog_breed['Rating'].sort_values()\n",
        "\n",
        "df_dog_breed_sorted.tail(10)"
      ]
    },
    {
      "cell_type": "markdown",
      "metadata": {
        "id": "Sz4WQk6uPbJQ"
      },
      "source": [
        "#### 3rd Prediction"
      ]
    },
    {
      "cell_type": "code",
      "execution_count": null,
      "metadata": {
        "id": "vjnL9bEOPbJR",
        "outputId": "fdc7606e-1559-41f7-e132-74329e811259"
      },
      "outputs": [
        {
          "data": {
            "text/html": [
              "<div>\n",
              "<style scoped>\n",
              "    .dataframe tbody tr th:only-of-type {\n",
              "        vertical-align: middle;\n",
              "    }\n",
              "\n",
              "    .dataframe tbody tr th {\n",
              "        vertical-align: top;\n",
              "    }\n",
              "\n",
              "    .dataframe thead th {\n",
              "        text-align: right;\n",
              "    }\n",
              "</style>\n",
              "<table border=\"1\" class=\"dataframe\">\n",
              "  <thead>\n",
              "    <tr style=\"text-align: right;\">\n",
              "      <th></th>\n",
              "      <th>tweet_id</th>\n",
              "      <th>in_reply_to_status_id</th>\n",
              "      <th>in_reply_to_user_id</th>\n",
              "      <th>rating_numerator</th>\n",
              "      <th>rating_denominator</th>\n",
              "      <th>tweet_month</th>\n",
              "      <th>tweet_year</th>\n",
              "      <th>tweet_day</th>\n",
              "      <th>tweet_Hour</th>\n",
              "      <th>img_number</th>\n",
              "      <th>prediction1_confidence</th>\n",
              "      <th>prediction2_confidence</th>\n",
              "      <th>prediction3_confidence</th>\n",
              "      <th>favorites</th>\n",
              "      <th>retweets</th>\n",
              "      <th>Rating</th>\n",
              "    </tr>\n",
              "    <tr>\n",
              "      <th>prediction3</th>\n",
              "      <th></th>\n",
              "      <th></th>\n",
              "      <th></th>\n",
              "      <th></th>\n",
              "      <th></th>\n",
              "      <th></th>\n",
              "      <th></th>\n",
              "      <th></th>\n",
              "      <th></th>\n",
              "      <th></th>\n",
              "      <th></th>\n",
              "      <th></th>\n",
              "      <th></th>\n",
              "      <th></th>\n",
              "      <th></th>\n",
              "      <th></th>\n",
              "    </tr>\n",
              "  </thead>\n",
              "  <tbody>\n",
              "    <tr>\n",
              "      <th>Afghan_hound</th>\n",
              "      <td>6.725950e+17</td>\n",
              "      <td>NaN</td>\n",
              "      <td>NaN</td>\n",
              "      <td>9.0</td>\n",
              "      <td>10.0</td>\n",
              "      <td>12.0</td>\n",
              "      <td>2015.0</td>\n",
              "      <td>4.0</td>\n",
              "      <td>1.0</td>\n",
              "      <td>1.0</td>\n",
              "      <td>0.755945</td>\n",
              "      <td>0.082337</td>\n",
              "      <td>0.027037</td>\n",
              "      <td>1411.0</td>\n",
              "      <td>661.0</td>\n",
              "      <td>0.90</td>\n",
              "    </tr>\n",
              "    <tr>\n",
              "      <th>Airedale</th>\n",
              "      <td>6.800157e+17</td>\n",
              "      <td>NaN</td>\n",
              "      <td>NaN</td>\n",
              "      <td>11.5</td>\n",
              "      <td>10.0</td>\n",
              "      <td>12.0</td>\n",
              "      <td>2015.0</td>\n",
              "      <td>24.0</td>\n",
              "      <td>12.5</td>\n",
              "      <td>1.0</td>\n",
              "      <td>0.309860</td>\n",
              "      <td>0.245941</td>\n",
              "      <td>0.135306</td>\n",
              "      <td>2719.5</td>\n",
              "      <td>779.0</td>\n",
              "      <td>1.15</td>\n",
              "    </tr>\n",
              "    <tr>\n",
              "      <th>American_Staffordshire_terrier</th>\n",
              "      <td>8.149865e+17</td>\n",
              "      <td>NaN</td>\n",
              "      <td>NaN</td>\n",
              "      <td>11.0</td>\n",
              "      <td>10.0</td>\n",
              "      <td>12.0</td>\n",
              "      <td>2016.0</td>\n",
              "      <td>31.0</td>\n",
              "      <td>0.0</td>\n",
              "      <td>1.0</td>\n",
              "      <td>0.999828</td>\n",
              "      <td>0.000068</td>\n",
              "      <td>0.000034</td>\n",
              "      <td>8485.0</td>\n",
              "      <td>1505.0</td>\n",
              "      <td>1.10</td>\n",
              "    </tr>\n",
              "    <tr>\n",
              "      <th>Appenzeller</th>\n",
              "      <td>7.073159e+17</td>\n",
              "      <td>NaN</td>\n",
              "      <td>NaN</td>\n",
              "      <td>10.0</td>\n",
              "      <td>10.0</td>\n",
              "      <td>3.0</td>\n",
              "      <td>2016.0</td>\n",
              "      <td>8.0</td>\n",
              "      <td>21.0</td>\n",
              "      <td>2.0</td>\n",
              "      <td>0.979235</td>\n",
              "      <td>0.011037</td>\n",
              "      <td>0.003971</td>\n",
              "      <td>2698.0</td>\n",
              "      <td>727.0</td>\n",
              "      <td>1.00</td>\n",
              "    </tr>\n",
              "    <tr>\n",
              "      <th>Arabian_camel</th>\n",
              "      <td>6.881794e+17</td>\n",
              "      <td>NaN</td>\n",
              "      <td>NaN</td>\n",
              "      <td>10.0</td>\n",
              "      <td>10.0</td>\n",
              "      <td>1.0</td>\n",
              "      <td>2016.0</td>\n",
              "      <td>16.0</td>\n",
              "      <td>2.0</td>\n",
              "      <td>1.0</td>\n",
              "      <td>0.811520</td>\n",
              "      <td>0.024820</td>\n",
              "      <td>0.015155</td>\n",
              "      <td>2328.0</td>\n",
              "      <td>669.0</td>\n",
              "      <td>1.00</td>\n",
              "    </tr>\n",
              "  </tbody>\n",
              "</table>\n",
              "</div>"
            ],
            "text/plain": [
              "                                    tweet_id  in_reply_to_status_id  \\\n",
              "prediction3                                                           \n",
              "Afghan_hound                    6.725950e+17                    NaN   \n",
              "Airedale                        6.800157e+17                    NaN   \n",
              "American_Staffordshire_terrier  8.149865e+17                    NaN   \n",
              "Appenzeller                     7.073159e+17                    NaN   \n",
              "Arabian_camel                   6.881794e+17                    NaN   \n",
              "\n",
              "                                in_reply_to_user_id  rating_numerator  \\\n",
              "prediction3                                                             \n",
              "Afghan_hound                                    NaN               9.0   \n",
              "Airedale                                        NaN              11.5   \n",
              "American_Staffordshire_terrier                  NaN              11.0   \n",
              "Appenzeller                                     NaN              10.0   \n",
              "Arabian_camel                                   NaN              10.0   \n",
              "\n",
              "                                rating_denominator  tweet_month  tweet_year  \\\n",
              "prediction3                                                                   \n",
              "Afghan_hound                                  10.0         12.0      2015.0   \n",
              "Airedale                                      10.0         12.0      2015.0   \n",
              "American_Staffordshire_terrier                10.0         12.0      2016.0   \n",
              "Appenzeller                                   10.0          3.0      2016.0   \n",
              "Arabian_camel                                 10.0          1.0      2016.0   \n",
              "\n",
              "                                tweet_day  tweet_Hour  img_number  \\\n",
              "prediction3                                                         \n",
              "Afghan_hound                          4.0         1.0         1.0   \n",
              "Airedale                             24.0        12.5         1.0   \n",
              "American_Staffordshire_terrier       31.0         0.0         1.0   \n",
              "Appenzeller                           8.0        21.0         2.0   \n",
              "Arabian_camel                        16.0         2.0         1.0   \n",
              "\n",
              "                                prediction1_confidence  \\\n",
              "prediction3                                              \n",
              "Afghan_hound                                  0.755945   \n",
              "Airedale                                      0.309860   \n",
              "American_Staffordshire_terrier                0.999828   \n",
              "Appenzeller                                   0.979235   \n",
              "Arabian_camel                                 0.811520   \n",
              "\n",
              "                                prediction2_confidence  \\\n",
              "prediction3                                              \n",
              "Afghan_hound                                  0.082337   \n",
              "Airedale                                      0.245941   \n",
              "American_Staffordshire_terrier                0.000068   \n",
              "Appenzeller                                   0.011037   \n",
              "Arabian_camel                                 0.024820   \n",
              "\n",
              "                                prediction3_confidence  favorites  retweets  \\\n",
              "prediction3                                                                   \n",
              "Afghan_hound                                  0.027037     1411.0     661.0   \n",
              "Airedale                                      0.135306     2719.5     779.0   \n",
              "American_Staffordshire_terrier                0.000034     8485.0    1505.0   \n",
              "Appenzeller                                   0.003971     2698.0     727.0   \n",
              "Arabian_camel                                 0.015155     2328.0     669.0   \n",
              "\n",
              "                                Rating  \n",
              "prediction3                             \n",
              "Afghan_hound                      0.90  \n",
              "Airedale                          1.15  \n",
              "American_Staffordshire_terrier    1.10  \n",
              "Appenzeller                       1.00  \n",
              "Arabian_camel                     1.00  "
            ]
          },
          "execution_count": 96,
          "metadata": {},
          "output_type": "execute_result"
        }
      ],
      "source": [
        "df_dog_breed = twitter_archive_master.groupby('prediction3').mean()\n",
        "df_dog_breed.head()"
      ]
    },
    {
      "cell_type": "code",
      "execution_count": null,
      "metadata": {
        "scrolled": false,
        "id": "yZKAm2rsPbJR",
        "outputId": "a2bc468d-90ef-44bb-e5d4-7558f01c0a51"
      },
      "outputs": [
        {
          "data": {
            "text/plain": [
              "prediction3\n",
              "desktop_computer           1.400000\n",
              "brass                      1.400000\n",
              "hand-held_computer         1.400000\n",
              "black-and-tan_coonhound    1.400000\n",
              "Lhasa                      1.666667\n",
              "Name: Rating, dtype: float64"
            ]
          },
          "execution_count": 97,
          "metadata": {},
          "output_type": "execute_result"
        }
      ],
      "source": [
        "df_dog_breed_sorted = df_dog_breed['Rating'].sort_values()\n",
        "\n",
        "df_dog_breed_sorted.tail()"
      ]
    },
    {
      "cell_type": "markdown",
      "metadata": {
        "id": "9ed7LDu7PbJS"
      },
      "source": [
        "###  * The best-rated dog breed in the 1st prediction is Clumber.\n",
        "###  * The best-rated dog breed in the 2nd prediction are comic_book, fountain, oscilloscope, printer, and palace.   \n",
        "###  * The best-rated dog breed in the 3rd prediction is Lhasa."
      ]
    },
    {
      "cell_type": "markdown",
      "metadata": {
        "id": "8iiCEtOePbJS"
      },
      "source": [
        "### Insight #3: Dog types"
      ]
    },
    {
      "cell_type": "code",
      "execution_count": null,
      "metadata": {
        "scrolled": true,
        "id": "cdUwVdOCPbJT",
        "outputId": "e2ecbbbb-98f9-4f95-de97-822cfbd04d88"
      },
      "outputs": [
        {
          "data": {
            "text/plain": [
              "pupper     257\n",
              "doggo       97\n",
              "puppo       30\n",
              "floofer     10\n",
              "Name: dog_type, dtype: int64"
            ]
          },
          "execution_count": 98,
          "metadata": {},
          "output_type": "execute_result"
        }
      ],
      "source": [
        "twitter_archive_master.dog_type.value_counts()\n"
      ]
    },
    {
      "cell_type": "code",
      "execution_count": null,
      "metadata": {
        "scrolled": true,
        "id": "02Wd7_3PPbJT",
        "outputId": "8dcfa5da-9661-4202-96d4-ff38d0cea86d"
      },
      "outputs": [
        {
          "data": {
            "text/plain": [
              "<function matplotlib.pyplot.show(*args, **kw)>"
            ]
          },
          "execution_count": 99,
          "metadata": {},
          "output_type": "execute_result"
        },
        {
          "data": {
            "image/png": "[encoded data removed]",
            "text/plain": [
              "<matplotlib.figure.Figure at 0x7f2b237fb860>"
            ]
          },
          "metadata": {
            "needs_background": "light"
          },
          "output_type": "display_data"
        }
      ],
      "source": [
        "# Plot a bar plot\n",
        "df_dog_type = pd.DataFrame(twitter_archive_master.dog_type.value_counts())\n",
        "x = df_dog_type.index\n",
        "y = df_dog_type.dog_type\n",
        "plt.barh(x,y, color='green')\n",
        "plt.xlabel(\"Frequeny\")\n",
        "plt.ylabel(\"Dog type\")\n",
        "plt.title(\"Dog Types\")\n",
        "plt.show"
      ]
    },
    {
      "cell_type": "markdown",
      "metadata": {
        "id": "mxQDatNzPbJT"
      },
      "source": [
        "#### The type pupper is the most popular dog type"
      ]
    },
    {
      "cell_type": "markdown",
      "metadata": {
        "collapsed": true,
        "id": "1VpKoFPDPbJU"
      },
      "source": [
        "### Conclusion"
      ]
    },
    {
      "cell_type": "markdown",
      "metadata": {
        "id": "Abts4w5tPbJU"
      },
      "source": [
        "In this project, we went through the whole process of Data Wrangling from Gathering Data through differents methods to Assessing it manually and programatically and finaly Cleaning it.\n",
        "Then we used this data to conduct some analysis and visualisations.\n"
      ]
    }
  ],
  "metadata": {
    "extensions": {
      "jupyter_dashboards": {
        "activeView": "report_default",
        "version": 1,
        "views": {
          "grid_default": {
            "cellMargin": 10,
            "defaultCellHeight": 20,
            "maxColumns": 12,
            "name": "grid",
            "type": "grid"
          },
          "report_default": {
            "name": "report",
            "type": "report"
          }
        }
      }
    },
    "kernelspec": {
      "display_name": "Python 3",
      "language": "python",
      "name": "python3"
    },
    "language_info": {
      "codemirror_mode": {
        "name": "ipython",
        "version": 3
      },
      "file_extension": ".py",
      "mimetype": "text/x-python",
      "name": "python",
      "nbconvert_exporter": "python",
      "pygments_lexer": "ipython3",
      "version": "3.6.3"
    },
    "colab": {
      "provenance": []
    }
  },
  "nbformat": 4,
  "nbformat_minor": 0
}